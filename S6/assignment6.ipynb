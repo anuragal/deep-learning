{
  "nbformat": 4,
  "nbformat_minor": 0,
  "metadata": {
    "colab": {
      "name": "EVA4S5F10.ipynb",
      "provenance": [],
      "collapsed_sections": [],
      "include_colab_link": true
    },
    "kernelspec": {
      "name": "python3",
      "display_name": "Python 3"
    },
    "accelerator": "GPU"
  },
  "cells": [
    {
      "cell_type": "markdown",
      "metadata": {
        "id": "view-in-github",
        "colab_type": "text"
      },
      "source": [
        "<a href=\"https://colab.research.google.com/github/anuragal/deep-learning/blob/master/S6/assignment6.ipynb\" target=\"_parent\"><img src=\"https://colab.research.google.com/assets/colab-badge.svg\" alt=\"Open In Colab\"/></a>"
      ]
    },
    {
      "cell_type": "markdown",
      "metadata": {
        "id": "aO-7t1Y7-hV4",
        "colab_type": "text"
      },
      "source": [
        "# Import Libraries"
      ]
    },
    {
      "cell_type": "code",
      "metadata": {
        "id": "8kH16rnZ7wt_",
        "colab_type": "code",
        "colab": {}
      },
      "source": [
        "from __future__ import print_function\n",
        "import torch\n",
        "import torch.nn as nn\n",
        "import torch.nn.functional as F\n",
        "import torch.optim as optim\n",
        "from torch.optim.lr_scheduler import StepLR\n",
        "from torchvision import datasets, transforms"
      ],
      "execution_count": 0,
      "outputs": []
    },
    {
      "cell_type": "markdown",
      "metadata": {
        "id": "ky3f_Odl-7um",
        "colab_type": "text"
      },
      "source": [
        "## Data Transformations\n",
        "\n",
        "We first start with defining our data transformations. We need to think what our data is and how can we augment it to correct represent images which it might not see otherwise. \n"
      ]
    },
    {
      "cell_type": "code",
      "metadata": {
        "id": "YtssFUKb-jqx",
        "colab_type": "code",
        "colab": {}
      },
      "source": [
        "# Train Phase transformations\n",
        "train_transforms = transforms.Compose([\n",
        "                                      #  transforms.Resize((28, 28)),\n",
        "                                      #  transforms.ColorJitter(brightness=0.10, contrast=0.1, saturation=0.10, hue=0.1),\n",
        "                                       transforms.RandomRotation((-7.0, 7.0), fill=(1,)),\n",
        "                                       transforms.ToTensor(),\n",
        "                                       transforms.Normalize((0.1307,), (0.3081,)) # The mean and std have to be sequences (e.g., tuples), therefore you should add a comma after the values. \n",
        "                                       # Note the difference between (0.1307) and (0.1307,)\n",
        "                                       ])\n",
        "\n",
        "# Test Phase transformations\n",
        "test_transforms = transforms.Compose([\n",
        "                                      #  transforms.Resize((28, 28)),\n",
        "                                      #  transforms.ColorJitter(brightness=0.10, contrast=0.1, saturation=0.10, hue=0.1),\n",
        "                                       transforms.ToTensor(),\n",
        "                                       transforms.Normalize((0.1307,), (0.3081,))\n",
        "                                       ])\n"
      ],
      "execution_count": 0,
      "outputs": []
    },
    {
      "cell_type": "markdown",
      "metadata": {
        "id": "oQciFYo2B1mO",
        "colab_type": "text"
      },
      "source": [
        "# Dataset and Creating Train/Test Split"
      ]
    },
    {
      "cell_type": "code",
      "metadata": {
        "id": "_4A84rlfDA23",
        "colab_type": "code",
        "colab": {}
      },
      "source": [
        "train = datasets.MNIST('./data', train=True, download=True, transform=train_transforms)\n",
        "test = datasets.MNIST('./data', train=False, download=True, transform=test_transforms)"
      ],
      "execution_count": 0,
      "outputs": []
    },
    {
      "cell_type": "markdown",
      "metadata": {
        "id": "qgldp_3-Dn0c",
        "colab_type": "text"
      },
      "source": [
        "# Dataloader Arguments & Test/Train Dataloaders\n"
      ]
    },
    {
      "cell_type": "code",
      "metadata": {
        "id": "C8OLDR79DrHG",
        "colab_type": "code",
        "outputId": "4ad0fdeb-b639-4518-9283-efd6d9b0bc0c",
        "colab": {
          "base_uri": "https://localhost:8080/",
          "height": 35
        }
      },
      "source": [
        "SEED = 1\n",
        "\n",
        "# CUDA?\n",
        "cuda = torch.cuda.is_available()\n",
        "print(\"CUDA Available?\", cuda)\n",
        "\n",
        "# For reproducibility\n",
        "torch.manual_seed(SEED)\n",
        "\n",
        "if cuda:\n",
        "    torch.cuda.manual_seed(SEED)\n",
        "\n",
        "# dataloader arguments - something you'll fetch these from cmdprmt\n",
        "dataloader_args = dict(shuffle=True, batch_size=128, num_workers=4, pin_memory=True) if cuda else dict(shuffle=True, batch_size=64)\n",
        "\n",
        "# train dataloader\n",
        "train_loader = torch.utils.data.DataLoader(train, **dataloader_args)\n",
        "\n",
        "# test dataloader\n",
        "test_loader = torch.utils.data.DataLoader(test, **dataloader_args)"
      ],
      "execution_count": 208,
      "outputs": [
        {
          "output_type": "stream",
          "text": [
            "CUDA Available? True\n"
          ],
          "name": "stdout"
        }
      ]
    },
    {
      "cell_type": "markdown",
      "metadata": {
        "id": "zZzbaZURi9vw",
        "colab_type": "text"
      },
      "source": [
        "# The overrides\n",
        "\n",
        "Override Batchnorm to create ghostbatchnorm"
      ]
    },
    {
      "cell_type": "code",
      "metadata": {
        "id": "Q6BkGp3zjTbb",
        "colab_type": "code",
        "colab": {}
      },
      "source": [
        "class BatchNorm(nn.BatchNorm2d):\n",
        "    def __init__(self, num_features, eps=1e-05, momentum=0.1, weight=True, bias=True):\n",
        "        super().__init__(num_features, eps=eps, momentum=momentum)\n",
        "        self.weight.data.fill_(1.0)\n",
        "        self.bias.data.fill_(0.0)\n",
        "        self.weight.requires_grad = weight\n",
        "        self.bias.requires_grad = bias\n",
        "\n",
        "\n",
        "class GhostBatchNorm(BatchNorm):\n",
        "    def __init__(self, num_features, num_splits, **kw):\n",
        "        super().__init__(num_features, **kw)\n",
        "        self.num_splits = num_splits\n",
        "        self.register_buffer('running_mean', torch.zeros(num_features * self.num_splits))\n",
        "        self.register_buffer('running_var', torch.ones(num_features * self.num_splits))\n",
        "\n",
        "    def train(self, mode=True):\n",
        "        if (self.training is True) and (mode is False):  # lazily collate stats when we are going to use them\n",
        "            self.running_mean = torch.mean(self.running_mean.view(self.num_splits, self.num_features), dim=0).repeat(\n",
        "                self.num_splits)\n",
        "            self.running_var = torch.mean(self.running_var.view(self.num_splits, self.num_features), dim=0).repeat(\n",
        "                self.num_splits)\n",
        "        return super().train(mode)\n",
        "\n",
        "    def forward(self, input):\n",
        "        N, C, H, W = input.shape\n",
        "        if self.training or not self.track_running_stats:\n",
        "            return F.batch_norm(\n",
        "                input.view(-1, C * self.num_splits, H, W), self.running_mean, self.running_var,\n",
        "                self.weight.repeat(self.num_splits), self.bias.repeat(self.num_splits),\n",
        "                True, self.momentum, self.eps).view(N, C, H, W)\n",
        "        else:\n",
        "            return F.batch_norm(\n",
        "                input, self.running_mean[:self.num_features], self.running_var[:self.num_features],\n",
        "                self.weight, self.bias, False, self.momentum, self.eps)"
      ],
      "execution_count": 0,
      "outputs": []
    },
    {
      "cell_type": "markdown",
      "metadata": {
        "id": "ubQL3H6RJL3h",
        "colab_type": "text"
      },
      "source": [
        "# The model\n",
        "Let's start with the model we first saw"
      ]
    },
    {
      "cell_type": "code",
      "metadata": {
        "id": "7FXQlB9kH1ov",
        "colab_type": "code",
        "colab": {}
      },
      "source": [
        "class Net(nn.Module):\n",
        "    def __init__(self):\n",
        "        super(Net, self).__init__()\n",
        "        self.dropout_value = 0.1\n",
        "        self.ghostbatchnorm = False\n",
        "        self.num_splits = 1\n",
        "\n",
        "        # Input Block\n",
        "        self.convblock1 = nn.Sequential(\n",
        "            nn.Conv2d(in_channels=1, out_channels=16, kernel_size=(3, 3), padding=0, bias=False),\n",
        "            self.batchnorm(16),\n",
        "            nn.ReLU(),\n",
        "            nn.Dropout(self.dropout_value)\n",
        "        ) # In: 28x28x1 | Out: 26x26x8 | RF: 3\n",
        "\n",
        "        # CONVOLUTION BLOCK 1\n",
        "        self.convblock2 = nn.Sequential(\n",
        "            nn.Conv2d(in_channels=16, out_channels=12, kernel_size=(3, 3), padding=0, bias=False),\n",
        "            self.batchnorm(12),\n",
        "            nn.ReLU(),\n",
        "            nn.Dropout(self.dropout_value)\n",
        "        ) # In: 26x26x8 | Out: 24x24x10 | RF: 5\n",
        "\n",
        "        self.convblock3 = nn.Sequential(\n",
        "            nn.Conv2d(in_channels=12, out_channels=12, kernel_size=(3, 3), padding=0, bias=False),\n",
        "        ) # In: 24x24x10 | Out: 22x22x12 | RF: 7\n",
        "\n",
        "         # TRANSITION BLOCK 1\n",
        "        self.pool1 = nn.MaxPool2d(2, 2) # In: 22x22x12 | Out: 11x11x12 | RF: 8\n",
        "\n",
        "        # CONVOLUTION BLOCK 2\n",
        "        self.convblock5 = nn.Sequential(\n",
        "            nn.Conv2d(in_channels=12, out_channels=16, kernel_size=(3, 3), padding=0, bias=False),\n",
        "            self.batchnorm(16),\n",
        "            nn.ReLU(),\n",
        "            nn.Dropout(self.dropout_value)\n",
        "        ) # In: 11x11x12 | Out: 9x9x16 | RF: 12\n",
        "\n",
        "        self.convblock6 = nn.Sequential(\n",
        "            nn.Conv2d(in_channels=16, out_channels=16, kernel_size=(3, 3), padding=0, bias=False),\n",
        "            self.batchnorm(16),\n",
        "            nn.ReLU(),\n",
        "            nn.Dropout(self.dropout_value)\n",
        "        ) # In: 9x9x16 | Out: 7x7x16 | RF: 16\n",
        "        self.convblock7 = nn.Sequential(\n",
        "            nn.Conv2d(in_channels=16, out_channels=16, kernel_size=(3, 3), padding=0, bias=False),\n",
        "            self.batchnorm(16),\n",
        "            nn.ReLU(),\n",
        "        ) # In: 7x7x16 | Out: 5x5x16 | RF: 20\n",
        "\n",
        "        # OUTPUT BLOCK\n",
        "        self.gap = nn.Sequential(\n",
        "            nn.AdaptiveAvgPool2d(output_size=1)\n",
        "        ) # In: 5x5x16 | Out: 1x1x16 | RF: 28\n",
        "        self.convblock8 = nn.Sequential(\n",
        "            nn.Conv2d(in_channels=16, out_channels=10, kernel_size=(1, 1), padding=0, bias=False),\n",
        "            # nn.ReLU() NEVER!\n",
        "        ) # In: 1x1x16 | Out: 1x1x10 | RF: 28\n",
        "\n",
        "\n",
        "    def forward(self, x):\n",
        "        x = self.convblock1(x)\n",
        "        x = self.convblock2(x)\n",
        "        x = self.convblock3(x)\n",
        "        x = self.pool1(x)\n",
        "        x = self.convblock5(x)\n",
        "        x = self.convblock6(x)\n",
        "        x = self.convblock7(x)\n",
        "        x = self.gap(x)\n",
        "        x = self.convblock8(x)\n",
        "        x = x.view(-1, 10)\n",
        "        return F.log_softmax(x, dim=-1)\n",
        "\n",
        "    def set_ghostbatchnorm(self, is_ghostbatchnorm = False, splits = 1):\n",
        "        self.ghostbatchnorm = is_ghostbatchnorm\n",
        "        self.num_splits = splits\n",
        "\n",
        "    def batchnorm(self, num_features):\n",
        "        if self.ghostbatchnorm and self.ghostbatchnorm == True:\n",
        "            return GhostBatchNorm(num_features, self.num_splits)\n",
        "        else:\n",
        "            return BatchNorm(num_features)"
      ],
      "execution_count": 0,
      "outputs": []
    },
    {
      "cell_type": "markdown",
      "metadata": {
        "id": "M3-vp8X9LCWo",
        "colab_type": "text"
      },
      "source": [
        "# Model Params\n",
        "Can't emphasize on how important viewing Model Summary is. \n",
        "Unfortunately, there is no in-built model visualizer, so we have to take external help"
      ]
    },
    {
      "cell_type": "code",
      "metadata": {
        "id": "5skB97zIJQQe",
        "colab_type": "code",
        "outputId": "763c7dd0-1f75-41e8-96f8-64e722d9e90d",
        "colab": {
          "base_uri": "https://localhost:8080/",
          "height": 676
        }
      },
      "source": [
        "!pip install torchsummary\n",
        "from torchsummary import summary\n",
        "use_cuda = torch.cuda.is_available()\n",
        "device = torch.device(\"cuda\" if use_cuda else \"cpu\")\n",
        "print(device)\n",
        "model = Net().to(device)\n",
        "summary(model, input_size=(1, 28, 28))"
      ],
      "execution_count": 211,
      "outputs": [
        {
          "output_type": "stream",
          "text": [
            "Requirement already satisfied: torchsummary in /usr/local/lib/python3.6/dist-packages (1.5.1)\n",
            "cuda\n",
            "----------------------------------------------------------------\n",
            "        Layer (type)               Output Shape         Param #\n",
            "================================================================\n",
            "            Conv2d-1           [-1, 16, 26, 26]             144\n",
            "         BatchNorm-2           [-1, 16, 26, 26]              32\n",
            "              ReLU-3           [-1, 16, 26, 26]               0\n",
            "           Dropout-4           [-1, 16, 26, 26]               0\n",
            "            Conv2d-5           [-1, 12, 24, 24]           1,728\n",
            "         BatchNorm-6           [-1, 12, 24, 24]              24\n",
            "              ReLU-7           [-1, 12, 24, 24]               0\n",
            "           Dropout-8           [-1, 12, 24, 24]               0\n",
            "            Conv2d-9           [-1, 12, 22, 22]           1,296\n",
            "        MaxPool2d-10           [-1, 12, 11, 11]               0\n",
            "           Conv2d-11             [-1, 16, 9, 9]           1,728\n",
            "        BatchNorm-12             [-1, 16, 9, 9]              32\n",
            "             ReLU-13             [-1, 16, 9, 9]               0\n",
            "          Dropout-14             [-1, 16, 9, 9]               0\n",
            "           Conv2d-15             [-1, 16, 7, 7]           2,304\n",
            "        BatchNorm-16             [-1, 16, 7, 7]              32\n",
            "             ReLU-17             [-1, 16, 7, 7]               0\n",
            "          Dropout-18             [-1, 16, 7, 7]               0\n",
            "           Conv2d-19             [-1, 16, 5, 5]           2,304\n",
            "        BatchNorm-20             [-1, 16, 5, 5]              32\n",
            "             ReLU-21             [-1, 16, 5, 5]               0\n",
            "AdaptiveAvgPool2d-22             [-1, 16, 1, 1]               0\n",
            "           Conv2d-23             [-1, 10, 1, 1]             160\n",
            "================================================================\n",
            "Total params: 9,816\n",
            "Trainable params: 9,816\n",
            "Non-trainable params: 0\n",
            "----------------------------------------------------------------\n",
            "Input size (MB): 0.00\n",
            "Forward/backward pass size (MB): 0.67\n",
            "Params size (MB): 0.04\n",
            "Estimated Total Size (MB): 0.71\n",
            "----------------------------------------------------------------\n"
          ],
          "name": "stdout"
        }
      ]
    },
    {
      "cell_type": "markdown",
      "metadata": {
        "id": "1__x_SbrL7z3",
        "colab_type": "text"
      },
      "source": [
        "# Training and Testing\n",
        "\n",
        "Looking at logs can be boring, so we'll introduce **tqdm** progressbar to get cooler logs. \n",
        "\n",
        "Let's write train and test functions"
      ]
    },
    {
      "cell_type": "code",
      "metadata": {
        "id": "fbkF2nN_LYIb",
        "colab_type": "code",
        "colab": {}
      },
      "source": [
        "from tqdm import tqdm\n",
        "\n",
        "train_losses = []\n",
        "train_acc = []\n",
        "\n",
        "def train(model, device, train_loader, optimizer, epoch, L1 = 0):\n",
        "  model.train()\n",
        "  pbar = tqdm(train_loader)\n",
        "  correct = 0\n",
        "  processed = 0\n",
        "  for batch_idx, (data, target) in enumerate(pbar):\n",
        "    # get samples\n",
        "    data, target = data.to(device), target.to(device)\n",
        "\n",
        "    # Init\n",
        "    optimizer.zero_grad()\n",
        "    # In PyTorch, we need to set the gradients to zero before starting to do backpropragation because PyTorch accumulates the gradients on subsequent backward passes. \n",
        "    # Because of this, when you start your training loop, ideally you should zero out the gradients so that you do the parameter update correctly.\n",
        "\n",
        "    # Predict\n",
        "    y_pred = model(data)\n",
        "\n",
        "    # Calculate loss\n",
        "    loss = F.nll_loss(y_pred, target)\n",
        "    if L1 > 0:\n",
        "      l1_crit = nn.L1Loss(size_average = False).to(device)\n",
        "      l1_loss = 0\n",
        "      for param in model.parameters():\n",
        "        zero_vector = torch.rand_like(param) * 0\n",
        "        l1_loss += l1_crit(param, zero_vector)\n",
        "      factor = 0.0005\n",
        "      loss += factor * l1_loss\n",
        "    train_losses.append(loss)\n",
        "\n",
        "    # Backpropagation\n",
        "    loss.backward()\n",
        "    optimizer.step()\n",
        "\n",
        "    # Update pbar-tqdm\n",
        "    pred = y_pred.argmax(dim=1, keepdim=True)  # get the index of the max log-probability\n",
        "    correct += pred.eq(target.view_as(pred)).sum().item()\n",
        "    processed += len(data)\n",
        "    pbar.set_description(desc= f'Loss={loss.item()} Batch_id={batch_idx} Accuracy={100*correct/processed:0.2f}')\n",
        "    train_acc.append(100*correct/processed)\n",
        "\n",
        "def test(model, device, test_loader, test_losses, test_acc, misclassified, cal_misclassified = False):\n",
        "    model.eval()\n",
        "    test_loss = 0\n",
        "    correct = 0\n",
        "    with torch.no_grad():\n",
        "        for data, target in test_loader:\n",
        "            data, target = data.to(device), target.to(device)\n",
        "            output = model(data)\n",
        "            test_loss += F.nll_loss(output, target, reduction='sum').item()  # sum up batch loss\n",
        "            pred = output.argmax(dim=1, keepdim=True)  # get the index of the max log-probability\n",
        "            if cal_misclassified == True:\n",
        "                for i in range(len(pred)):\n",
        "                    if pred[i] != target[i]:\n",
        "                        misclassified.append([data[i], pred[i], target[i]])\n",
        "            correct += pred.eq(target.view_as(pred)).sum().item()\n",
        "\n",
        "    test_loss /= len(test_loader.dataset)\n",
        "    test_losses.append(test_loss)\n",
        "\n",
        "    print('\\nTest set: Average loss: {:.4f}, Accuracy: {}/{} ({:.2f}%)\\n'.format(\n",
        "        test_loss, correct, len(test_loader.dataset),\n",
        "        100. * correct / len(test_loader.dataset)))\n",
        "    \n",
        "    test_acc.append(100. * correct / len(test_loader.dataset))\n",
        "\n",
        "    return test_losses, test_acc, misclassified"
      ],
      "execution_count": 0,
      "outputs": []
    },
    {
      "cell_type": "code",
      "metadata": {
        "id": "aE5Le6FYHhc8",
        "colab_type": "code",
        "colab": {}
      },
      "source": [
        "from torch.optim.lr_scheduler import StepLR\n",
        "\n",
        "matrix_data = {}\n",
        "\n",
        "EPOCHS = 25\n",
        "\n",
        "def run_model(heading, data_key, is_GBN, l1_decay, l2_decay, cal_misclassified = False):\n",
        "    print(heading)\n",
        "    net_model = Net()\n",
        "    if is_GBN == True:\n",
        "        net_model.set_ghostbatchnorm(True, 8)\n",
        "    else:\n",
        "        net_model.set_ghostbatchnorm(False)\n",
        "    model =  net_model.to(device)\n",
        "    optimizer = optim.SGD(model.parameters(), lr=0.01, momentum=0.9, weight_decay = l2_decay)\n",
        "    scheduler = StepLR(optimizer, step_size=6, gamma=0.1)\n",
        "\n",
        "    test_losses = []\n",
        "    test_acc = []\n",
        "    misclassified = []\n",
        "    for epoch in range(EPOCHS):\n",
        "        print(\"EPOCH:\", epoch + 1)\n",
        "        train(model, device, train_loader, optimizer, epoch, L1 = l1_decay)\n",
        "        # scheduler.step()\n",
        "        test_losses, test_acc, misclassified = test(model, device, test_loader, test_losses, test_acc, misclassified, cal_misclassified = cal_misclassified)\n",
        "    matrix_data[data_key] = {\"loss\":test_losses, \"accuracy\":test_acc, \"misclassified\":misclassified}\n",
        "\n",
        "run_model(\"**** Without L1/L2 with BN ****\", \"BN\", False, 0, 0)\n",
        "run_model(\"**** Without L1/L2 with GBN ****\", \"GBN\", True, 0, 0)\n",
        "run_model(\"**** With L1 with BN ****\", \"L1BN\", False, 0.00005, 0)\n",
        "run_model(\"**** With L1 with GBN ****\", \"L1GBN\", True, 0.00005, 0)\n",
        "run_model(\"**** With L2 with BN ****\", \"L2BN\", False, 0, 0.0003)\n",
        "run_model(\"**** With L2 with GBN ****\", \"L2GBN\", True, 0, 0.0003)\n",
        "run_model(\"**** With L1L2 with BN ****\", \"L1L2BN\", False, 0.00005, 0.0003, cal_misclassified = True)\n",
        "run_model(\"**** With L1L2 with GBN ****\", \"L1L2GBN\", True, 0.00005, 0.0003, cal_misclassified = True)"
      ],
      "execution_count": 0,
      "outputs": []
    },
    {
      "cell_type": "markdown",
      "metadata": {
        "id": "drokW8wWODKq",
        "colab_type": "text"
      },
      "source": [
        "# Let's plot losses and accuracy\n",
        "\n"
      ]
    },
    {
      "cell_type": "code",
      "metadata": {
        "id": "87RaqGSEOWDe",
        "colab_type": "code",
        "colab": {}
      },
      "source": [
        "# Let's visualize some of the images\n",
        "%matplotlib inline\n",
        "import matplotlib.pyplot as plt\n",
        "\n",
        "def plot_matrix(matrix_data, matrix):\n",
        "    fig = plt.figure(figsize=(10, 10))\n",
        "    \n",
        "    plt.title(f'Validation %s' % (matrix))\n",
        "    plt.xlabel('Epoch')\n",
        "    plt.ylabel(matrix)\n",
        "\n",
        "    plt_tuple = ()\n",
        "    legend_tuple = ()\n",
        "    for key in matrix_data:\n",
        "        if matrix.lower() in matrix_data[key]:\n",
        "            plt_tuple = plt_tuple + (plt.plot(matrix_data[key][matrix.lower()])[0], )\n",
        "            legend_tuple = legend_tuple + (key, )\n",
        "    \n",
        "    plt.legend(plt_tuple, legend_tuple)\n",
        "\n",
        "    fig.savefig(f'val_%s_change.png' % (matrix.lower()))"
      ],
      "execution_count": 0,
      "outputs": []
    },
    {
      "cell_type": "markdown",
      "metadata": {
        "id": "wwT5ppN6oJ31",
        "colab_type": "text"
      },
      "source": [
        "### Plot Loss"
      ]
    },
    {
      "cell_type": "code",
      "metadata": {
        "id": "wjO3RK9UEnvF",
        "colab_type": "code",
        "colab": {}
      },
      "source": [
        "plot_matrix(matrix_data, \"loss\")"
      ],
      "execution_count": 0,
      "outputs": []
    },
    {
      "cell_type": "markdown",
      "metadata": {
        "id": "AjfpKWBEogaV",
        "colab_type": "text"
      },
      "source": [
        "### Plot Accuracy"
      ]
    },
    {
      "cell_type": "code",
      "metadata": {
        "id": "HmzZ8I1pob2B",
        "colab_type": "code",
        "colab": {}
      },
      "source": [
        "plot_matrix(matrix_data, \"accuracy\")"
      ],
      "execution_count": 0,
      "outputs": []
    }
  ]
}
{
  "nbformat": 4,
  "nbformat_minor": 0,
  "metadata": {
    "kernelspec": {
      "name": "python3",
      "display_name": "Python 3"
    },
    "language_info": {
      "codemirror_mode": {
        "name": "ipython",
        "version": 3
      },
      "file_extension": ".py",
      "mimetype": "text/x-python",
      "name": "python",
      "nbconvert_exporter": "python",
      "pygments_lexer": "ipython3",
      "version": "3.6.6"
    },
    "colab": {
      "name": "S10.ipynb",
      "provenance": [],
      "include_colab_link": true
    },
    "accelerator": "GPU"
  },
  "cells": [
    {
      "cell_type": "markdown",
      "metadata": {
        "id": "view-in-github",
        "colab_type": "text"
      },
      "source": [
        "<a href=\"https://colab.research.google.com/github/anuragal/deep-learning/blob/master/S10/S10.ipynb\" target=\"_parent\"><img src=\"https://colab.research.google.com/assets/colab-badge.svg\" alt=\"Open In Colab\"/></a>"
      ]
    },
    {
      "cell_type": "markdown",
      "metadata": {
        "id": "szEZ-AwCdEER",
        "colab_type": "text"
      },
      "source": [
        "## Model"
      ]
    },
    {
      "cell_type": "code",
      "metadata": {
        "id": "ye3wHlAvdI9h",
        "colab_type": "code",
        "colab": {}
      },
      "source": [
        "!pip install albumentations==0.4.5\n",
        "\n",
        "import torch\n",
        "import torch.nn as nn\n",
        "import torch.nn.functional as F\n",
        "\n",
        "!pip install torchsummary\n",
        "from torchsummary import summary\n",
        "\n",
        "from models.resnet18 import ResNet18\n",
        "\n",
        "use_cuda = torch.cuda.is_available()\n",
        "device = torch.device(\"cuda\" if use_cuda else \"cpu\")\n",
        "print(device)\n",
        "model = ResNet18().to(device)\n",
        "summary(model, input_size=(3, 32, 32))"
      ],
      "execution_count": 0,
      "outputs": []
    },
    {
      "cell_type": "markdown",
      "metadata": {
        "id": "YLrvL_fHpoC5",
        "colab_type": "text"
      },
      "source": [
        "## Run the Model"
      ]
    },
    {
      "cell_type": "code",
      "metadata": {
        "id": "YWIDUH8Dhonl",
        "colab_type": "code",
        "colab": {}
      },
      "source": [
        "%matplotlib inline"
      ],
      "execution_count": 0,
      "outputs": []
    },
    {
      "cell_type": "code",
      "metadata": {
        "id": "nizbsvw9poC6",
        "colab_type": "code",
        "colab": {}
      },
      "source": [
        "from dataloader import ImageData\n",
        "from models.resnet18 import ResNet18\n",
        "from datamodel import DataModel\n",
        "\n",
        "# Loading data and transforming it\n",
        "img_data = ImageData()\n",
        "\n",
        "# Choose from \"albumentations\" or \"pytorch\". Default is \"pytorch\"\n",
        "img_data.load(\"albumentations\")\n",
        "\n",
        "# training the dataset and then running test\n",
        "dm = DataModel(img_data, num_of_epochs = 50, cal_misclassified = True)\n",
        "dm.run_model(ResNet18(), device)"
      ],
      "execution_count": 0,
      "outputs": []
    },
    {
      "cell_type": "markdown",
      "metadata": {
        "id": "avY9ZjqcgjMA",
        "colab_type": "text"
      },
      "source": [
        "## Plotting Validation Accuracy"
      ]
    },
    {
      "cell_type": "code",
      "metadata": {
        "id": "QX5FhD-egnxD",
        "colab_type": "code",
        "colab": {}
      },
      "source": [
        "dm.plot_accuracy_graph()"
      ],
      "execution_count": 0,
      "outputs": []
    },
    {
      "cell_type": "markdown",
      "metadata": {
        "id": "1bic0duiiGgq",
        "colab_type": "text"
      },
      "source": [
        "## Plotting Loss Graph"
      ]
    },
    {
      "cell_type": "code",
      "metadata": {
        "id": "waMUb1zHiJpd",
        "colab_type": "code",
        "colab": {}
      },
      "source": [
        "dm.plot_loss_graph()"
      ],
      "execution_count": 0,
      "outputs": []
    },
    {
      "cell_type": "markdown",
      "metadata": {
        "id": "-aLK2qD2YgUn",
        "colab_type": "text"
      },
      "source": [
        "## Plotting Misclassified Images"
      ]
    },
    {
      "cell_type": "code",
      "metadata": {
        "id": "ry7CIIebYly2",
        "colab_type": "code",
        "colab": {}
      },
      "source": [
        "dm.plot_misclassified()"
      ],
      "execution_count": 0,
      "outputs": []
    },
    {
      "cell_type": "code",
      "metadata": {
        "id": "3iPs0atTg6bQ",
        "colab_type": "code",
        "colab": {}
      },
      "source": [
        "dm.plot_GRADcam([\"layer1\",\"layer2\",\"layer3\",\"layer4\"])"
      ],
      "execution_count": 0,
      "outputs": []
    }
  ]
}

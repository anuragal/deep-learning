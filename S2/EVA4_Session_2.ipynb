{
  "nbformat": 4,
  "nbformat_minor": 0,
  "metadata": {
    "colab": {
      "name": "EVA4 - Session 2.ipynb",
      "provenance": [],
      "include_colab_link": true
    },
    "kernelspec": {
      "name": "python3",
      "display_name": "Python 3"
    },
    "accelerator": "GPU"
  },
  "cells": [
    {
      "cell_type": "markdown",
      "metadata": {
        "id": "view-in-github",
        "colab_type": "text"
      },
      "source": [
        "<a href=\"https://colab.research.google.com/github/anuragal/deep-learning/blob/master/S2/EVA4_Session_2.ipynb\" target=\"_parent\"><img src=\"https://colab.research.google.com/assets/colab-badge.svg\" alt=\"Open In Colab\"/></a>"
      ]
    },
    {
      "cell_type": "code",
      "metadata": {
        "id": "0m2JWFliFfKT",
        "colab_type": "code",
        "colab": {}
      },
      "source": [
        "from __future__ import print_function\n",
        "import torch\n",
        "import torch.nn as nn\n",
        "import torch.nn.functional as F\n",
        "import torch.optim as optim\n",
        "from torchvision import datasets, transforms"
      ],
      "execution_count": 0,
      "outputs": []
    },
    {
      "cell_type": "code",
      "metadata": {
        "id": "h_Cx9q2QFgM7",
        "colab_type": "code",
        "colab": {}
      },
      "source": [
        "class Net(nn.Module):\n",
        "    def __init__(self):\n",
        "        super(Net, self).__init__()\n",
        "        self.conv1 = nn.Conv2d(1, 32, 3, padding=1) #input channels = 1, #OUtput channels - 32, RF = 3\n",
        "        self.conv2 = nn.Conv2d(32, 64, 3, padding=1) #input channels = 32, #OUtput channels - 64, RF = 5\n",
        "        self.pool1 = nn.MaxPool2d(2, 2) # reduces the size of the image to half\n",
        "        self.conv3 = nn.Conv2d(64, 128, 3, padding=1) #input channels = 64, #OUtput channels - 128, RF = 7\n",
        "        self.conv4 = nn.Conv2d(128, 256, 3, padding=1) #input channels = 128, #OUtput channels - 256, RF = 9\n",
        "        self.pool2 = nn.MaxPool2d(2, 2) # reduces the size of the image to half\n",
        "        self.conv5 = nn.Conv2d(256, 512, 3)  #input channels = 256, #OUtput channels - 512, RF = 11\n",
        "        self.conv6 = nn.Conv2d(512, 1024, 3) #input channels = 512, #OUtput channels - 1024, RF = 13\n",
        "        self.conv7 = nn.Conv2d(1024, 10, 3) #input channels = 1024, #OUtput channels - 10, RF = 15\n",
        "\n",
        "    def forward(self, x):\n",
        "        x = self.pool1(F.relu(self.conv2(F.relu(self.conv1(x))))) # Layer 1 (2 covolution layers + maxpooling)\n",
        "        x = self.pool2(F.relu(self.conv4(F.relu(self.conv3(x))))) # Layer 2 (2 covolution layers + maxpooling)\n",
        "        x = F.relu(self.conv6(F.relu(self.conv5(x)))) # (Convolution after maxpooling)\n",
        "        x = F.relu(self.conv7(x))\n",
        "        x = x.view(-1, 10) \n",
        "        return F.log_softmax(x)"
      ],
      "execution_count": 0,
      "outputs": []
    },
    {
      "cell_type": "code",
      "metadata": {
        "colab_type": "code",
        "id": "xdydjYTZFyi3",
        "colab": {}
      },
      "source": [
        "!pip install torchsummary\n",
        "from torchsummary import summary\n",
        "use_cuda = torch.cuda.is_available()  # check for GPU\n",
        "device = torch.device(\"cuda\" if use_cuda else \"cpu\")  # select gpu or cpu\n",
        "model = Net().to(device)\n",
        "summary(model, input_size=(1, 28, 28))"
      ],
      "execution_count": 0,
      "outputs": []
    },
    {
      "cell_type": "code",
      "metadata": {
        "id": "DqTWLaM5GHgH",
        "colab_type": "code",
        "colab": {}
      },
      "source": [
        "\n",
        "\n",
        "torch.manual_seed(1)\n",
        "batch_size = 128\n",
        "\n",
        "kwargs = {'num_workers': 1, 'pin_memory': True} if use_cuda else {}\n",
        "# Creating a batch for the dataset to work on it iteratively\n",
        "train_loader = torch.utils.data.DataLoader(\n",
        "    # download the training data locally and transform it\n",
        "    datasets.MNIST('../data', train=True, download=True,\n",
        "                    transform=transforms.Compose([\n",
        "                        transforms.ToTensor(),\n",
        "                        transforms.Normalize((0.1307,), (0.3081,))\n",
        "                    ])),\n",
        "    batch_size=batch_size, shuffle=True, **kwargs)\n",
        "test_loader = torch.utils.data.DataLoader(\n",
        "    # download test dataset\n",
        "    datasets.MNIST('../data', train=False, transform=transforms.Compose([\n",
        "                        transforms.ToTensor(),\n",
        "                        transforms.Normalize((0.1307,), (0.3081,))\n",
        "                    ])),\n",
        "    batch_size=batch_size, shuffle=True, **kwargs) # test dataset should be shuffled?\n"
      ],
      "execution_count": 0,
      "outputs": []
    },
    {
      "cell_type": "code",
      "metadata": {
        "id": "8fDefDhaFlwH",
        "colab_type": "code",
        "colab": {}
      },
      "source": [
        "from tqdm import tqdm\n",
        "def train(model, device, train_loader, optimizer, epoch):\n",
        "    # setting the model to training mode\n",
        "    model.train()\n",
        "    pbar = tqdm(train_loader)\n",
        "\n",
        "    # Iterate over the training dataset\n",
        "    for batch_idx, (data, target) in enumerate(pbar):\n",
        "        data, target = data.to(device), target.to(device)\n",
        "        optimizer.zero_grad() \n",
        "        output = model(data) # Pass the images data to our CNN for training the model\n",
        "        loss = F.nll_loss(output, target)  # calculate the loss\n",
        "        loss.backward() # perform the backward pass\n",
        "        optimizer.step() # update the model parameters\n",
        "        pbar.set_description(desc= f'loss={loss.item()} batch_id={batch_idx}')\n",
        "\n",
        "\n",
        "def test(model, device, test_loader):\n",
        "    # setting the model to evaluation mode\n",
        "    model.eval()\n",
        "    test_loss = 0\n",
        "    correct = 0\n",
        "\n",
        "    # No gradient prediction during prediction\n",
        "    with torch.no_grad():\n",
        "        # Iterate over the test dataset\n",
        "        for data, target in test_loader:\n",
        "            data, target = data.to(device), target.to(device)\n",
        "            output = model(data)  # Pass the images data to our CNN for prediction\n",
        "            test_loss += F.nll_loss(output, target, reduction='sum').item()  # sum up batch loss\n",
        "            pred = output.argmax(dim=1, keepdim=True)  # get the index of the max log-probability\n",
        "            correct += pred.eq(target.view_as(pred)).sum().item() # calculate the correct predictions by compairing with actual data\n",
        "\n",
        "    test_loss /= len(test_loader.dataset)\n",
        "\n",
        "    # print the accuracy of model using correct predictions over total dataset\n",
        "    print('\\nTest set: Average loss: {:.4f}, Accuracy: {}/{} ({:.0f}%)\\n'.format(\n",
        "        test_loss, correct, len(test_loader.dataset),\n",
        "        100. * correct / len(test_loader.dataset)))"
      ],
      "execution_count": 0,
      "outputs": []
    },
    {
      "cell_type": "code",
      "metadata": {
        "id": "MMWbLWO6FuHb",
        "colab_type": "code",
        "colab": {}
      },
      "source": [
        "\n",
        "model = Net().to(device)\n",
        "# using SGD optimizer with learining rate of 0.01 \n",
        "optimizer = optim.SGD(model.parameters(), lr=0.01, momentum=0.9)\n",
        "\n",
        "for epoch in range(1, 2):\n",
        "    # train the model with batches of training dataset provided by train_loader\n",
        "    train(model, device, train_loader, optimizer, epoch)\n",
        "    # once the model is trained now test the model\n",
        "    test(model, device, test_loader)"
      ],
      "execution_count": 0,
      "outputs": []
    },
    {
      "cell_type": "code",
      "metadata": {
        "id": "So5uk4EkHW6R",
        "colab_type": "code",
        "colab": {}
      },
      "source": [
        ""
      ],
      "execution_count": 0,
      "outputs": []
    }
  ]
}
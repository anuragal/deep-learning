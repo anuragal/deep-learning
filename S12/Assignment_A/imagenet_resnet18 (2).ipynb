{
  "nbformat": 4,
  "nbformat_minor": 0,
  "metadata": {
    "kernelspec": {
      "name": "python3",
      "display_name": "Python 3"
    },
    "language_info": {
      "codemirror_mode": {
        "name": "ipython",
        "version": 3
      },
      "file_extension": ".py",
      "mimetype": "text/x-python",
      "name": "python",
      "nbconvert_exporter": "python",
      "pygments_lexer": "ipython3",
      "version": "3.6.6"
    },
    "colab": {
      "name": "superconvergence.ipynb",
      "provenance": [],
      "toc_visible": true,
      "include_colab_link": true
    },
    "accelerator": "GPU",
    "widgets": {
      "application/vnd.jupyter.widget-state+json": {
        "c1301e59f2ae4ceb8224759b91a7eabd": {
          "model_module": "@jupyter-widgets/controls",
          "model_name": "HBoxModel",
          "state": {
            "_view_name": "HBoxView",
            "_dom_classes": [],
            "_model_name": "HBoxModel",
            "_view_module": "@jupyter-widgets/controls",
            "_model_module_version": "1.5.0",
            "_view_count": null,
            "_view_module_version": "1.5.0",
            "box_style": "",
            "layout": "IPY_MODEL_413ddef80cfa4683b427ce28cd4ff7e4",
            "_model_module": "@jupyter-widgets/controls",
            "children": [
              "IPY_MODEL_67325648a578466fa22482a88a411761",
              "IPY_MODEL_90259def0dc945ce992dd999c4c83d11"
            ]
          }
        },
        "413ddef80cfa4683b427ce28cd4ff7e4": {
          "model_module": "@jupyter-widgets/base",
          "model_name": "LayoutModel",
          "state": {
            "_view_name": "LayoutView",
            "grid_template_rows": null,
            "right": null,
            "justify_content": null,
            "_view_module": "@jupyter-widgets/base",
            "overflow": null,
            "_model_module_version": "1.2.0",
            "_view_count": null,
            "flex_flow": null,
            "width": null,
            "min_width": null,
            "border": null,
            "align_items": null,
            "bottom": null,
            "_model_module": "@jupyter-widgets/base",
            "top": null,
            "grid_column": null,
            "overflow_y": null,
            "overflow_x": null,
            "grid_auto_flow": null,
            "grid_area": null,
            "grid_template_columns": null,
            "flex": null,
            "_model_name": "LayoutModel",
            "justify_items": null,
            "grid_row": null,
            "max_height": null,
            "align_content": null,
            "visibility": null,
            "align_self": null,
            "height": null,
            "min_height": null,
            "padding": null,
            "grid_auto_rows": null,
            "grid_gap": null,
            "max_width": null,
            "order": null,
            "_view_module_version": "1.2.0",
            "grid_template_areas": null,
            "object_position": null,
            "object_fit": null,
            "grid_auto_columns": null,
            "margin": null,
            "display": null,
            "left": null
          }
        },
        "67325648a578466fa22482a88a411761": {
          "model_module": "@jupyter-widgets/controls",
          "model_name": "FloatProgressModel",
          "state": {
            "_view_name": "ProgressView",
            "style": "IPY_MODEL_1645600d3fde41eb84151fceeb0d600d",
            "_dom_classes": [],
            "description": " 81%",
            "_model_name": "FloatProgressModel",
            "bar_style": "danger",
            "max": 2404,
            "_view_module": "@jupyter-widgets/controls",
            "_model_module_version": "1.5.0",
            "value": 1957,
            "_view_count": null,
            "_view_module_version": "1.5.0",
            "orientation": "horizontal",
            "min": 0,
            "description_tooltip": null,
            "_model_module": "@jupyter-widgets/controls",
            "layout": "IPY_MODEL_ecc700a9f396455b94658f9db122adeb"
          }
        },
        "90259def0dc945ce992dd999c4c83d11": {
          "model_module": "@jupyter-widgets/controls",
          "model_name": "HTMLModel",
          "state": {
            "_view_name": "HTMLView",
            "style": "IPY_MODEL_5df78c34188b45c699e150229609d4cb",
            "_dom_classes": [],
            "description": "",
            "_model_name": "HTMLModel",
            "placeholder": "​",
            "_view_module": "@jupyter-widgets/controls",
            "_model_module_version": "1.5.0",
            "value": " 1957/2404 [2:39:45&lt;36:29,  4.90s/it]",
            "_view_count": null,
            "_view_module_version": "1.5.0",
            "description_tooltip": null,
            "_model_module": "@jupyter-widgets/controls",
            "layout": "IPY_MODEL_ba732b01f25f412aa982d12b7447e405"
          }
        },
        "1645600d3fde41eb84151fceeb0d600d": {
          "model_module": "@jupyter-widgets/controls",
          "model_name": "ProgressStyleModel",
          "state": {
            "_view_name": "StyleView",
            "_model_name": "ProgressStyleModel",
            "description_width": "initial",
            "_view_module": "@jupyter-widgets/base",
            "_model_module_version": "1.5.0",
            "_view_count": null,
            "_view_module_version": "1.2.0",
            "bar_color": null,
            "_model_module": "@jupyter-widgets/controls"
          }
        },
        "ecc700a9f396455b94658f9db122adeb": {
          "model_module": "@jupyter-widgets/base",
          "model_name": "LayoutModel",
          "state": {
            "_view_name": "LayoutView",
            "grid_template_rows": null,
            "right": null,
            "justify_content": null,
            "_view_module": "@jupyter-widgets/base",
            "overflow": null,
            "_model_module_version": "1.2.0",
            "_view_count": null,
            "flex_flow": null,
            "width": null,
            "min_width": null,
            "border": null,
            "align_items": null,
            "bottom": null,
            "_model_module": "@jupyter-widgets/base",
            "top": null,
            "grid_column": null,
            "overflow_y": null,
            "overflow_x": null,
            "grid_auto_flow": null,
            "grid_area": null,
            "grid_template_columns": null,
            "flex": null,
            "_model_name": "LayoutModel",
            "justify_items": null,
            "grid_row": null,
            "max_height": null,
            "align_content": null,
            "visibility": null,
            "align_self": null,
            "height": null,
            "min_height": null,
            "padding": null,
            "grid_auto_rows": null,
            "grid_gap": null,
            "max_width": null,
            "order": null,
            "_view_module_version": "1.2.0",
            "grid_template_areas": null,
            "object_position": null,
            "object_fit": null,
            "grid_auto_columns": null,
            "margin": null,
            "display": null,
            "left": null
          }
        },
        "5df78c34188b45c699e150229609d4cb": {
          "model_module": "@jupyter-widgets/controls",
          "model_name": "DescriptionStyleModel",
          "state": {
            "_view_name": "StyleView",
            "_model_name": "DescriptionStyleModel",
            "description_width": "",
            "_view_module": "@jupyter-widgets/base",
            "_model_module_version": "1.5.0",
            "_view_count": null,
            "_view_module_version": "1.2.0",
            "_model_module": "@jupyter-widgets/controls"
          }
        },
        "ba732b01f25f412aa982d12b7447e405": {
          "model_module": "@jupyter-widgets/base",
          "model_name": "LayoutModel",
          "state": {
            "_view_name": "LayoutView",
            "grid_template_rows": null,
            "right": null,
            "justify_content": null,
            "_view_module": "@jupyter-widgets/base",
            "overflow": null,
            "_model_module_version": "1.2.0",
            "_view_count": null,
            "flex_flow": null,
            "width": null,
            "min_width": null,
            "border": null,
            "align_items": null,
            "bottom": null,
            "_model_module": "@jupyter-widgets/base",
            "top": null,
            "grid_column": null,
            "overflow_y": null,
            "overflow_x": null,
            "grid_auto_flow": null,
            "grid_area": null,
            "grid_template_columns": null,
            "flex": null,
            "_model_name": "LayoutModel",
            "justify_items": null,
            "grid_row": null,
            "max_height": null,
            "align_content": null,
            "visibility": null,
            "align_self": null,
            "height": null,
            "min_height": null,
            "padding": null,
            "grid_auto_rows": null,
            "grid_gap": null,
            "max_width": null,
            "order": null,
            "_view_module_version": "1.2.0",
            "grid_template_areas": null,
            "object_position": null,
            "object_fit": null,
            "grid_auto_columns": null,
            "margin": null,
            "display": null,
            "left": null
          }
        }
      }
    }
  },
  "cells": [
    {
      "cell_type": "markdown",
      "metadata": {
        "id": "view-in-github",
        "colab_type": "text"
      },
      "source": [
        "<a href=\"https://colab.research.google.com/github/anuragal/deep-learning/blob/master/S12/imagenet_resnet18.ipynb\" target=\"_parent\"><img src=\"https://colab.research.google.com/assets/colab-badge.svg\" alt=\"Open In Colab\"/></a>"
      ]
    },
    {
      "cell_type": "code",
      "metadata": {
        "id": "7TmDL9U5OpVk",
        "colab_type": "code",
        "colab": {
          "base_uri": "https://localhost:8080/",
          "height": 52
        },
        "outputId": "5d3cb61e-a77e-4c52-e18a-e20c1e284cfa"
      },
      "source": [
        "! git clone https://github.com/anuragal/deep-learning deep_learning\n",
        "! ls 'deep_learning/tiny-imagenet-200/'"
      ],
      "execution_count": 13,
      "outputs": [
        {
          "output_type": "stream",
          "text": [
            "fatal: destination path 'deep_learning' already exists and is not an empty directory.\n",
            "test  train  val  wnids.txt  words.txt\n"
          ],
          "name": "stdout"
        }
      ]
    },
    {
      "cell_type": "code",
      "metadata": {
        "id": "g6nh4V6YHvF_",
        "colab_type": "code",
        "colab": {}
      },
      "source": [
        "# ! mv 'deep-learning' 'deep_learning'\n"
      ],
      "execution_count": 2,
      "outputs": []
    },
    {
      "cell_type": "code",
      "metadata": {
        "id": "1a27S8fEJooN",
        "colab_type": "code",
        "colab": {
          "base_uri": "https://localhost:8080/",
          "height": 208
        },
        "outputId": "bbd217d9-e531-4d14-dd4b-3111359e5071"
      },
      "source": [
        "! cd 'deep_learning' && git pull"
      ],
      "execution_count": 6,
      "outputs": [
        {
          "output_type": "stream",
          "text": [
            "remote: Enumerating objects: 7, done.\u001b[K\n",
            "remote: Counting objects:  14% (1/7)\u001b[K\rremote: Counting objects:  28% (2/7)\u001b[K\rremote: Counting objects:  42% (3/7)\u001b[K\rremote: Counting objects:  57% (4/7)\u001b[K\rremote: Counting objects:  71% (5/7)\u001b[K\rremote: Counting objects:  85% (6/7)\u001b[K\rremote: Counting objects: 100% (7/7)\u001b[K\rremote: Counting objects: 100% (7/7), done.\u001b[K\n",
            "remote: Compressing objects: 100% (1/1)\u001b[K\rremote: Compressing objects: 100% (1/1), done.\u001b[K\n",
            "remote: Total 4 (delta 3), reused 4 (delta 3), pack-reused 0\u001b[K\n",
            "Unpacking objects:  25% (1/4)   \rUnpacking objects:  50% (2/4)   \rUnpacking objects:  75% (3/4)   \rUnpacking objects: 100% (4/4)   \rUnpacking objects: 100% (4/4), done.\n",
            "From https://github.com/anuragal/deep-learning\n",
            "   b215357e8..24eb818e1  master     -> origin/master\n",
            "Updating b215357e8..24eb818e1\n",
            "Fast-forward\n",
            " S12/datamodel.py | 4 \u001b[32m++\u001b[m\u001b[31m--\u001b[m\n",
            " 1 file changed, 2 insertions(+), 2 deletions(-)\n"
          ],
          "name": "stdout"
        }
      ]
    },
    {
      "cell_type": "markdown",
      "metadata": {
        "id": "l7LKzevcivPw",
        "colab_type": "text"
      },
      "source": [
        "## Model"
      ]
    },
    {
      "cell_type": "code",
      "metadata": {
        "id": "ye3wHlAvdI9h",
        "colab_type": "code",
        "colab": {
          "base_uri": "https://localhost:8080/",
          "height": 1000
        },
        "outputId": "328af552-3969-4ef5-da61-cdf16919b5a9"
      },
      "source": [
        "!pip install albumentations==0.4.5\n",
        "\n",
        "import torch\n",
        "import torch.nn as nn\n",
        "import torch.nn.functional as F\n",
        "import torchvision.models as models\n",
        "\n",
        "!pip install torchsummary\n",
        "from torchsummary import summary\n",
        "\n",
        "use_cuda = torch.cuda.is_available()\n",
        "device = torch.device(\"cuda\" if use_cuda else \"cpu\")\n",
        "print(device)\n",
        "\n",
        "#Load Resnet18\n",
        "model = models.resnet18()\n",
        "\n",
        "#Finetune Final few layers to adjust for tiny imagenet input\n",
        "model.avgpool = nn.AdaptiveAvgPool2d(1)\n",
        "model.fc.out_features = 200\n",
        "model = model.to(device)\n",
        "\n",
        "summary(model, input_size=(3, 32, 32))"
      ],
      "execution_count": 1,
      "outputs": [
        {
          "output_type": "stream",
          "text": [
            "Requirement already satisfied: albumentations==0.4.5 in /usr/local/lib/python3.6/dist-packages (0.4.5)\n",
            "Requirement already satisfied: imgaug<0.2.7,>=0.2.5 in /usr/local/lib/python3.6/dist-packages (from albumentations==0.4.5) (0.2.6)\n",
            "Requirement already satisfied: opencv-python>=4.1.1 in /usr/local/lib/python3.6/dist-packages (from albumentations==0.4.5) (4.1.2.30)\n",
            "Requirement already satisfied: scipy in /usr/local/lib/python3.6/dist-packages (from albumentations==0.4.5) (1.4.1)\n",
            "Requirement already satisfied: PyYAML in /usr/local/lib/python3.6/dist-packages (from albumentations==0.4.5) (3.13)\n",
            "Requirement already satisfied: numpy>=1.11.1 in /usr/local/lib/python3.6/dist-packages (from albumentations==0.4.5) (1.18.5)\n",
            "Requirement already satisfied: scikit-image>=0.11.0 in /usr/local/lib/python3.6/dist-packages (from imgaug<0.2.7,>=0.2.5->albumentations==0.4.5) (0.16.2)\n",
            "Requirement already satisfied: six in /usr/local/lib/python3.6/dist-packages (from imgaug<0.2.7,>=0.2.5->albumentations==0.4.5) (1.12.0)\n",
            "Requirement already satisfied: imageio>=2.3.0 in /usr/local/lib/python3.6/dist-packages (from scikit-image>=0.11.0->imgaug<0.2.7,>=0.2.5->albumentations==0.4.5) (2.4.1)\n",
            "Requirement already satisfied: matplotlib!=3.0.0,>=2.0.0 in /usr/local/lib/python3.6/dist-packages (from scikit-image>=0.11.0->imgaug<0.2.7,>=0.2.5->albumentations==0.4.5) (3.2.2)\n",
            "Requirement already satisfied: networkx>=2.0 in /usr/local/lib/python3.6/dist-packages (from scikit-image>=0.11.0->imgaug<0.2.7,>=0.2.5->albumentations==0.4.5) (2.4)\n",
            "Requirement already satisfied: pillow>=4.3.0 in /usr/local/lib/python3.6/dist-packages (from scikit-image>=0.11.0->imgaug<0.2.7,>=0.2.5->albumentations==0.4.5) (7.0.0)\n",
            "Requirement already satisfied: PyWavelets>=0.4.0 in /usr/local/lib/python3.6/dist-packages (from scikit-image>=0.11.0->imgaug<0.2.7,>=0.2.5->albumentations==0.4.5) (1.1.1)\n",
            "Requirement already satisfied: python-dateutil>=2.1 in /usr/local/lib/python3.6/dist-packages (from matplotlib!=3.0.0,>=2.0.0->scikit-image>=0.11.0->imgaug<0.2.7,>=0.2.5->albumentations==0.4.5) (2.8.1)\n",
            "Requirement already satisfied: kiwisolver>=1.0.1 in /usr/local/lib/python3.6/dist-packages (from matplotlib!=3.0.0,>=2.0.0->scikit-image>=0.11.0->imgaug<0.2.7,>=0.2.5->albumentations==0.4.5) (1.2.0)\n",
            "Requirement already satisfied: pyparsing!=2.0.4,!=2.1.2,!=2.1.6,>=2.0.1 in /usr/local/lib/python3.6/dist-packages (from matplotlib!=3.0.0,>=2.0.0->scikit-image>=0.11.0->imgaug<0.2.7,>=0.2.5->albumentations==0.4.5) (2.4.7)\n",
            "Requirement already satisfied: cycler>=0.10 in /usr/local/lib/python3.6/dist-packages (from matplotlib!=3.0.0,>=2.0.0->scikit-image>=0.11.0->imgaug<0.2.7,>=0.2.5->albumentations==0.4.5) (0.10.0)\n",
            "Requirement already satisfied: decorator>=4.3.0 in /usr/local/lib/python3.6/dist-packages (from networkx>=2.0->scikit-image>=0.11.0->imgaug<0.2.7,>=0.2.5->albumentations==0.4.5) (4.4.2)\n",
            "Requirement already satisfied: torchsummary in /usr/local/lib/python3.6/dist-packages (1.5.1)\n",
            "cuda\n",
            "----------------------------------------------------------------\n",
            "        Layer (type)               Output Shape         Param #\n",
            "================================================================\n",
            "            Conv2d-1           [-1, 64, 16, 16]           9,408\n",
            "       BatchNorm2d-2           [-1, 64, 16, 16]             128\n",
            "              ReLU-3           [-1, 64, 16, 16]               0\n",
            "         MaxPool2d-4             [-1, 64, 8, 8]               0\n",
            "            Conv2d-5             [-1, 64, 8, 8]          36,864\n",
            "       BatchNorm2d-6             [-1, 64, 8, 8]             128\n",
            "              ReLU-7             [-1, 64, 8, 8]               0\n",
            "            Conv2d-8             [-1, 64, 8, 8]          36,864\n",
            "       BatchNorm2d-9             [-1, 64, 8, 8]             128\n",
            "             ReLU-10             [-1, 64, 8, 8]               0\n",
            "       BasicBlock-11             [-1, 64, 8, 8]               0\n",
            "           Conv2d-12             [-1, 64, 8, 8]          36,864\n",
            "      BatchNorm2d-13             [-1, 64, 8, 8]             128\n",
            "             ReLU-14             [-1, 64, 8, 8]               0\n",
            "           Conv2d-15             [-1, 64, 8, 8]          36,864\n",
            "      BatchNorm2d-16             [-1, 64, 8, 8]             128\n",
            "             ReLU-17             [-1, 64, 8, 8]               0\n",
            "       BasicBlock-18             [-1, 64, 8, 8]               0\n",
            "           Conv2d-19            [-1, 128, 4, 4]          73,728\n",
            "      BatchNorm2d-20            [-1, 128, 4, 4]             256\n",
            "             ReLU-21            [-1, 128, 4, 4]               0\n",
            "           Conv2d-22            [-1, 128, 4, 4]         147,456\n",
            "      BatchNorm2d-23            [-1, 128, 4, 4]             256\n",
            "           Conv2d-24            [-1, 128, 4, 4]           8,192\n",
            "      BatchNorm2d-25            [-1, 128, 4, 4]             256\n",
            "             ReLU-26            [-1, 128, 4, 4]               0\n",
            "       BasicBlock-27            [-1, 128, 4, 4]               0\n",
            "           Conv2d-28            [-1, 128, 4, 4]         147,456\n",
            "      BatchNorm2d-29            [-1, 128, 4, 4]             256\n",
            "             ReLU-30            [-1, 128, 4, 4]               0\n",
            "           Conv2d-31            [-1, 128, 4, 4]         147,456\n",
            "      BatchNorm2d-32            [-1, 128, 4, 4]             256\n",
            "             ReLU-33            [-1, 128, 4, 4]               0\n",
            "       BasicBlock-34            [-1, 128, 4, 4]               0\n",
            "           Conv2d-35            [-1, 256, 2, 2]         294,912\n",
            "      BatchNorm2d-36            [-1, 256, 2, 2]             512\n",
            "             ReLU-37            [-1, 256, 2, 2]               0\n",
            "           Conv2d-38            [-1, 256, 2, 2]         589,824\n",
            "      BatchNorm2d-39            [-1, 256, 2, 2]             512\n",
            "           Conv2d-40            [-1, 256, 2, 2]          32,768\n",
            "      BatchNorm2d-41            [-1, 256, 2, 2]             512\n",
            "             ReLU-42            [-1, 256, 2, 2]               0\n",
            "       BasicBlock-43            [-1, 256, 2, 2]               0\n",
            "           Conv2d-44            [-1, 256, 2, 2]         589,824\n",
            "      BatchNorm2d-45            [-1, 256, 2, 2]             512\n",
            "             ReLU-46            [-1, 256, 2, 2]               0\n",
            "           Conv2d-47            [-1, 256, 2, 2]         589,824\n",
            "      BatchNorm2d-48            [-1, 256, 2, 2]             512\n",
            "             ReLU-49            [-1, 256, 2, 2]               0\n",
            "       BasicBlock-50            [-1, 256, 2, 2]               0\n",
            "           Conv2d-51            [-1, 512, 1, 1]       1,179,648\n",
            "      BatchNorm2d-52            [-1, 512, 1, 1]           1,024\n",
            "             ReLU-53            [-1, 512, 1, 1]               0\n",
            "           Conv2d-54            [-1, 512, 1, 1]       2,359,296\n",
            "      BatchNorm2d-55            [-1, 512, 1, 1]           1,024\n",
            "           Conv2d-56            [-1, 512, 1, 1]         131,072\n",
            "      BatchNorm2d-57            [-1, 512, 1, 1]           1,024\n",
            "             ReLU-58            [-1, 512, 1, 1]               0\n",
            "       BasicBlock-59            [-1, 512, 1, 1]               0\n",
            "           Conv2d-60            [-1, 512, 1, 1]       2,359,296\n",
            "      BatchNorm2d-61            [-1, 512, 1, 1]           1,024\n",
            "             ReLU-62            [-1, 512, 1, 1]               0\n",
            "           Conv2d-63            [-1, 512, 1, 1]       2,359,296\n",
            "      BatchNorm2d-64            [-1, 512, 1, 1]           1,024\n",
            "             ReLU-65            [-1, 512, 1, 1]               0\n",
            "       BasicBlock-66            [-1, 512, 1, 1]               0\n",
            "AdaptiveAvgPool2d-67            [-1, 512, 1, 1]               0\n",
            "           Linear-68                 [-1, 1000]         513,000\n",
            "================================================================\n",
            "Total params: 11,689,512\n",
            "Trainable params: 11,689,512\n",
            "Non-trainable params: 0\n",
            "----------------------------------------------------------------\n",
            "Input size (MB): 0.01\n",
            "Forward/backward pass size (MB): 1.29\n",
            "Params size (MB): 44.59\n",
            "Estimated Total Size (MB): 45.90\n",
            "----------------------------------------------------------------\n"
          ],
          "name": "stdout"
        }
      ]
    },
    {
      "cell_type": "markdown",
      "metadata": {
        "id": "YLrvL_fHpoC5",
        "colab_type": "text"
      },
      "source": [
        "## Run the Model"
      ]
    },
    {
      "cell_type": "code",
      "metadata": {
        "id": "YWIDUH8Dhonl",
        "colab_type": "code",
        "colab": {}
      },
      "source": [
        "%matplotlib inline"
      ],
      "execution_count": 2,
      "outputs": []
    },
    {
      "cell_type": "code",
      "metadata": {
        "id": "nizbsvw9poC6",
        "colab_type": "code",
        "colab": {
          "base_uri": "https://localhost:8080/",
          "height": 159
        },
        "outputId": "92461b4d-ee06-4fa1-ea68-8383c6a8ad8f"
      },
      "source": [
        "import torch.nn as nn\n",
        "\n",
        "from deep_learning.S12.dataloader import ImageData\n",
        "from deep_learning.S12.datamodel import DataModel\n",
        "from deep_learning.S12.optimizer import OptimizerFactory\n",
        "\n",
        "from torch.optim.lr_scheduler import OneCycleLR\n",
        "\n",
        "dataset_path = 'deep_learning/tiny-imagenet-200/'\n",
        "# Loading data and transforming it\n",
        "img_data = ImageData()\n",
        "\n",
        "# Choose from \"albumentations\" or \"pytorch\". Default is \"pytorch\"\n",
        "img_data.load_TINY_IMAGENET(dataset_path, \"albumentations\")\n",
        "\n",
        "criterion = nn.CrossEntropyLoss()\n",
        "\n",
        "# optimizer can be choose from \"SGD\" & \"Adam\"\n",
        "optim_sgd = OptimizerFactory(\"SGD\")\n",
        "optimizer = optim_sgd.load(params=model.parameters(), lr=0.02, momentum=0.9, weight_decay=1e-4)\n",
        "\n",
        "dm = DataModel(img_data, criterion, optimizer, None, num_of_epochs = 30, cal_misclassified = True)"
      ],
      "execution_count": 3,
      "outputs": [
        {
          "output_type": "stream",
          "text": [
            "/usr/local/lib/python3.6/dist-packages/statsmodels/tools/_testing.py:19: FutureWarning: pandas.util.testing is deprecated. Use the functions in the public API at pandas.testing instead.\n",
            "  import pandas.util.testing as tm\n",
            "WARNING:deep_learning.S12.lrfinder:To enable mixed precision training, please install `apex`. Or you can re-install this package by the following command:\n",
            "  pip install torch-lr-finder -v --global-option=\"amp\"\n"
          ],
          "name": "stderr"
        },
        {
          "output_type": "stream",
          "text": [
            "CUDA Available? True\n",
            "{22: 76908, 119: 76460, 58: 76982, 48: 76632, 110: 76978, 8: 76286, 191: 76981, 5: 76931, 44: 76966, 88: 76821, 9: 76767, 97: 76848, 166: 76702, 1: 76835, 74: 76976, 128: 76869, 145: 76587, 92: 76668, 183: 76842, 101: 76790, 134: 76747, 179: 76937, 47: 76854, 17: 76857, 120: 76968, 99: 76598, 25: 76964, 112: 76979, 72: 76662, 152: 76948, 3: 76585, 71: 76748, 174: 76672, 154: 76900, 196: 76917, 198: 76870, 158: 76800, 164: 76961, 75: 76962, 176: 76936, 50: 76889, 189: 76594, 33: 76763, 100: 76764, 84: 76915, 133: 76927, 7: 76910, 82: 76953, 54: 76597, 41: 76959, 140: 76828, 103: 76704, 190: 76994, 146: 76757, 34: 76965, 163: 76409, 195: 76739, 63: 76781, 16: 76710, 51: 76823, 116: 76974, 53: 76855, 194: 76874, 160: 76884, 180: 76248, 98: 76825, 32: 76960, 153: 76470, 61: 76839, 40: 76743, 188: 76984, 150: 76993, 30: 76992, 67: 76675, 70: 76847, 159: 76860, 26: 76845, 123: 76595, 23: 76886, 122: 76610, 59: 76844, 173: 76817, 104: 76971, 18: 76972, 38: 76720, 107: 76339, 131: 76957, 187: 76891, 76: 76788, 114: 76533, 149: 76929, 31: 76989, 13: 76656, 10: 76302, 4: 76913, 62: 76926, 80: 76819, 118: 76861, 181: 76778, 20: 76932, 78: 76733, 108: 76712, 144: 76924, 14: 76955, 45: 76673, 186: 76986, 184: 76951, 46: 76636, 178: 76616, 27: 76586, 162: 76820, 73: 76883, 125: 76802, 79: 76939, 136: 76783, 185: 76881, 6: 76464, 169: 76766, 130: 76389, 56: 76973, 199: 76396, 90: 76879, 109: 76859, 170: 76970, 175: 76567, 142: 76477, 111: 76796, 11: 76977, 2: 76990, 93: 76904, 102: 76922, 192: 76952, 106: 76619, 19: 76691, 24: 76736, 28: 76669, 197: 76853, 81: 76999, 126: 76958, 167: 76520, 113: 76985, 52: 76947, 143: 76512, 168: 76912, 139: 76998, 137: 76867, 117: 76872, 89: 76730, 124: 76830, 132: 76995, 83: 76918, 148: 76885, 85: 76996, 49: 76969, 141: 76925, 129: 76873, 60: 76902, 35: 76707, 135: 76852, 161: 76946, 156: 76956, 155: 76803, 105: 76621, 39: 76943, 77: 76987, 57: 76906, 68: 76940, 121: 76942, 36: 76975, 55: 76980, 37: 76505, 182: 76716, 96: 76876, 86: 76928, 21: 76871, 127: 76687, 115: 76540, 151: 76901, 94: 76649, 95: 76991, 12: 76371, 171: 76997, 64: 76203, 15: 76732, 193: 76895, 42: 76866, 172: 76695, 0: 76897, 147: 76787, 66: 76923, 65: 76988, 87: 76213, 43: 76896, 138: 76758, 29: 76914, 157: 76892, 177: 76930, 165: 76502, 69: 76771, 91: 76875}\n",
            "{19: 32448, 2: 32967, 68: 32697, 66: 32886, 103: 32992, 40: 32913, 162: 32964, 185: 32941, 93: 32718, 28: 32552, 77: 32925, 166: 32965, 97: 32990, 57: 32771, 53: 32721, 107: 32738, 131: 32924, 181: 32575, 128: 32741, 54: 32816, 34: 32690, 37: 32703, 198: 32806, 42: 32962, 11: 32966, 115: 32748, 196: 32997, 4: 32950, 20: 32983, 3: 32972, 116: 32567, 144: 32973, 63: 32742, 151: 32580, 72: 32968, 105: 32634, 47: 32908, 33: 32719, 85: 32945, 179: 32509, 153: 32996, 189: 32641, 75: 32943, 90: 32744, 129: 32647, 186: 32757, 45: 32776, 155: 32882, 32: 32877, 112: 32921, 191: 32954, 14: 32947, 145: 32801, 89: 32528, 120: 32977, 159: 32883, 22: 32435, 13: 32931, 58: 32637, 134: 32994, 192: 32984, 158: 32856, 146: 32887, 18: 32782, 12: 32862, 168: 32900, 104: 32822, 35: 32779, 140: 32930, 67: 32717, 82: 32949, 137: 32716, 76: 32979, 39: 32929, 98: 32942, 121: 32976, 59: 32818, 123: 32828, 167: 32899, 49: 32944, 106: 32948, 125: 32397, 74: 32935, 110: 32914, 156: 32529, 101: 32923, 152: 32791, 96: 32861, 52: 32953, 183: 32142, 175: 32885, 126: 32986, 10: 32911, 62: 32989, 17: 32811, 65: 32807, 149: 32803, 188: 32993, 176: 32821, 165: 32970, 78: 32770, 133: 32843, 190: 32349, 114: 32958, 86: 32650, 38: 32910, 109: 32865, 194: 32999, 119: 32417, 43: 32752, 88: 32995, 139: 32985, 122: 32292, 27: 32805, 182: 32668, 60: 32773, 0: 32723, 79: 32823, 64: 32917, 130: 32652, 95: 32750, 148: 31907, 161: 32521, 48: 32790, 157: 32978, 83: 32156, 1: 32863, 30: 32571, 71: 32808, 113: 32920, 51: 32881, 178: 32980, 171: 32963, 9: 32675, 23: 32684, 92: 32937, 69: 32893, 136: 32946, 164: 32549, 197: 32889, 70: 32415, 81: 32939, 170: 32075, 5: 32574, 184: 32699, 41: 32998, 124: 32933, 91: 32959, 46: 32987, 172: 32700, 193: 32896, 142: 32802, 117: 32761, 154: 32833, 132: 32530, 94: 32988, 44: 32926, 87: 32971, 108: 32873, 25: 32809, 135: 32932, 173: 32487, 102: 32981, 174: 32904, 8: 32934, 187: 32960, 160: 32767, 100: 32471, 16: 32730, 163: 32815, 80: 32974, 177: 32915, 24: 32961, 150: 32952, 138: 32906, 36: 32890, 7: 32975, 61: 32847, 15: 32919, 143: 32905, 31: 32894, 29: 32907, 141: 32850, 169: 32041, 180: 32860, 55: 32991, 73: 32715, 195: 32732, 26: 32855, 84: 32682, 118: 32587, 199: 32774, 111: 32938, 56: 32864, 6: 32956, 127: 32788, 99: 32901, 50: 32572, 21: 32734, 147: 32898}\n"
          ],
          "name": "stdout"
        }
      ]
    },
    {
      "cell_type": "markdown",
      "metadata": {
        "id": "lzMDrxvSKppq",
        "colab_type": "text"
      },
      "source": [
        "### Find LR Max"
      ]
    },
    {
      "cell_type": "code",
      "metadata": {
        "id": "TM6v_EAbCAy8",
        "colab_type": "code",
        "colab": {
          "base_uri": "https://localhost:8080/",
          "height": 350,
          "referenced_widgets": [
            "c1301e59f2ae4ceb8224759b91a7eabd",
            "413ddef80cfa4683b427ce28cd4ff7e4",
            "67325648a578466fa22482a88a411761",
            "90259def0dc945ce992dd999c4c83d11",
            "1645600d3fde41eb84151fceeb0d600d",
            "ecc700a9f396455b94658f9db122adeb",
            "5df78c34188b45c699e150229609d4cb",
            "ba732b01f25f412aa982d12b7447e405"
          ]
        },
        "outputId": "065ac523-5715-4498-c9cc-265a3a340385"
      },
      "source": [
        "# lr = dm.find_lr_max(model, device)"
      ],
      "execution_count": 5,
      "outputs": [
        {
          "output_type": "display_data",
          "data": {
            "application/vnd.jupyter.widget-view+json": {
              "model_id": "c1301e59f2ae4ceb8224759b91a7eabd",
              "version_minor": 0,
              "version_major": 2
            },
            "text/plain": [
              "HBox(children=(FloatProgress(value=0.0, max=2404.0), HTML(value='')))"
            ]
          },
          "metadata": {
            "tags": []
          }
        },
        {
          "output_type": "stream",
          "text": [
            "Stopping early, the loss has diverged\n",
            "Learning rate search finished. See the graph with {finder_name}.plot()\n"
          ],
          "name": "stdout"
        },
        {
          "output_type": "display_data",
          "data": {
            "image/png": "[encoded data removed]",
            "text/plain": [
              "<Figure size 432x288 with 1 Axes>"
            ]
          },
          "metadata": {
            "tags": [],
            "needs_background": "light"
          }
        }
      ]
    },
    {
      "cell_type": "markdown",
      "metadata": {
        "id": "WuUsuGONQRGa",
        "colab_type": "text"
      },
      "source": [
        "### LR Max"
      ]
    },
    {
      "cell_type": "code",
      "metadata": {
        "id": "o4GC_reZQVS-",
        "colab_type": "code",
        "colab": {
          "base_uri": "https://localhost:8080/",
          "height": 35
        },
        "outputId": "7ac9044d-0ece-4d4b-936b-bfd8a98b2356"
      },
      "source": [
        "lr = 0.3419951893353394 * 2.5\n",
        "print(lr)"
      ],
      "execution_count": 4,
      "outputs": [
        {
          "output_type": "stream",
          "text": [
            "0.8549879733383485\n"
          ],
          "name": "stdout"
        }
      ]
    },
    {
      "cell_type": "markdown",
      "metadata": {
        "id": "B54c10AlQZ3H",
        "colab_type": "text"
      },
      "source": [
        "\n",
        "## Run Model"
      ]
    },
    {
      "cell_type": "code",
      "metadata": {
        "id": "OosLo6lrCCbc",
        "colab_type": "code",
        "colab": {
          "base_uri": "https://localhost:8080/",
          "height": 1000
        },
        "outputId": "06b0d271-3516-49be-b1c8-b634482169da"
      },
      "source": [
        "dm.optimizer = optim_sgd.load(params=model.parameters(), lr=lr/10, momentum=0.9, weight_decay=0.0005)\n",
        "\n",
        "# training the dataset and then running test\n",
        "scheduler = OneCycleLR(dm.optimizer, \n",
        "                       max_lr=lr, \n",
        "                       epochs=50, \n",
        "                       steps_per_epoch = len(img_data.trainloader) + 1, \n",
        "                       div_factor=10,\n",
        "                       final_div_factor=100.0,\n",
        "                       pct_start=0.2\n",
        "                      )\n",
        "dm.schedular = scheduler\n",
        "dm.run_model(model, device)"
      ],
      "execution_count": 5,
      "outputs": [
        {
          "output_type": "stream",
          "text": [
            "\r  0%|          | 0/301 [00:00<?, ?it/s]"
          ],
          "name": "stderr"
        },
        {
          "output_type": "stream",
          "text": [
            "\n",
            "EPOCH: 1\n"
          ],
          "name": "stdout"
        },
        {
          "output_type": "stream",
          "text": [
            "Loss=4.680631637573242 Batch_id=300 Accuracy=3.50: 100%|██████████| 301/301 [03:34<00:00,  1.41it/s]\n",
            "  0%|          | 0/301 [00:00<?, ?it/s]"
          ],
          "name": "stderr"
        },
        {
          "output_type": "stream",
          "text": [
            "\n",
            "Test set: Average loss: 0.0179, Accuracy: 2295/33000 (6.95%)\n",
            "\n",
            "Learning Rate: 0.104218\n",
            "\n",
            "EPOCH: 2\n"
          ],
          "name": "stdout"
        },
        {
          "output_type": "stream",
          "text": [
            "Loss=4.246147155761719 Batch_id=300 Accuracy=8.80: 100%|██████████| 301/301 [03:33<00:00,  1.41it/s]\n",
            "  0%|          | 0/301 [00:00<?, ?it/s]"
          ],
          "name": "stderr"
        },
        {
          "output_type": "stream",
          "text": [
            "\n",
            "Test set: Average loss: 0.0162, Accuracy: 4134/33000 (12.53%)\n",
            "\n",
            "Learning Rate: 0.158555\n",
            "\n",
            "EPOCH: 3\n"
          ],
          "name": "stdout"
        },
        {
          "output_type": "stream",
          "text": [
            "Loss=4.0870680809021 Batch_id=300 Accuracy=12.71: 100%|██████████| 301/301 [03:33<00:00,  1.41it/s]\n",
            "  0%|          | 0/301 [00:00<?, ?it/s]"
          ],
          "name": "stderr"
        },
        {
          "output_type": "stream",
          "text": [
            "\n",
            "Test set: Average loss: 0.0158, Accuracy: 4445/33000 (13.47%)\n",
            "\n",
            "Learning Rate: 0.243223\n",
            "\n",
            "EPOCH: 4\n"
          ],
          "name": "stdout"
        },
        {
          "output_type": "stream",
          "text": [
            "Loss=4.085282802581787 Batch_id=300 Accuracy=14.49: 100%|██████████| 301/301 [03:33<00:00,  1.41it/s]\n",
            "  0%|          | 0/301 [00:00<?, ?it/s]"
          ],
          "name": "stderr"
        },
        {
          "output_type": "stream",
          "text": [
            "\n",
            "Test set: Average loss: 0.0164, Accuracy: 4042/33000 (12.25%)\n",
            "\n",
            "Learning Rate: 0.349981\n",
            "\n",
            "EPOCH: 5\n"
          ],
          "name": "stdout"
        },
        {
          "output_type": "stream",
          "text": [
            "Loss=3.9272773265838623 Batch_id=300 Accuracy=15.67: 100%|██████████| 301/301 [03:34<00:00,  1.41it/s]\n",
            "  0%|          | 0/301 [00:00<?, ?it/s]"
          ],
          "name": "stderr"
        },
        {
          "output_type": "stream",
          "text": [
            "\n",
            "Test set: Average loss: 0.0160, Accuracy: 4174/33000 (12.65%)\n",
            "\n",
            "Learning Rate: 0.468442\n",
            "\n",
            "EPOCH: 6\n"
          ],
          "name": "stdout"
        },
        {
          "output_type": "stream",
          "text": [
            "Loss=4.050654411315918 Batch_id=300 Accuracy=16.22: 100%|██████████| 301/301 [03:34<00:00,  1.40it/s]\n",
            "  0%|          | 0/301 [00:00<?, ?it/s]"
          ],
          "name": "stderr"
        },
        {
          "output_type": "stream",
          "text": [
            "\n",
            "Test set: Average loss: 0.0153, Accuracy: 5402/33000 (16.37%)\n",
            "\n",
            "Learning Rate: 0.587078\n",
            "\n",
            "EPOCH: 7\n"
          ],
          "name": "stdout"
        },
        {
          "output_type": "stream",
          "text": [
            "Loss=3.809335231781006 Batch_id=300 Accuracy=16.97: 100%|██████████| 301/301 [03:34<00:00,  1.41it/s]\n",
            "  0%|          | 0/301 [00:00<?, ?it/s]"
          ],
          "name": "stderr"
        },
        {
          "output_type": "stream",
          "text": [
            "\n",
            "Test set: Average loss: 0.0156, Accuracy: 5010/33000 (15.18%)\n",
            "\n",
            "Learning Rate: 0.694345\n",
            "\n",
            "EPOCH: 8\n"
          ],
          "name": "stdout"
        },
        {
          "output_type": "stream",
          "text": [
            "Loss=3.838801860809326 Batch_id=300 Accuracy=17.25: 100%|██████████| 301/301 [03:33<00:00,  1.41it/s]\n",
            "  0%|          | 0/301 [00:00<?, ?it/s]"
          ],
          "name": "stderr"
        },
        {
          "output_type": "stream",
          "text": [
            "\n",
            "Test set: Average loss: 0.0150, Accuracy: 5541/33000 (16.79%)\n",
            "\n",
            "Learning Rate: 0.779805\n",
            "\n",
            "EPOCH: 9\n"
          ],
          "name": "stdout"
        },
        {
          "output_type": "stream",
          "text": [
            "Loss=3.8271241188049316 Batch_id=300 Accuracy=17.68: 100%|██████████| 301/301 [03:34<00:00,  1.41it/s]\n",
            "  0%|          | 0/301 [00:00<?, ?it/s]"
          ],
          "name": "stderr"
        },
        {
          "output_type": "stream",
          "text": [
            "\n",
            "Test set: Average loss: 0.0172, Accuracy: 4004/33000 (12.13%)\n",
            "\n",
            "Learning Rate: 0.835142\n",
            "\n",
            "EPOCH: 10\n"
          ],
          "name": "stdout"
        },
        {
          "output_type": "stream",
          "text": [
            "Loss=3.924875497817993 Batch_id=300 Accuracy=17.64: 100%|██████████| 301/301 [03:32<00:00,  1.41it/s]\n",
            "  0%|          | 0/301 [00:00<?, ?it/s]"
          ],
          "name": "stderr"
        },
        {
          "output_type": "stream",
          "text": [
            "\n",
            "Test set: Average loss: 0.0149, Accuracy: 5654/33000 (17.13%)\n",
            "\n",
            "Learning Rate: 0.854971\n",
            "\n",
            "EPOCH: 11\n"
          ],
          "name": "stdout"
        },
        {
          "output_type": "stream",
          "text": [
            "Loss=3.93498158454895 Batch_id=300 Accuracy=18.57: 100%|██████████| 301/301 [03:33<00:00,  1.41it/s]\n",
            "  0%|          | 0/301 [00:00<?, ?it/s]"
          ],
          "name": "stderr"
        },
        {
          "output_type": "stream",
          "text": [
            "\n",
            "Test set: Average loss: 0.0177, Accuracy: 3996/33000 (12.11%)\n",
            "\n",
            "Learning Rate: 0.853757\n",
            "\n",
            "EPOCH: 12\n"
          ],
          "name": "stdout"
        },
        {
          "output_type": "stream",
          "text": [
            "Loss=3.6179583072662354 Batch_id=300 Accuracy=18.55: 100%|██████████| 301/301 [03:33<00:00,  1.41it/s]\n",
            "  0%|          | 0/301 [00:00<?, ?it/s]"
          ],
          "name": "stderr"
        },
        {
          "output_type": "stream",
          "text": [
            "\n",
            "Test set: Average loss: 0.0152, Accuracy: 5301/33000 (16.06%)\n",
            "\n",
            "Learning Rate: 0.849919\n",
            "\n",
            "EPOCH: 13\n"
          ],
          "name": "stdout"
        },
        {
          "output_type": "stream",
          "text": [
            "Loss=4.043999671936035 Batch_id=300 Accuracy=18.77: 100%|██████████| 301/301 [03:33<00:00,  1.41it/s]\n",
            "  0%|          | 0/301 [00:00<?, ?it/s]"
          ],
          "name": "stderr"
        },
        {
          "output_type": "stream",
          "text": [
            "\n",
            "Test set: Average loss: 0.0152, Accuracy: 5323/33000 (16.13%)\n",
            "\n",
            "Learning Rate: 0.843497\n",
            "\n",
            "EPOCH: 14\n"
          ],
          "name": "stdout"
        },
        {
          "output_type": "stream",
          "text": [
            "Loss=3.425067663192749 Batch_id=300 Accuracy=19.25: 100%|██████████| 301/301 [03:33<00:00,  1.41it/s]\n",
            "  0%|          | 0/301 [00:00<?, ?it/s]"
          ],
          "name": "stderr"
        },
        {
          "output_type": "stream",
          "text": [
            "\n",
            "Test set: Average loss: 0.0153, Accuracy: 5221/33000 (15.82%)\n",
            "\n",
            "Learning Rate: 0.834530\n",
            "\n",
            "EPOCH: 15\n"
          ],
          "name": "stdout"
        },
        {
          "output_type": "stream",
          "text": [
            "Loss=3.788902997970581 Batch_id=300 Accuracy=19.21: 100%|██████████| 301/301 [03:34<00:00,  1.40it/s]\n",
            "  0%|          | 0/301 [00:00<?, ?it/s]"
          ],
          "name": "stderr"
        },
        {
          "output_type": "stream",
          "text": [
            "\n",
            "Test set: Average loss: 0.0154, Accuracy: 5184/33000 (15.71%)\n",
            "\n",
            "Learning Rate: 0.823072\n",
            "\n",
            "EPOCH: 16\n"
          ],
          "name": "stdout"
        },
        {
          "output_type": "stream",
          "text": [
            "Loss=3.7320308685302734 Batch_id=300 Accuracy=19.72: 100%|██████████| 301/301 [03:34<00:00,  1.41it/s]\n",
            "  0%|          | 0/301 [00:00<?, ?it/s]"
          ],
          "name": "stderr"
        },
        {
          "output_type": "stream",
          "text": [
            "\n",
            "Test set: Average loss: 0.0155, Accuracy: 5002/33000 (15.16%)\n",
            "\n",
            "Learning Rate: 0.809194\n",
            "\n",
            "EPOCH: 17\n"
          ],
          "name": "stdout"
        },
        {
          "output_type": "stream",
          "text": [
            "Loss=3.5492947101593018 Batch_id=300 Accuracy=19.65: 100%|██████████| 301/301 [03:33<00:00,  1.41it/s]\n",
            "  0%|          | 0/301 [00:00<?, ?it/s]"
          ],
          "name": "stderr"
        },
        {
          "output_type": "stream",
          "text": [
            "\n",
            "Test set: Average loss: 0.0157, Accuracy: 5077/33000 (15.38%)\n",
            "\n",
            "Learning Rate: 0.792981\n",
            "\n",
            "EPOCH: 18\n"
          ],
          "name": "stdout"
        },
        {
          "output_type": "stream",
          "text": [
            "Loss=3.7333779335021973 Batch_id=57 Accuracy=20.31:  19%|█▉        | 58/301 [00:42<02:52,  1.41it/s]"
          ],
          "name": "stderr"
        },
        {
          "output_type": "error",
          "ename": "KeyboardInterrupt",
          "evalue": "ignored",
          "traceback": [
            "\u001b[0;31m---------------------------------------------------------------------------\u001b[0m",
            "\u001b[0;31mKeyboardInterrupt\u001b[0m                         Traceback (most recent call last)",
            "\u001b[0;32m<ipython-input-5-c22d9907e66c>\u001b[0m in \u001b[0;36m<module>\u001b[0;34m()\u001b[0m\n\u001b[1;32m     11\u001b[0m                       )\n\u001b[1;32m     12\u001b[0m \u001b[0mdm\u001b[0m\u001b[0;34m.\u001b[0m\u001b[0mschedular\u001b[0m \u001b[0;34m=\u001b[0m \u001b[0mscheduler\u001b[0m\u001b[0;34m\u001b[0m\u001b[0;34m\u001b[0m\u001b[0m\n\u001b[0;32m---> 13\u001b[0;31m \u001b[0mdm\u001b[0m\u001b[0;34m.\u001b[0m\u001b[0mrun_model\u001b[0m\u001b[0;34m(\u001b[0m\u001b[0mmodel\u001b[0m\u001b[0;34m,\u001b[0m \u001b[0mdevice\u001b[0m\u001b[0;34m)\u001b[0m\u001b[0;34m\u001b[0m\u001b[0;34m\u001b[0m\u001b[0m\n\u001b[0m",
            "\u001b[0;32m/content/deep_learning/S12/datamodel.py\u001b[0m in \u001b[0;36mrun_model\u001b[0;34m(self, net_model, device)\u001b[0m\n\u001b[1;32m    110\u001b[0m         \u001b[0mprint\u001b[0m\u001b[0;34m(\u001b[0m\u001b[0;34m\"\\nEPOCH:\"\u001b[0m\u001b[0;34m,\u001b[0m \u001b[0mepoch\u001b[0m \u001b[0;34m+\u001b[0m \u001b[0;36m1\u001b[0m\u001b[0;34m)\u001b[0m\u001b[0;34m\u001b[0m\u001b[0;34m\u001b[0m\u001b[0m\n\u001b[1;32m    111\u001b[0m         \u001b[0mself\u001b[0m\u001b[0;34m.\u001b[0m\u001b[0mmisclassified\u001b[0m \u001b[0;34m=\u001b[0m \u001b[0;34m[\u001b[0m\u001b[0;34m]\u001b[0m\u001b[0;34m\u001b[0m\u001b[0;34m\u001b[0m\u001b[0m\n\u001b[0;32m--> 112\u001b[0;31m         \u001b[0mself\u001b[0m\u001b[0;34m.\u001b[0m\u001b[0mtrain\u001b[0m\u001b[0;34m(\u001b[0m\u001b[0mdevice\u001b[0m\u001b[0;34m,\u001b[0m \u001b[0mself\u001b[0m\u001b[0;34m.\u001b[0m\u001b[0mimg_data\u001b[0m\u001b[0;34m.\u001b[0m\u001b[0mtrainloader\u001b[0m\u001b[0;34m,\u001b[0m \u001b[0mepoch\u001b[0m\u001b[0;34m)\u001b[0m\u001b[0;34m\u001b[0m\u001b[0;34m\u001b[0m\u001b[0m\n\u001b[0m\u001b[1;32m    113\u001b[0m \u001b[0;34m\u001b[0m\u001b[0m\n\u001b[1;32m    114\u001b[0m         \u001b[0mself\u001b[0m\u001b[0;34m.\u001b[0m\u001b[0mtest\u001b[0m\u001b[0;34m(\u001b[0m\u001b[0mdevice\u001b[0m\u001b[0;34m,\u001b[0m \u001b[0mself\u001b[0m\u001b[0;34m.\u001b[0m\u001b[0mimg_data\u001b[0m\u001b[0;34m.\u001b[0m\u001b[0mtestloader\u001b[0m\u001b[0;34m)\u001b[0m\u001b[0;34m\u001b[0m\u001b[0;34m\u001b[0m\u001b[0m\n",
            "\u001b[0;32m/content/deep_learning/S12/datamodel.py\u001b[0m in \u001b[0;36mtrain\u001b[0;34m(self, device, train_loader, epoch)\u001b[0m\n\u001b[1;32m     54\u001b[0m       \u001b[0;31m# Update pbar-tqdm\u001b[0m\u001b[0;34m\u001b[0m\u001b[0;34m\u001b[0m\u001b[0;34m\u001b[0m\u001b[0m\n\u001b[1;32m     55\u001b[0m       \u001b[0mpred\u001b[0m \u001b[0;34m=\u001b[0m \u001b[0my_pred\u001b[0m\u001b[0;34m.\u001b[0m\u001b[0margmax\u001b[0m\u001b[0;34m(\u001b[0m\u001b[0mdim\u001b[0m\u001b[0;34m=\u001b[0m\u001b[0;36m1\u001b[0m\u001b[0;34m,\u001b[0m \u001b[0mkeepdim\u001b[0m\u001b[0;34m=\u001b[0m\u001b[0;32mTrue\u001b[0m\u001b[0;34m)\u001b[0m  \u001b[0;31m# get the index of the max log-probability\u001b[0m\u001b[0;34m\u001b[0m\u001b[0;34m\u001b[0m\u001b[0m\n\u001b[0;32m---> 56\u001b[0;31m       \u001b[0mcorrect\u001b[0m \u001b[0;34m+=\u001b[0m \u001b[0mpred\u001b[0m\u001b[0;34m.\u001b[0m\u001b[0meq\u001b[0m\u001b[0;34m(\u001b[0m\u001b[0mtarget\u001b[0m\u001b[0;34m.\u001b[0m\u001b[0mview_as\u001b[0m\u001b[0;34m(\u001b[0m\u001b[0mpred\u001b[0m\u001b[0;34m)\u001b[0m\u001b[0;34m)\u001b[0m\u001b[0;34m.\u001b[0m\u001b[0msum\u001b[0m\u001b[0;34m(\u001b[0m\u001b[0;34m)\u001b[0m\u001b[0;34m.\u001b[0m\u001b[0mitem\u001b[0m\u001b[0;34m(\u001b[0m\u001b[0;34m)\u001b[0m\u001b[0;34m\u001b[0m\u001b[0;34m\u001b[0m\u001b[0m\n\u001b[0m\u001b[1;32m     57\u001b[0m       \u001b[0mprocessed\u001b[0m \u001b[0;34m+=\u001b[0m \u001b[0mlen\u001b[0m\u001b[0;34m(\u001b[0m\u001b[0mdata\u001b[0m\u001b[0;34m)\u001b[0m\u001b[0;34m\u001b[0m\u001b[0;34m\u001b[0m\u001b[0m\n\u001b[1;32m     58\u001b[0m       \u001b[0mpbar\u001b[0m\u001b[0;34m.\u001b[0m\u001b[0mset_description\u001b[0m\u001b[0;34m(\u001b[0m\u001b[0mdesc\u001b[0m\u001b[0;34m=\u001b[0m \u001b[0;34mf'Loss={loss.item()} Batch_id={batch_idx} Accuracy={100*correct/processed:0.2f}'\u001b[0m\u001b[0;34m)\u001b[0m\u001b[0;34m\u001b[0m\u001b[0;34m\u001b[0m\u001b[0m\n",
            "\u001b[0;31mKeyboardInterrupt\u001b[0m: "
          ]
        }
      ]
    },
    {
      "cell_type": "markdown",
      "metadata": {
        "id": "tE6VsvyHYPCU",
        "colab_type": "text"
      },
      "source": [
        "## Plotting Test & Train Accuracy"
      ]
    },
    {
      "cell_type": "code",
      "metadata": {
        "id": "F2H9sm2BYS6y",
        "colab_type": "code",
        "colab": {
          "base_uri": "https://localhost:8080/",
          "height": 661
        },
        "outputId": "aa016644-eb2b-4e22-9df1-4aeee9ca5e7c"
      },
      "source": [
        "dm.plot_test_train_accuracy()"
      ],
      "execution_count": 8,
      "outputs": [
        {
          "output_type": "stream",
          "text": [
            "[3.4233766233766234, 9.57922077922078, 13.864935064935064, 16.78051948051948, 18.906493506493508, 20.615584415584415, 22.22987012987013, 23.37922077922078, 24.475324675324675, 25.22987012987013, 26.47142857142857, 27.345454545454544, 27.91038961038961, 29.01818181818182, 29.45974025974026, 30.198701298701298, 30.725974025974025]\n",
            "[5.206060606060606, 10.766666666666667, 15.712121212121213, 15.675757575757576, 16.76060606060606, 17.636363636363637, 20.042424242424243, 19.784848484848485, 19.681818181818183, 22.20909090909091, 23.26060606060606, 18.73030303030303, 20.26969696969697, 24.578787878787878, 20.493939393939392, 24.672727272727272, 26.13030303030303]\n"
          ],
          "name": "stdout"
        },
        {
          "output_type": "display_data",
          "data": {
            "image/png": "[encoded data removed]",
            "text/plain": [
              "<Figure size 720x720 with 2 Axes>"
            ]
          },
          "metadata": {
            "tags": [],
            "needs_background": "light"
          }
        }
      ]
    },
    {
      "cell_type": "markdown",
      "metadata": {
        "id": "avY9ZjqcgjMA",
        "colab_type": "text"
      },
      "source": [
        "## Plotting Validation Accuracy"
      ]
    },
    {
      "cell_type": "code",
      "metadata": {
        "id": "QX5FhD-egnxD",
        "colab_type": "code",
        "colab": {
          "base_uri": "https://localhost:8080/",
          "height": 606
        },
        "outputId": "1c7ed24e-2cc0-4b69-dea4-849305efccb9"
      },
      "source": [
        "dm.plot_loss_accuracy()"
      ],
      "execution_count": 10,
      "outputs": [
        {
          "output_type": "display_data",
          "data": {
            "image/png": "[encoded data removed]",
            "text/plain": [
              "<Figure size 720x720 with 2 Axes>"
            ]
          },
          "metadata": {
            "tags": [],
            "needs_background": "light"
          }
        }
      ]
    },
    {
      "cell_type": "code",
      "metadata": {
        "id": "3iPs0atTg6bQ",
        "colab_type": "code",
        "colab": {
          "base_uri": "https://localhost:8080/",
          "height": 273
        },
        "outputId": "f4147bae-ea80-45bc-bb87-89d8f800f061"
      },
      "source": [
        "dm.plot_GRADcam([\"layer1\",\"layer2\",\"layer3\"])"
      ],
      "execution_count": 12,
      "outputs": [
        {
          "output_type": "error",
          "ename": "RuntimeError",
          "evalue": "ignored",
          "traceback": [
            "\u001b[0;31m---------------------------------------------------------------------------\u001b[0m",
            "\u001b[0;31mRuntimeError\u001b[0m                              Traceback (most recent call last)",
            "\u001b[0;32m<ipython-input-12-f6bfd3d274d9>\u001b[0m in \u001b[0;36m<module>\u001b[0;34m()\u001b[0m\n\u001b[0;32m----> 1\u001b[0;31m \u001b[0mdm\u001b[0m\u001b[0;34m.\u001b[0m\u001b[0mplot_GRADcam\u001b[0m\u001b[0;34m(\u001b[0m\u001b[0;34m[\u001b[0m\u001b[0;34m\"layer1\"\u001b[0m\u001b[0;34m,\u001b[0m\u001b[0;34m\"layer2\"\u001b[0m\u001b[0;34m,\u001b[0m\u001b[0;34m\"layer3\"\u001b[0m\u001b[0;34m]\u001b[0m\u001b[0;34m)\u001b[0m\u001b[0;34m\u001b[0m\u001b[0;34m\u001b[0m\u001b[0m\n\u001b[0m",
            "\u001b[0;32m/content/deep_learning/S12/datamodel.py\u001b[0m in \u001b[0;36mplot_GRADcam\u001b[0;34m(self, target_layers)\u001b[0m\n\u001b[1;32m    217\u001b[0m       \u001b[0;32mif\u001b[0m \u001b[0mi\u001b[0m \u001b[0;34m==\u001b[0m \u001b[0;36m25\u001b[0m\u001b[0;34m:\u001b[0m\u001b[0;34m\u001b[0m\u001b[0;34m\u001b[0m\u001b[0m\n\u001b[1;32m    218\u001b[0m           \u001b[0;32mbreak\u001b[0m\u001b[0;34m\u001b[0m\u001b[0;34m\u001b[0m\u001b[0m\n\u001b[0;32m--> 219\u001b[0;31m     \u001b[0mviz_cam\u001b[0m\u001b[0;34m(\u001b[0m\u001b[0mtorch\u001b[0m\u001b[0;34m.\u001b[0m\u001b[0mstack\u001b[0m\u001b[0;34m(\u001b[0m\u001b[0mincorrect_pred_imgs\u001b[0m\u001b[0;34m)\u001b[0m\u001b[0;34m,\u001b[0m \u001b[0mimage_for_gradcam\u001b[0m\u001b[0;34m,\u001b[0m \u001b[0mtarget_layers\u001b[0m\u001b[0;34m,\u001b[0m \u001b[0mmetric\u001b[0m\u001b[0;34m=\u001b[0m\u001b[0;34m\"incorrect\"\u001b[0m\u001b[0;34m)\u001b[0m\u001b[0;34m\u001b[0m\u001b[0;34m\u001b[0m\u001b[0m\n\u001b[0m",
            "\u001b[0;31mRuntimeError\u001b[0m: stack expects a non-empty TensorList"
          ]
        }
      ]
    }
  ]
}
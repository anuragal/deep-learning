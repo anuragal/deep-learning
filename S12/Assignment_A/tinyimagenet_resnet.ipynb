{
  "nbformat": 4,
  "nbformat_minor": 0,
  "metadata": {
    "kernelspec": {
      "name": "python3",
      "display_name": "Python 3"
    },
    "language_info": {
      "codemirror_mode": {
        "name": "ipython",
        "version": 3
      },
      "file_extension": ".py",
      "mimetype": "text/x-python",
      "name": "python",
      "nbconvert_exporter": "python",
      "pygments_lexer": "ipython3",
      "version": "3.6.6"
    },
    "colab": {
      "name": "imagenet_resnet18 (2).ipynb",
      "provenance": [],
      "toc_visible": true,
      "include_colab_link": true
    },
    "accelerator": "GPU"
  },
  "cells": [
    {
      "cell_type": "markdown",
      "metadata": {
        "id": "view-in-github",
        "colab_type": "text"
      },
      "source": [
        "<a href=\"https://colab.research.google.com/github/anuragal/deep-learning/blob/master/S12/Assignment_A/tinyimagenet_resnet.ipynb\" target=\"_parent\"><img src=\"https://colab.research.google.com/assets/colab-badge.svg\" alt=\"Open In Colab\"/></a>"
      ]
    },
    {
      "cell_type": "code",
      "metadata": {
        "id": "7TmDL9U5OpVk",
        "colab_type": "code",
        "colab": {}
      },
      "source": [
        "# ! git clone https://github.com/anuragal/deep-learning deep_learning\n",
        "# ! ls 'deep_learning/tiny-imagenet-200/'"
      ],
      "execution_count": 1,
      "outputs": []
    },
    {
      "cell_type": "code",
      "metadata": {
        "id": "1a27S8fEJooN",
        "colab_type": "code",
        "colab": {}
      },
      "source": [
        "# ! cd 'deep_learning' && git pull"
      ],
      "execution_count": 2,
      "outputs": []
    },
    {
      "cell_type": "markdown",
      "metadata": {
        "id": "l7LKzevcivPw",
        "colab_type": "text"
      },
      "source": [
        "## Model"
      ]
    },
    {
      "cell_type": "code",
      "metadata": {
        "id": "ye3wHlAvdI9h",
        "colab_type": "code",
        "colab": {
          "base_uri": "https://localhost:8080/",
          "height": 1000
        },
        "outputId": "e32c5de0-6fbb-4a7c-c86c-d23b24987328"
      },
      "source": [
        "!pip install albumentations==0.4.5\n",
        "\n",
        "import torch\n",
        "import torch.nn as nn\n",
        "import torch.nn.functional as F\n",
        "import torchvision.models as models\n",
        "\n",
        "!pip install torchsummary\n",
        "from torchsummary import summary\n",
        "\n",
        "use_cuda = torch.cuda.is_available()\n",
        "device = torch.device(\"cuda\" if use_cuda else \"cpu\")\n",
        "print(device)\n",
        "\n",
        "#Load Resnet18\n",
        "model = models.resnet18()\n",
        "\n",
        "#Finetune Final few layers to adjust for tiny imagenet input\n",
        "model.avgpool = nn.AdaptiveAvgPool2d(1)\n",
        "model.fc.out_features = 200\n",
        "model = model.to(device)\n",
        "\n",
        "summary(model, input_size=(3, 32, 32))"
      ],
      "execution_count": 3,
      "outputs": [
        {
          "output_type": "stream",
          "text": [
            "Requirement already satisfied: albumentations==0.4.5 in /usr/local/lib/python3.6/dist-packages (0.4.5)\n",
            "Requirement already satisfied: numpy>=1.11.1 in /usr/local/lib/python3.6/dist-packages (from albumentations==0.4.5) (1.18.5)\n",
            "Requirement already satisfied: PyYAML in /usr/local/lib/python3.6/dist-packages (from albumentations==0.4.5) (3.13)\n",
            "Requirement already satisfied: scipy in /usr/local/lib/python3.6/dist-packages (from albumentations==0.4.5) (1.4.1)\n",
            "Requirement already satisfied: imgaug<0.2.7,>=0.2.5 in /usr/local/lib/python3.6/dist-packages (from albumentations==0.4.5) (0.2.6)\n",
            "Requirement already satisfied: opencv-python>=4.1.1 in /usr/local/lib/python3.6/dist-packages (from albumentations==0.4.5) (4.1.2.30)\n",
            "Requirement already satisfied: scikit-image>=0.11.0 in /usr/local/lib/python3.6/dist-packages (from imgaug<0.2.7,>=0.2.5->albumentations==0.4.5) (0.16.2)\n",
            "Requirement already satisfied: six in /usr/local/lib/python3.6/dist-packages (from imgaug<0.2.7,>=0.2.5->albumentations==0.4.5) (1.12.0)\n",
            "Requirement already satisfied: matplotlib!=3.0.0,>=2.0.0 in /usr/local/lib/python3.6/dist-packages (from scikit-image>=0.11.0->imgaug<0.2.7,>=0.2.5->albumentations==0.4.5) (3.2.2)\n",
            "Requirement already satisfied: networkx>=2.0 in /usr/local/lib/python3.6/dist-packages (from scikit-image>=0.11.0->imgaug<0.2.7,>=0.2.5->albumentations==0.4.5) (2.4)\n",
            "Requirement already satisfied: PyWavelets>=0.4.0 in /usr/local/lib/python3.6/dist-packages (from scikit-image>=0.11.0->imgaug<0.2.7,>=0.2.5->albumentations==0.4.5) (1.1.1)\n",
            "Requirement already satisfied: pillow>=4.3.0 in /usr/local/lib/python3.6/dist-packages (from scikit-image>=0.11.0->imgaug<0.2.7,>=0.2.5->albumentations==0.4.5) (7.0.0)\n",
            "Requirement already satisfied: imageio>=2.3.0 in /usr/local/lib/python3.6/dist-packages (from scikit-image>=0.11.0->imgaug<0.2.7,>=0.2.5->albumentations==0.4.5) (2.4.1)\n",
            "Requirement already satisfied: python-dateutil>=2.1 in /usr/local/lib/python3.6/dist-packages (from matplotlib!=3.0.0,>=2.0.0->scikit-image>=0.11.0->imgaug<0.2.7,>=0.2.5->albumentations==0.4.5) (2.8.1)\n",
            "Requirement already satisfied: cycler>=0.10 in /usr/local/lib/python3.6/dist-packages (from matplotlib!=3.0.0,>=2.0.0->scikit-image>=0.11.0->imgaug<0.2.7,>=0.2.5->albumentations==0.4.5) (0.10.0)\n",
            "Requirement already satisfied: kiwisolver>=1.0.1 in /usr/local/lib/python3.6/dist-packages (from matplotlib!=3.0.0,>=2.0.0->scikit-image>=0.11.0->imgaug<0.2.7,>=0.2.5->albumentations==0.4.5) (1.2.0)\n",
            "Requirement already satisfied: pyparsing!=2.0.4,!=2.1.2,!=2.1.6,>=2.0.1 in /usr/local/lib/python3.6/dist-packages (from matplotlib!=3.0.0,>=2.0.0->scikit-image>=0.11.0->imgaug<0.2.7,>=0.2.5->albumentations==0.4.5) (2.4.7)\n",
            "Requirement already satisfied: decorator>=4.3.0 in /usr/local/lib/python3.6/dist-packages (from networkx>=2.0->scikit-image>=0.11.0->imgaug<0.2.7,>=0.2.5->albumentations==0.4.5) (4.4.2)\n",
            "Requirement already satisfied: torchsummary in /usr/local/lib/python3.6/dist-packages (1.5.1)\n",
            "cuda\n",
            "----------------------------------------------------------------\n",
            "        Layer (type)               Output Shape         Param #\n",
            "================================================================\n",
            "            Conv2d-1           [-1, 64, 16, 16]           9,408\n",
            "       BatchNorm2d-2           [-1, 64, 16, 16]             128\n",
            "              ReLU-3           [-1, 64, 16, 16]               0\n",
            "         MaxPool2d-4             [-1, 64, 8, 8]               0\n",
            "            Conv2d-5             [-1, 64, 8, 8]          36,864\n",
            "       BatchNorm2d-6             [-1, 64, 8, 8]             128\n",
            "              ReLU-7             [-1, 64, 8, 8]               0\n",
            "            Conv2d-8             [-1, 64, 8, 8]          36,864\n",
            "       BatchNorm2d-9             [-1, 64, 8, 8]             128\n",
            "             ReLU-10             [-1, 64, 8, 8]               0\n",
            "       BasicBlock-11             [-1, 64, 8, 8]               0\n",
            "           Conv2d-12             [-1, 64, 8, 8]          36,864\n",
            "      BatchNorm2d-13             [-1, 64, 8, 8]             128\n",
            "             ReLU-14             [-1, 64, 8, 8]               0\n",
            "           Conv2d-15             [-1, 64, 8, 8]          36,864\n",
            "      BatchNorm2d-16             [-1, 64, 8, 8]             128\n",
            "             ReLU-17             [-1, 64, 8, 8]               0\n",
            "       BasicBlock-18             [-1, 64, 8, 8]               0\n",
            "           Conv2d-19            [-1, 128, 4, 4]          73,728\n",
            "      BatchNorm2d-20            [-1, 128, 4, 4]             256\n",
            "             ReLU-21            [-1, 128, 4, 4]               0\n",
            "           Conv2d-22            [-1, 128, 4, 4]         147,456\n",
            "      BatchNorm2d-23            [-1, 128, 4, 4]             256\n",
            "           Conv2d-24            [-1, 128, 4, 4]           8,192\n",
            "      BatchNorm2d-25            [-1, 128, 4, 4]             256\n",
            "             ReLU-26            [-1, 128, 4, 4]               0\n",
            "       BasicBlock-27            [-1, 128, 4, 4]               0\n",
            "           Conv2d-28            [-1, 128, 4, 4]         147,456\n",
            "      BatchNorm2d-29            [-1, 128, 4, 4]             256\n",
            "             ReLU-30            [-1, 128, 4, 4]               0\n",
            "           Conv2d-31            [-1, 128, 4, 4]         147,456\n",
            "      BatchNorm2d-32            [-1, 128, 4, 4]             256\n",
            "             ReLU-33            [-1, 128, 4, 4]               0\n",
            "       BasicBlock-34            [-1, 128, 4, 4]               0\n",
            "           Conv2d-35            [-1, 256, 2, 2]         294,912\n",
            "      BatchNorm2d-36            [-1, 256, 2, 2]             512\n",
            "             ReLU-37            [-1, 256, 2, 2]               0\n",
            "           Conv2d-38            [-1, 256, 2, 2]         589,824\n",
            "      BatchNorm2d-39            [-1, 256, 2, 2]             512\n",
            "           Conv2d-40            [-1, 256, 2, 2]          32,768\n",
            "      BatchNorm2d-41            [-1, 256, 2, 2]             512\n",
            "             ReLU-42            [-1, 256, 2, 2]               0\n",
            "       BasicBlock-43            [-1, 256, 2, 2]               0\n",
            "           Conv2d-44            [-1, 256, 2, 2]         589,824\n",
            "      BatchNorm2d-45            [-1, 256, 2, 2]             512\n",
            "             ReLU-46            [-1, 256, 2, 2]               0\n",
            "           Conv2d-47            [-1, 256, 2, 2]         589,824\n",
            "      BatchNorm2d-48            [-1, 256, 2, 2]             512\n",
            "             ReLU-49            [-1, 256, 2, 2]               0\n",
            "       BasicBlock-50            [-1, 256, 2, 2]               0\n",
            "           Conv2d-51            [-1, 512, 1, 1]       1,179,648\n",
            "      BatchNorm2d-52            [-1, 512, 1, 1]           1,024\n",
            "             ReLU-53            [-1, 512, 1, 1]               0\n",
            "           Conv2d-54            [-1, 512, 1, 1]       2,359,296\n",
            "      BatchNorm2d-55            [-1, 512, 1, 1]           1,024\n",
            "           Conv2d-56            [-1, 512, 1, 1]         131,072\n",
            "      BatchNorm2d-57            [-1, 512, 1, 1]           1,024\n",
            "             ReLU-58            [-1, 512, 1, 1]               0\n",
            "       BasicBlock-59            [-1, 512, 1, 1]               0\n",
            "           Conv2d-60            [-1, 512, 1, 1]       2,359,296\n",
            "      BatchNorm2d-61            [-1, 512, 1, 1]           1,024\n",
            "             ReLU-62            [-1, 512, 1, 1]               0\n",
            "           Conv2d-63            [-1, 512, 1, 1]       2,359,296\n",
            "      BatchNorm2d-64            [-1, 512, 1, 1]           1,024\n",
            "             ReLU-65            [-1, 512, 1, 1]               0\n",
            "       BasicBlock-66            [-1, 512, 1, 1]               0\n",
            "AdaptiveAvgPool2d-67            [-1, 512, 1, 1]               0\n",
            "           Linear-68                 [-1, 1000]         513,000\n",
            "================================================================\n",
            "Total params: 11,689,512\n",
            "Trainable params: 11,689,512\n",
            "Non-trainable params: 0\n",
            "----------------------------------------------------------------\n",
            "Input size (MB): 0.01\n",
            "Forward/backward pass size (MB): 1.29\n",
            "Params size (MB): 44.59\n",
            "Estimated Total Size (MB): 45.90\n",
            "----------------------------------------------------------------\n"
          ],
          "name": "stdout"
        }
      ]
    },
    {
      "cell_type": "markdown",
      "metadata": {
        "id": "YLrvL_fHpoC5",
        "colab_type": "text"
      },
      "source": [
        "## Run the Model"
      ]
    },
    {
      "cell_type": "code",
      "metadata": {
        "id": "YWIDUH8Dhonl",
        "colab_type": "code",
        "colab": {}
      },
      "source": [
        "%matplotlib inline"
      ],
      "execution_count": 4,
      "outputs": []
    },
    {
      "cell_type": "code",
      "metadata": {
        "id": "nizbsvw9poC6",
        "colab_type": "code",
        "colab": {}
      },
      "source": [
        "import torch.nn as nn\n",
        "\n",
        "from deep_learning.S12.Assignment_A.dataloader import ImageData\n",
        "from deep_learning.S12.Assignment_A.datamodel import DataModel\n",
        "from deep_learning.S12.Assignment_A.optimizer import OptimizerFactory\n",
        "\n",
        "from torch.optim.lr_scheduler import OneCycleLR\n",
        "\n",
        "dataset_path = 'deep_learning/tiny-imagenet-200/'\n",
        "# Loading data and transforming it\n",
        "img_data = ImageData()\n",
        "\n",
        "# Choose from \"albumentations\" or \"pytorch\". Default is \"pytorch\"\n",
        "img_data.load_TINY_IMAGENET(dataset_path, \"albumentations\")\n",
        "\n",
        "criterion = nn.CrossEntropyLoss()\n",
        "\n",
        "# optimizer can be choose from \"SGD\" & \"Adam\"\n",
        "optim_sgd = OptimizerFactory(\"SGD\")\n",
        "optimizer = optim_sgd.load(params=model.parameters(), lr=0.15, momentum=0.9, weight_decay=1e-4)\n",
        "\n",
        "dm = DataModel(img_data, criterion, optimizer, None, num_of_epochs = 50, cal_misclassified = True)"
      ],
      "execution_count": null,
      "outputs": []
    },
    {
      "cell_type": "markdown",
      "metadata": {
        "id": "lzMDrxvSKppq",
        "colab_type": "text"
      },
      "source": [
        "### Find LR Max"
      ]
    },
    {
      "cell_type": "code",
      "metadata": {
        "id": "TM6v_EAbCAy8",
        "colab_type": "code",
        "colab": {}
      },
      "source": [
        "lr = dm.find_lr_max(model, device)"
      ],
      "execution_count": 6,
      "outputs": []
    },
    {
      "cell_type": "markdown",
      "metadata": {
        "id": "WuUsuGONQRGa",
        "colab_type": "text"
      },
      "source": [
        "### LR Max"
      ]
    },
    {
      "cell_type": "code",
      "metadata": {
        "id": "o4GC_reZQVS-",
        "colab_type": "code",
        "colab": {
          "base_uri": "https://localhost:8080/",
          "height": 35
        },
        "outputId": "ace77f64-a082-41d5-e7cf-4a14527ef790"
      },
      "source": [
        "print(lr)"
      ],
      "execution_count": 13,
      "outputs": [
        {
          "output_type": "stream",
          "text": [
            "0.19823\n"
          ],
          "name": "stdout"
        }
      ]
    },
    {
      "cell_type": "markdown",
      "metadata": {
        "id": "B54c10AlQZ3H",
        "colab_type": "text"
      },
      "source": [
        "\n",
        "## Run Model"
      ]
    },
    {
      "cell_type": "code",
      "metadata": {
        "id": "OosLo6lrCCbc",
        "colab_type": "code",
        "colab": {
          "base_uri": "https://localhost:8080/",
          "height": 1000
        },
        "outputId": "e65ca113-4821-4014-9f4c-27049ad9add7"
      },
      "source": [
        "dm.optimizer = optim_sgd.load(params=model.parameters(), lr=lr/10, momentum=0.9, weight_decay=0.0005)\n",
        "\n",
        "# training the dataset and then running test\n",
        "scheduler = OneCycleLR(dm.optimizer, \n",
        "                       max_lr=lr, \n",
        "                       epochs=50, \n",
        "                       steps_per_epoch = len(img_data.trainloader), \n",
        "                       div_factor=9,\n",
        "                       final_div_factor=10,\n",
        "                       pct_start=0.6\n",
        "                       )\n",
        "dm.schedular = scheduler\n",
        "dm.run_model(model, device)"
      ],
      "execution_count": 8,
      "outputs": [
        {
          "output_type": "stream",
          "text": [
            "\r  0%|          | 0/602 [00:00<?, ?it/s]"
          ],
          "name": "stderr"
        },
        {
          "output_type": "stream",
          "text": [
            "\n",
            "EPOCH: 1\n"
          ],
          "name": "stdout"
        },
        {
          "output_type": "stream",
          "text": [
            "Loss=4.546386241912842 Batch_id=601 Accuracy=4.15: 100%|██████████| 602/602 [01:02<00:00,  9.62it/s]\n",
            "  0%|          | 0/602 [00:00<?, ?it/s]"
          ],
          "name": "stderr"
        },
        {
          "output_type": "stream",
          "text": [
            "\n",
            "Test set: Average loss: 0.0345, Accuracy: 3033/33000 (9.19%)\n",
            "\n",
            "Learning Rate: 0.002271\n",
            "\n",
            "EPOCH: 2\n"
          ],
          "name": "stdout"
        },
        {
          "output_type": "stream",
          "text": [
            "Loss=3.978684425354004 Batch_id=601 Accuracy=11.95: 100%|██████████| 602/602 [01:02<00:00,  9.60it/s]\n",
            "  0%|          | 0/602 [00:00<?, ?it/s]"
          ],
          "name": "stderr"
        },
        {
          "output_type": "stream",
          "text": [
            "\n",
            "Test set: Average loss: 0.0312, Accuracy: 4642/33000 (14.07%)\n",
            "\n",
            "Learning Rate: 0.002416\n",
            "\n",
            "EPOCH: 3\n"
          ],
          "name": "stdout"
        },
        {
          "output_type": "stream",
          "text": [
            "Loss=3.462672233581543 Batch_id=601 Accuracy=17.99: 100%|██████████| 602/602 [01:02<00:00,  9.57it/s]\n",
            "  0%|          | 0/602 [00:00<?, ?it/s]"
          ],
          "name": "stderr"
        },
        {
          "output_type": "stream",
          "text": [
            "\n",
            "Test set: Average loss: 0.0284, Accuracy: 6299/33000 (19.09%)\n",
            "\n",
            "Learning Rate: 0.002657\n",
            "\n",
            "EPOCH: 4\n"
          ],
          "name": "stdout"
        },
        {
          "output_type": "stream",
          "text": [
            "Loss=3.6345748901367188 Batch_id=601 Accuracy=22.02: 100%|██████████| 602/602 [01:02<00:00,  9.61it/s]\n",
            "  0%|          | 0/602 [00:00<?, ?it/s]"
          ],
          "name": "stderr"
        },
        {
          "output_type": "stream",
          "text": [
            "\n",
            "Test set: Average loss: 0.0272, Accuracy: 7101/33000 (21.52%)\n",
            "\n",
            "Learning Rate: 0.002991\n",
            "\n",
            "EPOCH: 5\n"
          ],
          "name": "stdout"
        },
        {
          "output_type": "stream",
          "text": [
            "Loss=3.0325770378112793 Batch_id=601 Accuracy=25.38: 100%|██████████| 602/602 [01:03<00:00,  9.55it/s]\n",
            "  0%|          | 0/602 [00:00<?, ?it/s]"
          ],
          "name": "stderr"
        },
        {
          "output_type": "stream",
          "text": [
            "\n",
            "Test set: Average loss: 0.0261, Accuracy: 7976/33000 (24.17%)\n",
            "\n",
            "Learning Rate: 0.003413\n",
            "\n",
            "EPOCH: 6\n"
          ],
          "name": "stdout"
        },
        {
          "output_type": "stream",
          "text": [
            "Loss=3.1235225200653076 Batch_id=601 Accuracy=28.41: 100%|██████████| 602/602 [01:02<00:00,  9.66it/s]\n",
            "  0%|          | 0/602 [00:00<?, ?it/s]"
          ],
          "name": "stderr"
        },
        {
          "output_type": "stream",
          "text": [
            "\n",
            "Test set: Average loss: 0.0252, Accuracy: 8874/33000 (26.89%)\n",
            "\n",
            "Learning Rate: 0.003920\n",
            "\n",
            "EPOCH: 7\n"
          ],
          "name": "stdout"
        },
        {
          "output_type": "stream",
          "text": [
            "Loss=2.8987104892730713 Batch_id=601 Accuracy=30.83: 100%|██████████| 602/602 [01:01<00:00,  9.72it/s]\n",
            "  0%|          | 0/602 [00:00<?, ?it/s]"
          ],
          "name": "stderr"
        },
        {
          "output_type": "stream",
          "text": [
            "\n",
            "Test set: Average loss: 0.0248, Accuracy: 9151/33000 (27.73%)\n",
            "\n",
            "Learning Rate: 0.004506\n",
            "\n",
            "EPOCH: 8\n"
          ],
          "name": "stdout"
        },
        {
          "output_type": "stream",
          "text": [
            "Loss=2.6053266525268555 Batch_id=601 Accuracy=33.31: 100%|██████████| 602/602 [01:01<00:00,  9.72it/s]\n",
            "  0%|          | 0/602 [00:00<?, ?it/s]"
          ],
          "name": "stderr"
        },
        {
          "output_type": "stream",
          "text": [
            "\n",
            "Test set: Average loss: 0.0240, Accuracy: 9688/33000 (29.36%)\n",
            "\n",
            "Learning Rate: 0.005164\n",
            "\n",
            "EPOCH: 9\n"
          ],
          "name": "stdout"
        },
        {
          "output_type": "stream",
          "text": [
            "Loss=3.1122827529907227 Batch_id=601 Accuracy=35.37: 100%|██████████| 602/602 [01:02<00:00,  9.65it/s]\n",
            "  0%|          | 0/602 [00:00<?, ?it/s]"
          ],
          "name": "stderr"
        },
        {
          "output_type": "stream",
          "text": [
            "\n",
            "Test set: Average loss: 0.0244, Accuracy: 9602/33000 (29.10%)\n",
            "\n",
            "Learning Rate: 0.005887\n",
            "\n",
            "EPOCH: 10\n"
          ],
          "name": "stdout"
        },
        {
          "output_type": "stream",
          "text": [
            "Loss=2.4633870124816895 Batch_id=601 Accuracy=37.75: 100%|██████████| 602/602 [01:02<00:00,  9.71it/s]\n",
            "  0%|          | 0/602 [00:00<?, ?it/s]"
          ],
          "name": "stderr"
        },
        {
          "output_type": "stream",
          "text": [
            "\n",
            "Test set: Average loss: 0.0241, Accuracy: 9850/33000 (29.85%)\n",
            "\n",
            "Learning Rate: 0.006667\n",
            "\n",
            "EPOCH: 11\n"
          ],
          "name": "stdout"
        },
        {
          "output_type": "stream",
          "text": [
            "Loss=2.562053680419922 Batch_id=601 Accuracy=40.21: 100%|██████████| 602/602 [01:01<00:00,  9.74it/s]\n",
            "  0%|          | 0/602 [00:00<?, ?it/s]"
          ],
          "name": "stderr"
        },
        {
          "output_type": "stream",
          "text": [
            "\n",
            "Test set: Average loss: 0.0235, Accuracy: 10349/33000 (31.36%)\n",
            "\n",
            "Learning Rate: 0.007496\n",
            "\n",
            "EPOCH: 12\n"
          ],
          "name": "stdout"
        },
        {
          "output_type": "stream",
          "text": [
            "Loss=2.6021792888641357 Batch_id=601 Accuracy=41.96: 100%|██████████| 602/602 [01:01<00:00,  9.79it/s]\n",
            "  0%|          | 0/602 [00:00<?, ?it/s]"
          ],
          "name": "stderr"
        },
        {
          "output_type": "stream",
          "text": [
            "\n",
            "Test set: Average loss: 0.0244, Accuracy: 9955/33000 (30.17%)\n",
            "\n",
            "Learning Rate: 0.008365\n",
            "\n",
            "EPOCH: 13\n"
          ],
          "name": "stdout"
        },
        {
          "output_type": "stream",
          "text": [
            "Loss=2.659669876098633 Batch_id=601 Accuracy=44.36: 100%|██████████| 602/602 [01:02<00:00,  9.70it/s]\n",
            "  0%|          | 0/602 [00:00<?, ?it/s]"
          ],
          "name": "stderr"
        },
        {
          "output_type": "stream",
          "text": [
            "\n",
            "Test set: Average loss: 0.0232, Accuracy: 10735/33000 (32.53%)\n",
            "\n",
            "Learning Rate: 0.009264\n",
            "\n",
            "EPOCH: 14\n"
          ],
          "name": "stdout"
        },
        {
          "output_type": "stream",
          "text": [
            "Loss=2.0269453525543213 Batch_id=601 Accuracy=46.21: 100%|██████████| 602/602 [01:02<00:00,  9.65it/s]\n",
            "  0%|          | 0/602 [00:00<?, ?it/s]"
          ],
          "name": "stderr"
        },
        {
          "output_type": "stream",
          "text": [
            "\n",
            "Test set: Average loss: 0.0239, Accuracy: 10414/33000 (31.56%)\n",
            "\n",
            "Learning Rate: 0.010183\n",
            "\n",
            "EPOCH: 15\n"
          ],
          "name": "stdout"
        },
        {
          "output_type": "stream",
          "text": [
            "Loss=2.60357403755188 Batch_id=601 Accuracy=48.11: 100%|██████████| 602/602 [01:02<00:00,  9.63it/s]\n",
            "  0%|          | 0/602 [00:00<?, ?it/s]"
          ],
          "name": "stderr"
        },
        {
          "output_type": "stream",
          "text": [
            "\n",
            "Test set: Average loss: 0.0237, Accuracy: 10567/33000 (32.02%)\n",
            "\n",
            "Learning Rate: 0.011112\n",
            "\n",
            "EPOCH: 16\n"
          ],
          "name": "stdout"
        },
        {
          "output_type": "stream",
          "text": [
            "Loss=1.9881036281585693 Batch_id=601 Accuracy=50.31: 100%|██████████| 602/602 [01:02<00:00,  9.63it/s]\n",
            "  0%|          | 0/602 [00:00<?, ?it/s]"
          ],
          "name": "stderr"
        },
        {
          "output_type": "stream",
          "text": [
            "\n",
            "Test set: Average loss: 0.0235, Accuracy: 10917/33000 (33.08%)\n",
            "\n",
            "Learning Rate: 0.012041\n",
            "\n",
            "EPOCH: 17\n"
          ],
          "name": "stdout"
        },
        {
          "output_type": "stream",
          "text": [
            "Loss=2.098562002182007 Batch_id=601 Accuracy=52.30: 100%|██████████| 602/602 [01:02<00:00,  9.56it/s]\n",
            "  0%|          | 0/602 [00:00<?, ?it/s]"
          ],
          "name": "stderr"
        },
        {
          "output_type": "stream",
          "text": [
            "\n",
            "Test set: Average loss: 0.0229, Accuracy: 11454/33000 (34.71%)\n",
            "\n",
            "Learning Rate: 0.012960\n",
            "\n",
            "EPOCH: 18\n"
          ],
          "name": "stdout"
        },
        {
          "output_type": "stream",
          "text": [
            "Loss=2.1067638397216797 Batch_id=601 Accuracy=54.41: 100%|██████████| 602/602 [01:02<00:00,  9.70it/s]\n",
            "  0%|          | 0/602 [00:00<?, ?it/s]"
          ],
          "name": "stderr"
        },
        {
          "output_type": "stream",
          "text": [
            "\n",
            "Test set: Average loss: 0.0235, Accuracy: 11139/33000 (33.75%)\n",
            "\n",
            "Learning Rate: 0.013859\n",
            "\n",
            "EPOCH: 19\n"
          ],
          "name": "stdout"
        },
        {
          "output_type": "stream",
          "text": [
            "Loss=2.026186466217041 Batch_id=601 Accuracy=56.60: 100%|██████████| 602/602 [01:02<00:00,  9.58it/s]\n",
            "  0%|          | 0/602 [00:00<?, ?it/s]"
          ],
          "name": "stderr"
        },
        {
          "output_type": "stream",
          "text": [
            "\n",
            "Test set: Average loss: 0.0237, Accuracy: 11253/33000 (34.10%)\n",
            "\n",
            "Learning Rate: 0.014727\n",
            "\n",
            "EPOCH: 20\n"
          ],
          "name": "stdout"
        },
        {
          "output_type": "stream",
          "text": [
            "Loss=1.6938183307647705 Batch_id=601 Accuracy=58.52: 100%|██████████| 602/602 [01:02<00:00,  9.58it/s]\n",
            "  0%|          | 0/602 [00:00<?, ?it/s]"
          ],
          "name": "stderr"
        },
        {
          "output_type": "stream",
          "text": [
            "\n",
            "Test set: Average loss: 0.0235, Accuracy: 11546/33000 (34.99%)\n",
            "\n",
            "Learning Rate: 0.015556\n",
            "\n",
            "EPOCH: 21\n"
          ],
          "name": "stdout"
        },
        {
          "output_type": "stream",
          "text": [
            "Loss=1.6601824760437012 Batch_id=601 Accuracy=60.51: 100%|██████████| 602/602 [01:02<00:00,  9.63it/s]\n",
            "  0%|          | 0/602 [00:00<?, ?it/s]"
          ],
          "name": "stderr"
        },
        {
          "output_type": "stream",
          "text": [
            "\n",
            "Test set: Average loss: 0.0241, Accuracy: 11289/33000 (34.21%)\n",
            "\n",
            "Learning Rate: 0.016337\n",
            "\n",
            "EPOCH: 22\n"
          ],
          "name": "stdout"
        },
        {
          "output_type": "stream",
          "text": [
            "Loss=1.9473671913146973 Batch_id=601 Accuracy=62.32: 100%|██████████| 602/602 [01:02<00:00,  9.66it/s]\n",
            "  0%|          | 0/602 [00:00<?, ?it/s]"
          ],
          "name": "stderr"
        },
        {
          "output_type": "stream",
          "text": [
            "\n",
            "Test set: Average loss: 0.0240, Accuracy: 11364/33000 (34.44%)\n",
            "\n",
            "Learning Rate: 0.017060\n",
            "\n",
            "EPOCH: 23\n"
          ],
          "name": "stdout"
        },
        {
          "output_type": "stream",
          "text": [
            "Loss=1.5535629987716675 Batch_id=601 Accuracy=63.90: 100%|██████████| 602/602 [01:02<00:00,  9.63it/s]\n",
            "  0%|          | 0/602 [00:00<?, ?it/s]"
          ],
          "name": "stderr"
        },
        {
          "output_type": "stream",
          "text": [
            "\n",
            "Test set: Average loss: 0.0241, Accuracy: 11438/33000 (34.66%)\n",
            "\n",
            "Learning Rate: 0.017718\n",
            "\n",
            "EPOCH: 24\n"
          ],
          "name": "stdout"
        },
        {
          "output_type": "stream",
          "text": [
            "Loss=1.5421470403671265 Batch_id=601 Accuracy=65.75: 100%|██████████| 602/602 [01:02<00:00,  9.57it/s]\n",
            "  0%|          | 0/602 [00:00<?, ?it/s]"
          ],
          "name": "stderr"
        },
        {
          "output_type": "stream",
          "text": [
            "\n",
            "Test set: Average loss: 0.0242, Accuracy: 11459/33000 (34.72%)\n",
            "\n",
            "Learning Rate: 0.018303\n",
            "\n",
            "EPOCH: 25\n"
          ],
          "name": "stdout"
        },
        {
          "output_type": "stream",
          "text": [
            "Loss=1.5599513053894043 Batch_id=601 Accuracy=67.82: 100%|██████████| 602/602 [01:02<00:00,  9.65it/s]\n",
            "  0%|          | 0/602 [00:00<?, ?it/s]"
          ],
          "name": "stderr"
        },
        {
          "output_type": "stream",
          "text": [
            "\n",
            "Test set: Average loss: 0.0246, Accuracy: 11461/33000 (34.73%)\n",
            "\n",
            "Learning Rate: 0.018810\n",
            "\n",
            "EPOCH: 26\n"
          ],
          "name": "stdout"
        },
        {
          "output_type": "stream",
          "text": [
            "Loss=2.002431869506836 Batch_id=601 Accuracy=69.02: 100%|██████████| 602/602 [01:02<00:00,  9.57it/s]\n",
            "  0%|          | 0/602 [00:00<?, ?it/s]"
          ],
          "name": "stderr"
        },
        {
          "output_type": "stream",
          "text": [
            "\n",
            "Test set: Average loss: 0.0267, Accuracy: 10550/33000 (31.97%)\n",
            "\n",
            "Learning Rate: 0.019232\n",
            "\n",
            "EPOCH: 27\n"
          ],
          "name": "stdout"
        },
        {
          "output_type": "stream",
          "text": [
            "Loss=1.137186884880066 Batch_id=601 Accuracy=70.90: 100%|██████████| 602/602 [01:02<00:00,  9.64it/s]\n",
            "  0%|          | 0/602 [00:00<?, ?it/s]"
          ],
          "name": "stderr"
        },
        {
          "output_type": "stream",
          "text": [
            "\n",
            "Test set: Average loss: 0.0248, Accuracy: 11542/33000 (34.98%)\n",
            "\n",
            "Learning Rate: 0.019565\n",
            "\n",
            "EPOCH: 28\n"
          ],
          "name": "stdout"
        },
        {
          "output_type": "stream",
          "text": [
            "Loss=1.1591072082519531 Batch_id=601 Accuracy=72.22: 100%|██████████| 602/602 [01:02<00:00,  9.70it/s]\n",
            "  0%|          | 0/602 [00:00<?, ?it/s]"
          ],
          "name": "stderr"
        },
        {
          "output_type": "stream",
          "text": [
            "\n",
            "Test set: Average loss: 0.0264, Accuracy: 10794/33000 (32.71%)\n",
            "\n",
            "Learning Rate: 0.019806\n",
            "\n",
            "EPOCH: 29\n"
          ],
          "name": "stdout"
        },
        {
          "output_type": "stream",
          "text": [
            "Loss=1.2045917510986328 Batch_id=601 Accuracy=73.36: 100%|██████████| 602/602 [01:02<00:00,  9.58it/s]\n",
            "  0%|          | 0/602 [00:00<?, ?it/s]"
          ],
          "name": "stderr"
        },
        {
          "output_type": "stream",
          "text": [
            "\n",
            "Test set: Average loss: 0.0254, Accuracy: 11524/33000 (34.92%)\n",
            "\n",
            "Learning Rate: 0.019951\n",
            "\n",
            "EPOCH: 30\n"
          ],
          "name": "stdout"
        },
        {
          "output_type": "stream",
          "text": [
            "Loss=0.9218766093254089 Batch_id=601 Accuracy=74.87: 100%|██████████| 602/602 [01:03<00:00,  9.51it/s]\n",
            "  0%|          | 0/602 [00:00<?, ?it/s]"
          ],
          "name": "stderr"
        },
        {
          "output_type": "stream",
          "text": [
            "\n",
            "Test set: Average loss: 0.0259, Accuracy: 11350/33000 (34.39%)\n",
            "\n",
            "Learning Rate: 0.020000\n",
            "\n",
            "EPOCH: 31\n"
          ],
          "name": "stdout"
        },
        {
          "output_type": "stream",
          "text": [
            "Loss=1.2604092359542847 Batch_id=601 Accuracy=75.59: 100%|██████████| 602/602 [01:03<00:00,  9.55it/s]\n",
            "  0%|          | 0/602 [00:00<?, ?it/s]"
          ],
          "name": "stderr"
        },
        {
          "output_type": "stream",
          "text": [
            "\n",
            "Test set: Average loss: 0.0258, Accuracy: 11437/33000 (34.66%)\n",
            "\n",
            "Learning Rate: 0.019878\n",
            "\n",
            "EPOCH: 32\n"
          ],
          "name": "stdout"
        },
        {
          "output_type": "stream",
          "text": [
            "Loss=1.1268935203552246 Batch_id=601 Accuracy=77.72: 100%|██████████| 602/602 [01:03<00:00,  9.43it/s]\n",
            "  0%|          | 0/602 [00:00<?, ?it/s]"
          ],
          "name": "stderr"
        },
        {
          "output_type": "stream",
          "text": [
            "\n",
            "Test set: Average loss: 0.0261, Accuracy: 11504/33000 (34.86%)\n",
            "\n",
            "Learning Rate: 0.019515\n",
            "\n",
            "EPOCH: 33\n"
          ],
          "name": "stdout"
        },
        {
          "output_type": "stream",
          "text": [
            "Loss=0.7020725607872009 Batch_id=601 Accuracy=78.46: 100%|██████████| 602/602 [01:02<00:00,  9.60it/s]\n",
            "  0%|          | 0/602 [00:00<?, ?it/s]"
          ],
          "name": "stderr"
        },
        {
          "output_type": "stream",
          "text": [
            "\n",
            "Test set: Average loss: 0.0261, Accuracy: 11616/33000 (35.20%)\n",
            "\n",
            "Learning Rate: 0.018921\n",
            "\n",
            "EPOCH: 34\n"
          ],
          "name": "stdout"
        },
        {
          "output_type": "stream",
          "text": [
            "Loss=1.1234679222106934 Batch_id=601 Accuracy=79.91: 100%|██████████| 602/602 [01:02<00:00,  9.61it/s]\n",
            "  0%|          | 0/602 [00:00<?, ?it/s]"
          ],
          "name": "stderr"
        },
        {
          "output_type": "stream",
          "text": [
            "\n",
            "Test set: Average loss: 0.0269, Accuracy: 11189/33000 (33.91%)\n",
            "\n",
            "Learning Rate: 0.018110\n",
            "\n",
            "EPOCH: 35\n"
          ],
          "name": "stdout"
        },
        {
          "output_type": "stream",
          "text": [
            "Loss=0.7298186421394348 Batch_id=601 Accuracy=80.84: 100%|██████████| 602/602 [01:02<00:00,  9.61it/s]\n",
            "  0%|          | 0/602 [00:00<?, ?it/s]"
          ],
          "name": "stderr"
        },
        {
          "output_type": "stream",
          "text": [
            "\n",
            "Test set: Average loss: 0.0263, Accuracy: 11558/33000 (35.02%)\n",
            "\n",
            "Learning Rate: 0.017102\n",
            "\n",
            "EPOCH: 36\n"
          ],
          "name": "stdout"
        },
        {
          "output_type": "stream",
          "text": [
            "Loss=0.6700315475463867 Batch_id=601 Accuracy=82.61: 100%|██████████| 602/602 [01:03<00:00,  9.55it/s]\n",
            "  0%|          | 0/602 [00:00<?, ?it/s]"
          ],
          "name": "stderr"
        },
        {
          "output_type": "stream",
          "text": [
            "\n",
            "Test set: Average loss: 0.0265, Accuracy: 11565/33000 (35.05%)\n",
            "\n",
            "Learning Rate: 0.015922\n",
            "\n",
            "EPOCH: 37\n"
          ],
          "name": "stdout"
        },
        {
          "output_type": "stream",
          "text": [
            "Loss=0.6293774843215942 Batch_id=601 Accuracy=84.30: 100%|██████████| 602/602 [01:03<00:00,  9.55it/s]\n",
            "  0%|          | 0/602 [00:00<?, ?it/s]"
          ],
          "name": "stderr"
        },
        {
          "output_type": "stream",
          "text": [
            "\n",
            "Test set: Average loss: 0.0265, Accuracy: 11654/33000 (35.32%)\n",
            "\n",
            "Learning Rate: 0.014598\n",
            "\n",
            "EPOCH: 38\n"
          ],
          "name": "stdout"
        },
        {
          "output_type": "stream",
          "text": [
            "Loss=0.6813578009605408 Batch_id=601 Accuracy=86.21: 100%|██████████| 602/602 [01:02<00:00,  9.70it/s]\n",
            "  0%|          | 0/602 [00:00<?, ?it/s]"
          ],
          "name": "stderr"
        },
        {
          "output_type": "stream",
          "text": [
            "\n",
            "Test set: Average loss: 0.0262, Accuracy: 11931/33000 (36.15%)\n",
            "\n",
            "Learning Rate: 0.013164\n",
            "\n",
            "EPOCH: 39\n"
          ],
          "name": "stdout"
        },
        {
          "output_type": "stream",
          "text": [
            "Loss=0.5855410695075989 Batch_id=601 Accuracy=87.64: 100%|██████████| 602/602 [01:02<00:00,  9.57it/s]\n",
            "  0%|          | 0/602 [00:00<?, ?it/s]"
          ],
          "name": "stderr"
        },
        {
          "output_type": "stream",
          "text": [
            "\n",
            "Test set: Average loss: 0.0265, Accuracy: 11798/33000 (35.75%)\n",
            "\n",
            "Learning Rate: 0.011656\n",
            "\n",
            "EPOCH: 40\n"
          ],
          "name": "stdout"
        },
        {
          "output_type": "stream",
          "text": [
            "Loss=0.5817197561264038 Batch_id=601 Accuracy=89.32: 100%|██████████| 602/602 [01:03<00:00,  9.52it/s]\n",
            "  0%|          | 0/602 [00:00<?, ?it/s]"
          ],
          "name": "stderr"
        },
        {
          "output_type": "stream",
          "text": [
            "\n",
            "Test set: Average loss: 0.0256, Accuracy: 12379/33000 (37.51%)\n",
            "\n",
            "Learning Rate: 0.010109\n",
            "\n",
            "EPOCH: 41\n"
          ],
          "name": "stdout"
        },
        {
          "output_type": "stream",
          "text": [
            "Loss=0.358559250831604 Batch_id=601 Accuracy=91.60: 100%|██████████| 602/602 [01:03<00:00,  9.48it/s]\n",
            "  0%|          | 0/602 [00:00<?, ?it/s]"
          ],
          "name": "stderr"
        },
        {
          "output_type": "stream",
          "text": [
            "\n",
            "Test set: Average loss: 0.0260, Accuracy: 12365/33000 (37.47%)\n",
            "\n",
            "Learning Rate: 0.008562\n",
            "\n",
            "EPOCH: 42\n"
          ],
          "name": "stdout"
        },
        {
          "output_type": "stream",
          "text": [
            "Loss=0.414782851934433 Batch_id=601 Accuracy=93.84: 100%|██████████| 602/602 [01:02<00:00,  9.58it/s]\n",
            "  0%|          | 0/602 [00:00<?, ?it/s]"
          ],
          "name": "stderr"
        },
        {
          "output_type": "stream",
          "text": [
            "\n",
            "Test set: Average loss: 0.0255, Accuracy: 12505/33000 (37.89%)\n",
            "\n",
            "Learning Rate: 0.007053\n",
            "\n",
            "EPOCH: 43\n"
          ],
          "name": "stdout"
        },
        {
          "output_type": "stream",
          "text": [
            "Loss=0.24108944833278656 Batch_id=601 Accuracy=95.34: 100%|██████████| 602/602 [01:03<00:00,  9.55it/s]\n",
            "  0%|          | 0/602 [00:00<?, ?it/s]"
          ],
          "name": "stderr"
        },
        {
          "output_type": "stream",
          "text": [
            "\n",
            "Test set: Average loss: 0.0252, Accuracy: 12805/33000 (38.80%)\n",
            "\n",
            "Learning Rate: 0.005619\n",
            "\n",
            "EPOCH: 44\n"
          ],
          "name": "stdout"
        },
        {
          "output_type": "stream",
          "text": [
            "Loss=0.13792620599269867 Batch_id=601 Accuracy=96.75: 100%|██████████| 602/602 [01:02<00:00,  9.60it/s]\n",
            "  0%|          | 0/602 [00:00<?, ?it/s]"
          ],
          "name": "stderr"
        },
        {
          "output_type": "stream",
          "text": [
            "\n",
            "Test set: Average loss: 0.0246, Accuracy: 13033/33000 (39.49%)\n",
            "\n",
            "Learning Rate: 0.004296\n",
            "\n",
            "EPOCH: 45\n"
          ],
          "name": "stdout"
        },
        {
          "output_type": "stream",
          "text": [
            "Loss=0.14333204925060272 Batch_id=601 Accuracy=97.81: 100%|██████████| 602/602 [01:03<00:00,  9.48it/s]\n",
            "  0%|          | 0/602 [00:00<?, ?it/s]"
          ],
          "name": "stderr"
        },
        {
          "output_type": "stream",
          "text": [
            "\n",
            "Test set: Average loss: 0.0243, Accuracy: 13304/33000 (40.32%)\n",
            "\n",
            "Learning Rate: 0.003117\n",
            "\n",
            "EPOCH: 46\n"
          ],
          "name": "stdout"
        },
        {
          "output_type": "stream",
          "text": [
            "Loss=0.055888399481773376 Batch_id=601 Accuracy=98.51: 100%|██████████| 602/602 [01:03<00:00,  9.49it/s]\n",
            "  0%|          | 0/602 [00:00<?, ?it/s]"
          ],
          "name": "stderr"
        },
        {
          "output_type": "stream",
          "text": [
            "\n",
            "Test set: Average loss: 0.0239, Accuracy: 13458/33000 (40.78%)\n",
            "\n",
            "Learning Rate: 0.002109\n",
            "\n",
            "EPOCH: 47\n"
          ],
          "name": "stdout"
        },
        {
          "output_type": "stream",
          "text": [
            "Loss=0.07128831744194031 Batch_id=601 Accuracy=98.89: 100%|██████████| 602/602 [01:02<00:00,  9.56it/s]\n",
            "  0%|          | 0/602 [00:00<?, ?it/s]"
          ],
          "name": "stderr"
        },
        {
          "output_type": "stream",
          "text": [
            "\n",
            "Test set: Average loss: 0.0237, Accuracy: 13603/33000 (41.22%)\n",
            "\n",
            "Learning Rate: 0.001299\n",
            "\n",
            "EPOCH: 48\n"
          ],
          "name": "stdout"
        },
        {
          "output_type": "stream",
          "text": [
            "Loss=0.07036713510751724 Batch_id=601 Accuracy=99.25: 100%|██████████| 602/602 [01:02<00:00,  9.56it/s]\n",
            "  0%|          | 0/602 [00:00<?, ?it/s]"
          ],
          "name": "stderr"
        },
        {
          "output_type": "stream",
          "text": [
            "\n",
            "Test set: Average loss: 0.0235, Accuracy: 13703/33000 (41.52%)\n",
            "\n",
            "Learning Rate: 0.000705\n",
            "\n",
            "EPOCH: 49\n"
          ],
          "name": "stdout"
        },
        {
          "output_type": "stream",
          "text": [
            "Loss=0.08465810865163803 Batch_id=601 Accuracy=99.32: 100%|██████████| 602/602 [01:02<00:00,  9.58it/s]\n",
            "  0%|          | 0/602 [00:00<?, ?it/s]"
          ],
          "name": "stderr"
        },
        {
          "output_type": "stream",
          "text": [
            "\n",
            "Test set: Average loss: 0.0234, Accuracy: 13708/33000 (41.54%)\n",
            "\n",
            "Learning Rate: 0.000344\n",
            "\n",
            "EPOCH: 50\n"
          ],
          "name": "stdout"
        },
        {
          "output_type": "stream",
          "text": [
            "Loss=0.03861750662326813 Batch_id=601 Accuracy=99.39: 100%|██████████| 602/602 [01:02<00:00,  9.59it/s]\n"
          ],
          "name": "stderr"
        },
        {
          "output_type": "stream",
          "text": [
            "\n",
            "Test set: Average loss: 0.0234, Accuracy: 13727/33000 (41.60%)\n",
            "\n",
            "Learning Rate: 0.000222\n"
          ],
          "name": "stdout"
        }
      ]
    },
    {
      "cell_type": "markdown",
      "metadata": {
        "id": "tE6VsvyHYPCU",
        "colab_type": "text"
      },
      "source": [
        "## Plotting Test & Train Accuracy"
      ]
    },
    {
      "cell_type": "code",
      "metadata": {
        "id": "F2H9sm2BYS6y",
        "colab_type": "code",
        "colab": {
          "base_uri": "https://localhost:8080/",
          "height": 661
        },
        "outputId": "295f3d41-75a4-4395-8022-6f9029f26ee6"
      },
      "source": [
        "dm.plot_test_train_accuracy()"
      ],
      "execution_count": 9,
      "outputs": [
        {
          "output_type": "stream",
          "text": [
            "[4.148051948051948, 11.95064935064935, 17.992207792207793, 22.02077922077922, 25.375324675324677, 28.412987012987013, 30.832467532467533, 33.31038961038961, 35.36623376623377, 37.749350649350646, 40.20519480519481, 41.96103896103896, 44.359740259740256, 46.20779220779221, 48.114285714285714, 50.31428571428572, 52.3025974025974, 54.41168831168831, 56.5987012987013, 58.515584415584414, 60.50779220779221, 62.323376623376625, 63.897402597402596, 65.75324675324676, 67.81948051948052, 69.02207792207793, 70.8961038961039, 72.21558441558442, 73.35584415584415, 74.87012987012987, 75.59220779220779, 77.71688311688311, 78.45974025974026, 79.90779220779221, 80.84285714285714, 82.6051948051948, 84.3, 86.2064935064935, 87.63766233766233, 89.31948051948052, 91.6025974025974, 93.83636363636364, 95.33506493506493, 96.75454545454545, 97.80909090909091, 98.51038961038961, 98.88701298701298, 99.24545454545455, 99.31558441558441, 99.3922077922078]\n",
            "[9.190909090909091, 14.066666666666666, 19.087878787878786, 21.51818181818182, 24.169696969696968, 26.89090909090909, 27.73030303030303, 29.35757575757576, 29.096969696969698, 29.848484848484848, 31.36060606060606, 30.166666666666668, 32.53030303030303, 31.55757575757576, 32.02121212121212, 33.08181818181818, 34.70909090909091, 33.75454545454546, 34.1, 34.987878787878785, 34.20909090909091, 34.43636363636364, 34.660606060606064, 34.724242424242426, 34.73030303030303, 31.96969696969697, 34.97575757575758, 32.70909090909091, 34.92121212121212, 34.39393939393939, 34.657575757575756, 34.86060606060606, 35.2, 33.906060606060606, 35.02424242424242, 35.04545454545455, 35.31515151515151, 36.154545454545456, 35.75151515151515, 37.512121212121215, 37.46969696969697, 37.89393939393939, 38.803030303030305, 39.49393939393939, 40.31515151515151, 40.78181818181818, 41.22121212121212, 41.52424242424242, 41.53939393939394, 41.596969696969694]\n"
          ],
          "name": "stdout"
        },
        {
          "output_type": "display_data",
          "data": {
            "image/png": "[encoded data removed]",
            "text/plain": [
              "<Figure size 720x720 with 2 Axes>"
            ]
          },
          "metadata": {
            "tags": [],
            "needs_background": "light"
          }
        }
      ]
    },
    {
      "cell_type": "markdown",
      "metadata": {
        "id": "avY9ZjqcgjMA",
        "colab_type": "text"
      },
      "source": [
        "## Plotting Validation Accuracy"
      ]
    },
    {
      "cell_type": "code",
      "metadata": {
        "id": "QX5FhD-egnxD",
        "colab_type": "code",
        "colab": {
          "base_uri": "https://localhost:8080/",
          "height": 606
        },
        "outputId": "1eccdae3-14f9-4aa6-89e7-d74fc6129ca7"
      },
      "source": [
        "dm.plot_loss_accuracy()"
      ],
      "execution_count": 10,
      "outputs": [
        {
          "output_type": "display_data",
          "data": {
            "image/png": "[encoded data removed]",
            "text/plain": [
              "<Figure size 720x720 with 2 Axes>"
            ]
          },
          "metadata": {
            "tags": [],
            "needs_background": "light"
          }
        }
      ]
    }
  ]
}
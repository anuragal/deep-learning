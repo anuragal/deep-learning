{
  "nbformat": 4,
  "nbformat_minor": 0,
  "metadata": {
    "kernelspec": {
      "name": "python3",
      "display_name": "Python 3"
    },
    "language_info": {
      "codemirror_mode": {
        "name": "ipython",
        "version": 3
      },
      "file_extension": ".py",
      "mimetype": "text/x-python",
      "name": "python",
      "nbconvert_exporter": "python",
      "pygments_lexer": "ipython3",
      "version": "3.6.6"
    },
    "colab": {
      "name": "imagenet_resnet18 (2).ipynb",
      "provenance": [],
      "toc_visible": true,
      "include_colab_link": true
    },
    "accelerator": "GPU"
  },
  "cells": [
    {
      "cell_type": "markdown",
      "metadata": {
        "id": "view-in-github",
        "colab_type": "text"
      },
      "source": [
        "<a href=\"https://colab.research.google.com/github/anuragal/deep-learning/blob/master/S12/Assignment_A/tinyimagenet_resnet.ipynb\" target=\"_parent\"><img src=\"https://colab.research.google.com/assets/colab-badge.svg\" alt=\"Open In Colab\"/></a>"
      ]
    },
    {
      "cell_type": "code",
      "metadata": {
        "id": "7TmDL9U5OpVk",
        "colab_type": "code",
        "colab": {
          "base_uri": "https://localhost:8080/",
          "height": 52
        },
        "outputId": "b42d7193-b5fe-456b-b0cc-538f82878599"
      },
      "source": [
        "! git clone https://github.com/anuragal/deep-learning deep_learning\n",
        "! ls 'deep_learning/tiny-imagenet-200/'"
      ],
      "execution_count": 14,
      "outputs": [
        {
          "output_type": "stream",
          "text": [
            "fatal: destination path 'deep_learning' already exists and is not an empty directory.\n",
            "test  train  val  wnids.txt  words.txt\n"
          ],
          "name": "stdout"
        }
      ]
    },
    {
      "cell_type": "code",
      "metadata": {
        "id": "1a27S8fEJooN",
        "colab_type": "code",
        "colab": {
          "base_uri": "https://localhost:8080/",
          "height": 35
        },
        "outputId": "a10f3bf0-e7ff-4806-99ec-67ad379a3e25"
      },
      "source": [
        "! cd 'deep_learning' && git pull"
      ],
      "execution_count": 4,
      "outputs": [
        {
          "output_type": "stream",
          "text": [
            "Already up to date.\n"
          ],
          "name": "stdout"
        }
      ]
    },
    {
      "cell_type": "markdown",
      "metadata": {
        "id": "l7LKzevcivPw",
        "colab_type": "text"
      },
      "source": [
        "## Model"
      ]
    },
    {
      "cell_type": "code",
      "metadata": {
        "id": "ye3wHlAvdI9h",
        "colab_type": "code",
        "colab": {
          "base_uri": "https://localhost:8080/",
          "height": 1000
        },
        "outputId": "121d66e2-dbd5-4a3b-9036-c438240c6a63"
      },
      "source": [
        "!pip install albumentations==0.4.5\n",
        "\n",
        "import torch\n",
        "import torch.nn as nn\n",
        "import torch.nn.functional as F\n",
        "import torchvision.models as models\n",
        "\n",
        "!pip install torchsummary\n",
        "from torchsummary import summary\n",
        "\n",
        "use_cuda = torch.cuda.is_available()\n",
        "device = torch.device(\"cuda\" if use_cuda else \"cpu\")\n",
        "print(device)\n",
        "\n",
        "#Load Resnet18\n",
        "model = models.resnet18()\n",
        "\n",
        "#Finetune Final few layers to adjust for tiny imagenet input\n",
        "model.avgpool = nn.AdaptiveAvgPool2d(1)\n",
        "model.fc.out_features = 200\n",
        "model = model.to(device)\n",
        "\n",
        "summary(model, input_size=(3, 32, 32))"
      ],
      "execution_count": 5,
      "outputs": [
        {
          "output_type": "stream",
          "text": [
            "Requirement already satisfied: albumentations==0.4.5 in /usr/local/lib/python3.6/dist-packages (0.4.5)\n",
            "Requirement already satisfied: PyYAML in /usr/local/lib/python3.6/dist-packages (from albumentations==0.4.5) (3.13)\n",
            "Requirement already satisfied: numpy>=1.11.1 in /usr/local/lib/python3.6/dist-packages (from albumentations==0.4.5) (1.18.5)\n",
            "Requirement already satisfied: imgaug<0.2.7,>=0.2.5 in /usr/local/lib/python3.6/dist-packages (from albumentations==0.4.5) (0.2.6)\n",
            "Requirement already satisfied: opencv-python>=4.1.1 in /usr/local/lib/python3.6/dist-packages (from albumentations==0.4.5) (4.1.2.30)\n",
            "Requirement already satisfied: scipy in /usr/local/lib/python3.6/dist-packages (from albumentations==0.4.5) (1.4.1)\n",
            "Requirement already satisfied: scikit-image>=0.11.0 in /usr/local/lib/python3.6/dist-packages (from imgaug<0.2.7,>=0.2.5->albumentations==0.4.5) (0.16.2)\n",
            "Requirement already satisfied: six in /usr/local/lib/python3.6/dist-packages (from imgaug<0.2.7,>=0.2.5->albumentations==0.4.5) (1.12.0)\n",
            "Requirement already satisfied: networkx>=2.0 in /usr/local/lib/python3.6/dist-packages (from scikit-image>=0.11.0->imgaug<0.2.7,>=0.2.5->albumentations==0.4.5) (2.4)\n",
            "Requirement already satisfied: matplotlib!=3.0.0,>=2.0.0 in /usr/local/lib/python3.6/dist-packages (from scikit-image>=0.11.0->imgaug<0.2.7,>=0.2.5->albumentations==0.4.5) (3.2.2)\n",
            "Requirement already satisfied: pillow>=4.3.0 in /usr/local/lib/python3.6/dist-packages (from scikit-image>=0.11.0->imgaug<0.2.7,>=0.2.5->albumentations==0.4.5) (7.0.0)\n",
            "Requirement already satisfied: imageio>=2.3.0 in /usr/local/lib/python3.6/dist-packages (from scikit-image>=0.11.0->imgaug<0.2.7,>=0.2.5->albumentations==0.4.5) (2.4.1)\n",
            "Requirement already satisfied: PyWavelets>=0.4.0 in /usr/local/lib/python3.6/dist-packages (from scikit-image>=0.11.0->imgaug<0.2.7,>=0.2.5->albumentations==0.4.5) (1.1.1)\n",
            "Requirement already satisfied: decorator>=4.3.0 in /usr/local/lib/python3.6/dist-packages (from networkx>=2.0->scikit-image>=0.11.0->imgaug<0.2.7,>=0.2.5->albumentations==0.4.5) (4.4.2)\n",
            "Requirement already satisfied: pyparsing!=2.0.4,!=2.1.2,!=2.1.6,>=2.0.1 in /usr/local/lib/python3.6/dist-packages (from matplotlib!=3.0.0,>=2.0.0->scikit-image>=0.11.0->imgaug<0.2.7,>=0.2.5->albumentations==0.4.5) (2.4.7)\n",
            "Requirement already satisfied: python-dateutil>=2.1 in /usr/local/lib/python3.6/dist-packages (from matplotlib!=3.0.0,>=2.0.0->scikit-image>=0.11.0->imgaug<0.2.7,>=0.2.5->albumentations==0.4.5) (2.8.1)\n",
            "Requirement already satisfied: cycler>=0.10 in /usr/local/lib/python3.6/dist-packages (from matplotlib!=3.0.0,>=2.0.0->scikit-image>=0.11.0->imgaug<0.2.7,>=0.2.5->albumentations==0.4.5) (0.10.0)\n",
            "Requirement already satisfied: kiwisolver>=1.0.1 in /usr/local/lib/python3.6/dist-packages (from matplotlib!=3.0.0,>=2.0.0->scikit-image>=0.11.0->imgaug<0.2.7,>=0.2.5->albumentations==0.4.5) (1.2.0)\n",
            "Requirement already satisfied: torchsummary in /usr/local/lib/python3.6/dist-packages (1.5.1)\n",
            "cuda\n",
            "----------------------------------------------------------------\n",
            "        Layer (type)               Output Shape         Param #\n",
            "================================================================\n",
            "            Conv2d-1           [-1, 64, 16, 16]           9,408\n",
            "       BatchNorm2d-2           [-1, 64, 16, 16]             128\n",
            "              ReLU-3           [-1, 64, 16, 16]               0\n",
            "         MaxPool2d-4             [-1, 64, 8, 8]               0\n",
            "            Conv2d-5             [-1, 64, 8, 8]          36,864\n",
            "       BatchNorm2d-6             [-1, 64, 8, 8]             128\n",
            "              ReLU-7             [-1, 64, 8, 8]               0\n",
            "            Conv2d-8             [-1, 64, 8, 8]          36,864\n",
            "       BatchNorm2d-9             [-1, 64, 8, 8]             128\n",
            "             ReLU-10             [-1, 64, 8, 8]               0\n",
            "       BasicBlock-11             [-1, 64, 8, 8]               0\n",
            "           Conv2d-12             [-1, 64, 8, 8]          36,864\n",
            "      BatchNorm2d-13             [-1, 64, 8, 8]             128\n",
            "             ReLU-14             [-1, 64, 8, 8]               0\n",
            "           Conv2d-15             [-1, 64, 8, 8]          36,864\n",
            "      BatchNorm2d-16             [-1, 64, 8, 8]             128\n",
            "             ReLU-17             [-1, 64, 8, 8]               0\n",
            "       BasicBlock-18             [-1, 64, 8, 8]               0\n",
            "           Conv2d-19            [-1, 128, 4, 4]          73,728\n",
            "      BatchNorm2d-20            [-1, 128, 4, 4]             256\n",
            "             ReLU-21            [-1, 128, 4, 4]               0\n",
            "           Conv2d-22            [-1, 128, 4, 4]         147,456\n",
            "      BatchNorm2d-23            [-1, 128, 4, 4]             256\n",
            "           Conv2d-24            [-1, 128, 4, 4]           8,192\n",
            "      BatchNorm2d-25            [-1, 128, 4, 4]             256\n",
            "             ReLU-26            [-1, 128, 4, 4]               0\n",
            "       BasicBlock-27            [-1, 128, 4, 4]               0\n",
            "           Conv2d-28            [-1, 128, 4, 4]         147,456\n",
            "      BatchNorm2d-29            [-1, 128, 4, 4]             256\n",
            "             ReLU-30            [-1, 128, 4, 4]               0\n",
            "           Conv2d-31            [-1, 128, 4, 4]         147,456\n",
            "      BatchNorm2d-32            [-1, 128, 4, 4]             256\n",
            "             ReLU-33            [-1, 128, 4, 4]               0\n",
            "       BasicBlock-34            [-1, 128, 4, 4]               0\n",
            "           Conv2d-35            [-1, 256, 2, 2]         294,912\n",
            "      BatchNorm2d-36            [-1, 256, 2, 2]             512\n",
            "             ReLU-37            [-1, 256, 2, 2]               0\n",
            "           Conv2d-38            [-1, 256, 2, 2]         589,824\n",
            "      BatchNorm2d-39            [-1, 256, 2, 2]             512\n",
            "           Conv2d-40            [-1, 256, 2, 2]          32,768\n",
            "      BatchNorm2d-41            [-1, 256, 2, 2]             512\n",
            "             ReLU-42            [-1, 256, 2, 2]               0\n",
            "       BasicBlock-43            [-1, 256, 2, 2]               0\n",
            "           Conv2d-44            [-1, 256, 2, 2]         589,824\n",
            "      BatchNorm2d-45            [-1, 256, 2, 2]             512\n",
            "             ReLU-46            [-1, 256, 2, 2]               0\n",
            "           Conv2d-47            [-1, 256, 2, 2]         589,824\n",
            "      BatchNorm2d-48            [-1, 256, 2, 2]             512\n",
            "             ReLU-49            [-1, 256, 2, 2]               0\n",
            "       BasicBlock-50            [-1, 256, 2, 2]               0\n",
            "           Conv2d-51            [-1, 512, 1, 1]       1,179,648\n",
            "      BatchNorm2d-52            [-1, 512, 1, 1]           1,024\n",
            "             ReLU-53            [-1, 512, 1, 1]               0\n",
            "           Conv2d-54            [-1, 512, 1, 1]       2,359,296\n",
            "      BatchNorm2d-55            [-1, 512, 1, 1]           1,024\n",
            "           Conv2d-56            [-1, 512, 1, 1]         131,072\n",
            "      BatchNorm2d-57            [-1, 512, 1, 1]           1,024\n",
            "             ReLU-58            [-1, 512, 1, 1]               0\n",
            "       BasicBlock-59            [-1, 512, 1, 1]               0\n",
            "           Conv2d-60            [-1, 512, 1, 1]       2,359,296\n",
            "      BatchNorm2d-61            [-1, 512, 1, 1]           1,024\n",
            "             ReLU-62            [-1, 512, 1, 1]               0\n",
            "           Conv2d-63            [-1, 512, 1, 1]       2,359,296\n",
            "      BatchNorm2d-64            [-1, 512, 1, 1]           1,024\n",
            "             ReLU-65            [-1, 512, 1, 1]               0\n",
            "       BasicBlock-66            [-1, 512, 1, 1]               0\n",
            "AdaptiveAvgPool2d-67            [-1, 512, 1, 1]               0\n",
            "           Linear-68                 [-1, 1000]         513,000\n",
            "================================================================\n",
            "Total params: 11,689,512\n",
            "Trainable params: 11,689,512\n",
            "Non-trainable params: 0\n",
            "----------------------------------------------------------------\n",
            "Input size (MB): 0.01\n",
            "Forward/backward pass size (MB): 1.29\n",
            "Params size (MB): 44.59\n",
            "Estimated Total Size (MB): 45.90\n",
            "----------------------------------------------------------------\n"
          ],
          "name": "stdout"
        }
      ]
    },
    {
      "cell_type": "markdown",
      "metadata": {
        "id": "YLrvL_fHpoC5",
        "colab_type": "text"
      },
      "source": [
        "## Run the Model"
      ]
    },
    {
      "cell_type": "code",
      "metadata": {
        "id": "YWIDUH8Dhonl",
        "colab_type": "code",
        "colab": {}
      },
      "source": [
        "%matplotlib inline"
      ],
      "execution_count": 6,
      "outputs": []
    },
    {
      "cell_type": "code",
      "metadata": {
        "id": "nizbsvw9poC6",
        "colab_type": "code",
        "colab": {
          "base_uri": "https://localhost:8080/",
          "height": 159
        },
        "outputId": "f4b7a66b-2670-4123-baa5-0c3d5c01ad57"
      },
      "source": [
        "import torch.nn as nn\n",
        "\n",
        "from deep_learning.S12.Assignment_A.dataloader import ImageData\n",
        "from deep_learning.S12.Assignment_A.datamodel import DataModel\n",
        "from deep_learning.S12.Assignment_A.optimizer import OptimizerFactory\n",
        "\n",
        "from torch.optim.lr_scheduler import OneCycleLR\n",
        "\n",
        "dataset_path = 'deep_learning/tiny-imagenet-200/'\n",
        "# Loading data and transforming it\n",
        "img_data = ImageData()\n",
        "\n",
        "# Choose from \"albumentations\" or \"pytorch\". Default is \"pytorch\"\n",
        "img_data.load_TINY_IMAGENET(dataset_path, \"albumentations\")\n",
        "\n",
        "criterion = nn.CrossEntropyLoss()\n",
        "\n",
        "# optimizer can be choose from \"SGD\" & \"Adam\"\n",
        "optim_sgd = OptimizerFactory(\"SGD\")\n",
        "optimizer = optim_sgd.load(params=model.parameters(), lr=0.15, momentum=0.9, weight_decay=1e-4)\n",
        "\n",
        "dm = DataModel(img_data, criterion, optimizer, None, num_of_epochs = 50, cal_misclassified = True)"
      ],
      "execution_count": 7,
      "outputs": [
        {
          "output_type": "stream",
          "text": [
            "/usr/local/lib/python3.6/dist-packages/statsmodels/tools/_testing.py:19: FutureWarning: pandas.util.testing is deprecated. Use the functions in the public API at pandas.testing instead.\n",
            "  import pandas.util.testing as tm\n",
            "WARNING:deep_learning.S12.Assignment_A.lrfinder:To enable mixed precision training, please install `apex`. Or you can re-install this package by the following command:\n",
            "  pip install torch-lr-finder -v --global-option=\"amp\"\n"
          ],
          "name": "stderr"
        },
        {
          "output_type": "stream",
          "text": [
            "CUDA Available? True\n",
            "{51: 76828, 11: 76925, 113: 76825, 176: 76970, 45: 76764, 65: 76972, 4: 76852, 24: 76885, 175: 76613, 187: 76966, 32: 76951, 18: 76889, 160: 76975, 148: 76385, 39: 76904, 181: 76989, 63: 76801, 166: 76864, 64: 76930, 31: 76700, 46: 76618, 169: 76942, 104: 76984, 142: 76397, 120: 76878, 50: 76445, 12: 76750, 193: 76943, 59: 76941, 198: 76839, 80: 76785, 177: 76990, 15: 76873, 108: 76959, 0: 76436, 155: 76965, 107: 76986, 38: 76960, 79: 76732, 139: 76891, 138: 76863, 184: 76874, 145: 76414, 22: 76705, 119: 76835, 44: 76745, 174: 76918, 30: 76958, 102: 76931, 192: 76914, 144: 76702, 72: 76919, 152: 76854, 105: 76549, 153: 76992, 154: 76915, 157: 76922, 90: 76867, 173: 76939, 67: 76956, 37: 76726, 167: 76982, 118: 76850, 147: 76882, 126: 76544, 137: 76265, 25: 76818, 127: 76765, 112: 76620, 17: 76944, 163: 76902, 5: 76186, 151: 76978, 42: 76927, 180: 76352, 158: 76894, 7: 76898, 123: 76675, 57: 76999, 101: 76968, 150: 76838, 69: 76995, 170: 76964, 188: 76993, 156: 76861, 73: 76788, 191: 76264, 6: 76917, 197: 76985, 116: 76797, 68: 76987, 81: 76656, 95: 76929, 84: 76784, 48: 76971, 58: 76077, 106: 76869, 41: 76983, 92: 76954, 171: 76701, 168: 76938, 26: 76790, 117: 76998, 77: 76763, 88: 76742, 131: 76812, 76: 76595, 3: 76903, 132: 76661, 61: 76814, 20: 76973, 8: 76934, 56: 76687, 165: 75907, 98: 76617, 99: 76940, 143: 76887, 78: 76824, 195: 76039, 1: 76582, 110: 76777, 62: 76996, 133: 76935, 182: 76823, 21: 76974, 91: 76058, 27: 76868, 83: 76913, 74: 76963, 194: 76624, 159: 76921, 140: 76865, 47: 76947, 53: 76590, 178: 76855, 87: 76923, 172: 76848, 75: 76955, 85: 76969, 66: 76976, 114: 76884, 146: 76997, 100: 76816, 13: 76404, 199: 76875, 28: 76900, 33: 76967, 124: 76641, 115: 76443, 2: 76792, 52: 76453, 23: 76946, 82: 76278, 9: 76948, 162: 76897, 135: 76822, 136: 76564, 93: 76694, 134: 76739, 14: 76219, 10: 76888, 103: 76949, 35: 76132, 196: 76932, 34: 76957, 43: 76962, 94: 76688, 128: 76847, 97: 76821, 122: 76879, 161: 76752, 55: 76871, 121: 76806, 89: 76506, 186: 76629, 19: 76981, 40: 76933, 149: 76952, 185: 76950, 190: 76761, 70: 76979, 96: 76712, 109: 76991, 179: 76856, 16: 76600, 29: 76980, 111: 76728, 129: 76977, 54: 76677, 164: 76578, 36: 76841, 60: 76809, 86: 76672, 71: 76994, 189: 76961, 49: 76555, 141: 76909, 183: 76912, 125: 76791, 130: 76910}\n",
            "{148: 32943, 147: 32918, 24: 32860, 128: 32950, 57: 32753, 159: 32477, 126: 32811, 41: 32995, 4: 32878, 68: 32890, 14: 32826, 115: 32747, 155: 32976, 51: 32936, 40: 32679, 170: 32876, 197: 32982, 195: 32947, 171: 32960, 111: 32427, 38: 32887, 43: 32738, 123: 32641, 138: 32972, 129: 32949, 62: 32785, 146: 32806, 168: 32891, 172: 32509, 164: 32770, 178: 32999, 10: 32994, 193: 32198, 0: 32774, 106: 32919, 29: 32872, 119: 32695, 91: 32494, 71: 32901, 112: 32983, 45: 32959, 7: 32790, 47: 32440, 113: 32609, 144: 32844, 3: 32986, 42: 32794, 16: 32732, 99: 32580, 190: 32558, 177: 32978, 27: 32954, 167: 32877, 124: 32682, 139: 32710, 54: 32769, 82: 32740, 61: 32917, 70: 32970, 73: 32920, 163: 32786, 39: 32895, 26: 32808, 149: 32926, 198: 32741, 74: 32979, 161: 32952, 181: 32940, 125: 32871, 88: 32800, 28: 32797, 78: 32956, 76: 32799, 85: 32604, 58: 32686, 23: 32996, 98: 32953, 93: 32545, 34: 32496, 100: 32862, 160: 32870, 44: 32613, 133: 32847, 158: 32691, 101: 32680, 191: 32618, 48: 32861, 33: 32792, 35: 32599, 80: 32971, 180: 32793, 75: 32914, 166: 32630, 120: 32932, 72: 32875, 31: 32869, 142: 32908, 184: 32673, 186: 32966, 169: 32742, 37: 32837, 19: 32981, 154: 32912, 15: 32835, 102: 32668, 21: 32851, 22: 32930, 176: 32820, 192: 32857, 141: 32103, 108: 32700, 36: 32923, 136: 32614, 185: 32728, 127: 32853, 65: 32948, 90: 32775, 2: 32990, 174: 32898, 95: 32985, 151: 32781, 173: 32957, 199: 32961, 153: 32897, 30: 32483, 89: 32962, 59: 32998, 8: 32975, 83: 32922, 131: 32528, 118: 32987, 77: 32896, 66: 32974, 92: 32771, 49: 32381, 105: 32236, 165: 32413, 121: 32765, 63: 32689, 145: 32903, 103: 32602, 32: 32805, 143: 32989, 17: 32968, 189: 32216, 13: 32925, 116: 32772, 53: 32991, 67: 32909, 18: 32935, 110: 32722, 64: 32778, 86: 32955, 104: 32842, 182: 32471, 152: 32933, 188: 32967, 134: 32942, 60: 32628, 135: 32364, 20: 32973, 107: 32597, 11: 32356, 196: 32856, 69: 32965, 52: 32466, 87: 32500, 117: 32687, 46: 32629, 130: 32444, 187: 32228, 6: 32884, 137: 32865, 84: 32451, 79: 32540, 55: 32578, 175: 32905, 25: 32866, 56: 32818, 97: 32980, 109: 32984, 94: 32702, 122: 32993, 1: 32592, 132: 32619, 140: 32944, 50: 32511, 179: 32900, 81: 32885, 96: 32787, 12: 32803, 150: 32964, 183: 32997, 9: 32992, 114: 32958, 5: 32910, 156: 32889, 157: 32324, 162: 32927, 194: 32845}\n"
          ],
          "name": "stdout"
        }
      ]
    },
    {
      "cell_type": "markdown",
      "metadata": {
        "id": "lzMDrxvSKppq",
        "colab_type": "text"
      },
      "source": [
        "### Find LR Max"
      ]
    },
    {
      "cell_type": "code",
      "metadata": {
        "id": "TM6v_EAbCAy8",
        "colab_type": "code",
        "colab": {}
      },
      "source": [
        "# lr = dm.find_lr_max(model, device)"
      ],
      "execution_count": 8,
      "outputs": []
    },
    {
      "cell_type": "markdown",
      "metadata": {
        "id": "WuUsuGONQRGa",
        "colab_type": "text"
      },
      "source": [
        "### LR Max"
      ]
    },
    {
      "cell_type": "code",
      "metadata": {
        "id": "o4GC_reZQVS-",
        "colab_type": "code",
        "colab": {
          "base_uri": "https://localhost:8080/",
          "height": 35
        },
        "outputId": "78b96a68-9e39-4aa1-d108-4e97620bce2c"
      },
      "source": [
        "lr = 0.0254\n",
        "print(lr)"
      ],
      "execution_count": 9,
      "outputs": [
        {
          "output_type": "stream",
          "text": [
            "0.0254\n"
          ],
          "name": "stdout"
        }
      ]
    },
    {
      "cell_type": "markdown",
      "metadata": {
        "id": "B54c10AlQZ3H",
        "colab_type": "text"
      },
      "source": [
        "\n",
        "## Run Model"
      ]
    },
    {
      "cell_type": "code",
      "metadata": {
        "id": "OosLo6lrCCbc",
        "colab_type": "code",
        "colab": {
          "base_uri": "https://localhost:8080/",
          "height": 1000
        },
        "outputId": "6b3488d1-3470-4543-a493-0f4bcaa761e1"
      },
      "source": [
        "dm.optimizer = optim_sgd.load(params=model.parameters(), lr=lr/10, momentum=0.9, weight_decay=0.0005)\n",
        "\n",
        "# training the dataset and then running test\n",
        "scheduler = OneCycleLR(dm.optimizer, \n",
        "                       max_lr=lr, \n",
        "                       epochs=50, \n",
        "                       steps_per_epoch = len(img_data.trainloader) + 1, \n",
        "                       div_factor=10,\n",
        "                       final_div_factor=100.0,\n",
        "                       pct_start=0.2\n",
        "                      )\n",
        "dm.schedular = scheduler\n",
        "dm.run_model(model, device)"
      ],
      "execution_count": 10,
      "outputs": [
        {
          "output_type": "stream",
          "text": [
            "\r  0%|          | 0/301 [00:00<?, ?it/s]"
          ],
          "name": "stderr"
        },
        {
          "output_type": "stream",
          "text": [
            "\n",
            "EPOCH: 1\n"
          ],
          "name": "stdout"
        },
        {
          "output_type": "stream",
          "text": [
            "Loss=4.85212516784668 Batch_id=300 Accuracy=2.72: 100%|██████████| 301/301 [00:59<00:00,  5.09it/s]\n",
            "  0%|          | 0/301 [00:00<?, ?it/s]"
          ],
          "name": "stderr"
        },
        {
          "output_type": "stream",
          "text": [
            "\n",
            "Test set: Average loss: 0.0185, Accuracy: 1884/33000 (5.71%)\n",
            "\n",
            "Learning Rate: 0.003096\n",
            "\n",
            "EPOCH: 2\n"
          ],
          "name": "stdout"
        },
        {
          "output_type": "stream",
          "text": [
            "Loss=4.271520614624023 Batch_id=300 Accuracy=8.52: 100%|██████████| 301/301 [00:59<00:00,  5.02it/s]\n",
            "  0%|          | 0/301 [00:00<?, ?it/s]"
          ],
          "name": "stderr"
        },
        {
          "output_type": "stream",
          "text": [
            "\n",
            "Test set: Average loss: 0.0165, Accuracy: 3633/33000 (11.01%)\n",
            "\n",
            "Learning Rate: 0.004710\n",
            "\n",
            "EPOCH: 3\n"
          ],
          "name": "stdout"
        },
        {
          "output_type": "stream",
          "text": [
            "Loss=3.689910650253296 Batch_id=300 Accuracy=14.51: 100%|██████████| 301/301 [01:00<00:00,  4.98it/s]\n",
            "  0%|          | 0/301 [00:00<?, ?it/s]"
          ],
          "name": "stderr"
        },
        {
          "output_type": "stream",
          "text": [
            "\n",
            "Test set: Average loss: 0.0151, Accuracy: 5201/33000 (15.76%)\n",
            "\n",
            "Learning Rate: 0.007226\n",
            "\n",
            "EPOCH: 4\n"
          ],
          "name": "stdout"
        },
        {
          "output_type": "stream",
          "text": [
            "Loss=3.5860190391540527 Batch_id=300 Accuracy=19.37: 100%|██████████| 301/301 [01:00<00:00,  4.96it/s]\n",
            "  0%|          | 0/301 [00:00<?, ?it/s]"
          ],
          "name": "stderr"
        },
        {
          "output_type": "stream",
          "text": [
            "\n",
            "Test set: Average loss: 0.0141, Accuracy: 6538/33000 (19.81%)\n",
            "\n",
            "Learning Rate: 0.010397\n",
            "\n",
            "EPOCH: 5\n"
          ],
          "name": "stdout"
        },
        {
          "output_type": "stream",
          "text": [
            "Loss=3.3524794578552246 Batch_id=300 Accuracy=23.26: 100%|██████████| 301/301 [01:00<00:00,  4.98it/s]\n",
            "  0%|          | 0/301 [00:00<?, ?it/s]"
          ],
          "name": "stderr"
        },
        {
          "output_type": "stream",
          "text": [
            "\n",
            "Test set: Average loss: 0.0134, Accuracy: 7555/33000 (22.89%)\n",
            "\n",
            "Learning Rate: 0.013916\n",
            "\n",
            "EPOCH: 6\n"
          ],
          "name": "stdout"
        },
        {
          "output_type": "stream",
          "text": [
            "Loss=3.1852903366088867 Batch_id=300 Accuracy=26.86: 100%|██████████| 301/301 [01:00<00:00,  4.99it/s]\n",
            "  0%|          | 0/301 [00:00<?, ?it/s]"
          ],
          "name": "stderr"
        },
        {
          "output_type": "stream",
          "text": [
            "\n",
            "Test set: Average loss: 0.0130, Accuracy: 8186/33000 (24.81%)\n",
            "\n",
            "Learning Rate: 0.017441\n",
            "\n",
            "EPOCH: 7\n"
          ],
          "name": "stdout"
        },
        {
          "output_type": "stream",
          "text": [
            "Loss=2.689701557159424 Batch_id=300 Accuracy=29.89: 100%|██████████| 301/301 [01:00<00:00,  5.01it/s]\n",
            "  0%|          | 0/301 [00:00<?, ?it/s]"
          ],
          "name": "stderr"
        },
        {
          "output_type": "stream",
          "text": [
            "\n",
            "Test set: Average loss: 0.0123, Accuracy: 9300/33000 (28.18%)\n",
            "\n",
            "Learning Rate: 0.020628\n",
            "\n",
            "EPOCH: 8\n"
          ],
          "name": "stdout"
        },
        {
          "output_type": "stream",
          "text": [
            "Loss=3.037261724472046 Batch_id=300 Accuracy=32.84: 100%|██████████| 301/301 [00:59<00:00,  5.02it/s]\n",
            "  0%|          | 0/301 [00:00<?, ?it/s]"
          ],
          "name": "stderr"
        },
        {
          "output_type": "stream",
          "text": [
            "\n",
            "Test set: Average loss: 0.0124, Accuracy: 9194/33000 (27.86%)\n",
            "\n",
            "Learning Rate: 0.023166\n",
            "\n",
            "EPOCH: 9\n"
          ],
          "name": "stdout"
        },
        {
          "output_type": "stream",
          "text": [
            "Loss=2.6462039947509766 Batch_id=300 Accuracy=35.78: 100%|██████████| 301/301 [01:00<00:00,  4.99it/s]\n",
            "  0%|          | 0/301 [00:00<?, ?it/s]"
          ],
          "name": "stderr"
        },
        {
          "output_type": "stream",
          "text": [
            "\n",
            "Test set: Average loss: 0.0120, Accuracy: 9775/33000 (29.62%)\n",
            "\n",
            "Learning Rate: 0.024810\n",
            "\n",
            "EPOCH: 10\n"
          ],
          "name": "stdout"
        },
        {
          "output_type": "stream",
          "text": [
            "Loss=2.6603033542633057 Batch_id=300 Accuracy=38.55: 100%|██████████| 301/301 [01:00<00:00,  5.01it/s]\n",
            "  0%|          | 0/301 [00:00<?, ?it/s]"
          ],
          "name": "stderr"
        },
        {
          "output_type": "stream",
          "text": [
            "\n",
            "Test set: Average loss: 0.0116, Accuracy: 10640/33000 (32.24%)\n",
            "\n",
            "Learning Rate: 0.025399\n",
            "\n",
            "EPOCH: 11\n"
          ],
          "name": "stdout"
        },
        {
          "output_type": "stream",
          "text": [
            "Loss=2.4035732746124268 Batch_id=300 Accuracy=41.36: 100%|██████████| 301/301 [01:00<00:00,  4.97it/s]\n",
            "  0%|          | 0/301 [00:00<?, ?it/s]"
          ],
          "name": "stderr"
        },
        {
          "output_type": "stream",
          "text": [
            "\n",
            "Test set: Average loss: 0.0115, Accuracy: 10650/33000 (32.27%)\n",
            "\n",
            "Learning Rate: 0.025363\n",
            "\n",
            "EPOCH: 12\n"
          ],
          "name": "stdout"
        },
        {
          "output_type": "stream",
          "text": [
            "Loss=2.277160167694092 Batch_id=300 Accuracy=44.42: 100%|██████████| 301/301 [01:00<00:00,  4.98it/s]\n",
            "  0%|          | 0/301 [00:00<?, ?it/s]"
          ],
          "name": "stderr"
        },
        {
          "output_type": "stream",
          "text": [
            "\n",
            "Test set: Average loss: 0.0115, Accuracy: 10782/33000 (32.67%)\n",
            "\n",
            "Learning Rate: 0.025249\n",
            "\n",
            "EPOCH: 13\n"
          ],
          "name": "stdout"
        },
        {
          "output_type": "stream",
          "text": [
            "Loss=2.0939884185791016 Batch_id=300 Accuracy=46.91: 100%|██████████| 301/301 [00:59<00:00,  5.03it/s]\n",
            "  0%|          | 0/301 [00:00<?, ?it/s]"
          ],
          "name": "stderr"
        },
        {
          "output_type": "stream",
          "text": [
            "\n",
            "Test set: Average loss: 0.0116, Accuracy: 10692/33000 (32.40%)\n",
            "\n",
            "Learning Rate: 0.025059\n",
            "\n",
            "EPOCH: 14\n"
          ],
          "name": "stdout"
        },
        {
          "output_type": "stream",
          "text": [
            "Loss=1.7950313091278076 Batch_id=300 Accuracy=49.37: 100%|██████████| 301/301 [01:00<00:00,  5.01it/s]\n",
            "  0%|          | 0/301 [00:00<?, ?it/s]"
          ],
          "name": "stderr"
        },
        {
          "output_type": "stream",
          "text": [
            "\n",
            "Test set: Average loss: 0.0117, Accuracy: 10812/33000 (32.76%)\n",
            "\n",
            "Learning Rate: 0.024792\n",
            "\n",
            "EPOCH: 15\n"
          ],
          "name": "stdout"
        },
        {
          "output_type": "stream",
          "text": [
            "Loss=2.0284736156463623 Batch_id=300 Accuracy=52.12: 100%|██████████| 301/301 [00:59<00:00,  5.03it/s]\n",
            "  0%|          | 0/301 [00:00<?, ?it/s]"
          ],
          "name": "stderr"
        },
        {
          "output_type": "stream",
          "text": [
            "\n",
            "Test set: Average loss: 0.0114, Accuracy: 11395/33000 (34.53%)\n",
            "\n",
            "Learning Rate: 0.024452\n",
            "\n",
            "EPOCH: 16\n"
          ],
          "name": "stdout"
        },
        {
          "output_type": "stream",
          "text": [
            "Loss=1.8995786905288696 Batch_id=300 Accuracy=54.92: 100%|██████████| 301/301 [01:00<00:00,  5.01it/s]\n",
            "  0%|          | 0/301 [00:00<?, ?it/s]"
          ],
          "name": "stderr"
        },
        {
          "output_type": "stream",
          "text": [
            "\n",
            "Test set: Average loss: 0.0117, Accuracy: 10961/33000 (33.22%)\n",
            "\n",
            "Learning Rate: 0.024040\n",
            "\n",
            "EPOCH: 17\n"
          ],
          "name": "stdout"
        },
        {
          "output_type": "stream",
          "text": [
            "Loss=1.8756283521652222 Batch_id=300 Accuracy=57.34: 100%|██████████| 301/301 [01:00<00:00,  5.00it/s]\n",
            "  0%|          | 0/301 [00:00<?, ?it/s]"
          ],
          "name": "stderr"
        },
        {
          "output_type": "stream",
          "text": [
            "\n",
            "Test set: Average loss: 0.0121, Accuracy: 10759/33000 (32.60%)\n",
            "\n",
            "Learning Rate: 0.023558\n",
            "\n",
            "EPOCH: 18\n"
          ],
          "name": "stdout"
        },
        {
          "output_type": "stream",
          "text": [
            "Loss=1.7740073204040527 Batch_id=300 Accuracy=60.15: 100%|██████████| 301/301 [01:00<00:00,  5.00it/s]\n",
            "  0%|          | 0/301 [00:00<?, ?it/s]"
          ],
          "name": "stderr"
        },
        {
          "output_type": "stream",
          "text": [
            "\n",
            "Test set: Average loss: 0.0120, Accuracy: 11025/33000 (33.41%)\n",
            "\n",
            "Learning Rate: 0.023010\n",
            "\n",
            "EPOCH: 19\n"
          ],
          "name": "stdout"
        },
        {
          "output_type": "stream",
          "text": [
            "Loss=1.808054804801941 Batch_id=300 Accuracy=62.77: 100%|██████████| 301/301 [01:01<00:00,  4.93it/s]\n",
            "  0%|          | 0/301 [00:00<?, ?it/s]"
          ],
          "name": "stderr"
        },
        {
          "output_type": "stream",
          "text": [
            "\n",
            "Test set: Average loss: 0.0119, Accuracy: 11469/33000 (34.75%)\n",
            "\n",
            "Learning Rate: 0.022399\n",
            "\n",
            "EPOCH: 20\n"
          ],
          "name": "stdout"
        },
        {
          "output_type": "stream",
          "text": [
            "Loss=1.4606024026870728 Batch_id=300 Accuracy=65.55: 100%|██████████| 301/301 [01:00<00:00,  4.98it/s]\n",
            "  0%|          | 0/301 [00:00<?, ?it/s]"
          ],
          "name": "stderr"
        },
        {
          "output_type": "stream",
          "text": [
            "\n",
            "Test set: Average loss: 0.0119, Accuracy: 11431/33000 (34.64%)\n",
            "\n",
            "Learning Rate: 0.021728\n",
            "\n",
            "EPOCH: 21\n"
          ],
          "name": "stdout"
        },
        {
          "output_type": "stream",
          "text": [
            "Loss=1.2558246850967407 Batch_id=300 Accuracy=67.79: 100%|██████████| 301/301 [01:00<00:00,  4.96it/s]\n",
            "  0%|          | 0/301 [00:00<?, ?it/s]"
          ],
          "name": "stderr"
        },
        {
          "output_type": "stream",
          "text": [
            "\n",
            "Test set: Average loss: 0.0119, Accuracy: 11579/33000 (35.09%)\n",
            "\n",
            "Learning Rate: 0.021003\n",
            "\n",
            "EPOCH: 22\n"
          ],
          "name": "stdout"
        },
        {
          "output_type": "stream",
          "text": [
            "Loss=1.2847237586975098 Batch_id=300 Accuracy=70.59: 100%|██████████| 301/301 [01:00<00:00,  4.95it/s]\n",
            "  0%|          | 0/301 [00:00<?, ?it/s]"
          ],
          "name": "stderr"
        },
        {
          "output_type": "stream",
          "text": [
            "\n",
            "Test set: Average loss: 0.0124, Accuracy: 11410/33000 (34.58%)\n",
            "\n",
            "Learning Rate: 0.020226\n",
            "\n",
            "EPOCH: 23\n"
          ],
          "name": "stdout"
        },
        {
          "output_type": "stream",
          "text": [
            "Loss=1.1490827798843384 Batch_id=300 Accuracy=73.16: 100%|██████████| 301/301 [01:00<00:00,  5.00it/s]\n",
            "  0%|          | 0/301 [00:00<?, ?it/s]"
          ],
          "name": "stderr"
        },
        {
          "output_type": "stream",
          "text": [
            "\n",
            "Test set: Average loss: 0.0121, Accuracy: 11853/33000 (35.92%)\n",
            "\n",
            "Learning Rate: 0.019404\n",
            "\n",
            "EPOCH: 24\n"
          ],
          "name": "stdout"
        },
        {
          "output_type": "stream",
          "text": [
            "Loss=1.0411981344223022 Batch_id=300 Accuracy=75.29: 100%|██████████| 301/301 [01:00<00:00,  4.97it/s]\n",
            "  0%|          | 0/301 [00:00<?, ?it/s]"
          ],
          "name": "stderr"
        },
        {
          "output_type": "stream",
          "text": [
            "\n",
            "Test set: Average loss: 0.0123, Accuracy: 11723/33000 (35.52%)\n",
            "\n",
            "Learning Rate: 0.018540\n",
            "\n",
            "EPOCH: 25\n"
          ],
          "name": "stdout"
        },
        {
          "output_type": "stream",
          "text": [
            "Loss=0.885866105556488 Batch_id=300 Accuracy=77.16: 100%|██████████| 301/301 [01:00<00:00,  5.00it/s]\n",
            "  0%|          | 0/301 [00:00<?, ?it/s]"
          ],
          "name": "stderr"
        },
        {
          "output_type": "stream",
          "text": [
            "\n",
            "Test set: Average loss: 0.0126, Accuracy: 11613/33000 (35.19%)\n",
            "\n",
            "Learning Rate: 0.017641\n",
            "\n",
            "EPOCH: 26\n"
          ],
          "name": "stdout"
        },
        {
          "output_type": "stream",
          "text": [
            "Loss=0.862071692943573 Batch_id=300 Accuracy=79.64: 100%|██████████| 301/301 [01:00<00:00,  4.95it/s]\n",
            "  0%|          | 0/301 [00:00<?, ?it/s]"
          ],
          "name": "stderr"
        },
        {
          "output_type": "stream",
          "text": [
            "\n",
            "Test set: Average loss: 0.0127, Accuracy: 11627/33000 (35.23%)\n",
            "\n",
            "Learning Rate: 0.016712\n",
            "\n",
            "EPOCH: 27\n"
          ],
          "name": "stdout"
        },
        {
          "output_type": "stream",
          "text": [
            "Loss=0.7521618604660034 Batch_id=300 Accuracy=81.81: 100%|██████████| 301/301 [01:01<00:00,  4.93it/s]\n",
            "  0%|          | 0/301 [00:00<?, ?it/s]"
          ],
          "name": "stderr"
        },
        {
          "output_type": "stream",
          "text": [
            "\n",
            "Test set: Average loss: 0.0126, Accuracy: 11842/33000 (35.88%)\n",
            "\n",
            "Learning Rate: 0.015758\n",
            "\n",
            "EPOCH: 28\n"
          ],
          "name": "stdout"
        },
        {
          "output_type": "stream",
          "text": [
            "Loss=0.6484954953193665 Batch_id=300 Accuracy=83.71: 100%|██████████| 301/301 [01:00<00:00,  4.99it/s]\n",
            "  0%|          | 0/301 [00:00<?, ?it/s]"
          ],
          "name": "stderr"
        },
        {
          "output_type": "stream",
          "text": [
            "\n",
            "Test set: Average loss: 0.0128, Accuracy: 11751/33000 (35.61%)\n",
            "\n",
            "Learning Rate: 0.014785\n",
            "\n",
            "EPOCH: 29\n"
          ],
          "name": "stdout"
        },
        {
          "output_type": "stream",
          "text": [
            "Loss=0.6629931926727295 Batch_id=300 Accuracy=85.21: 100%|██████████| 301/301 [00:59<00:00,  5.05it/s]\n",
            "  0%|          | 0/301 [00:00<?, ?it/s]"
          ],
          "name": "stderr"
        },
        {
          "output_type": "stream",
          "text": [
            "\n",
            "Test set: Average loss: 0.0127, Accuracy: 11866/33000 (35.96%)\n",
            "\n",
            "Learning Rate: 0.013800\n",
            "\n",
            "EPOCH: 30\n"
          ],
          "name": "stdout"
        },
        {
          "output_type": "stream",
          "text": [
            "Loss=0.5332911014556885 Batch_id=300 Accuracy=87.35: 100%|██████████| 301/301 [00:59<00:00,  5.02it/s]\n",
            "  0%|          | 0/301 [00:00<?, ?it/s]"
          ],
          "name": "stderr"
        },
        {
          "output_type": "stream",
          "text": [
            "\n",
            "Test set: Average loss: 0.0131, Accuracy: 11729/33000 (35.54%)\n",
            "\n",
            "Learning Rate: 0.012808\n",
            "\n",
            "EPOCH: 31\n"
          ],
          "name": "stdout"
        },
        {
          "output_type": "stream",
          "text": [
            "Loss=0.5529597401618958 Batch_id=300 Accuracy=88.85: 100%|██████████| 301/301 [01:00<00:00,  4.99it/s]\n",
            "  0%|          | 0/301 [00:00<?, ?it/s]"
          ],
          "name": "stderr"
        },
        {
          "output_type": "stream",
          "text": [
            "\n",
            "Test set: Average loss: 0.0129, Accuracy: 11911/33000 (36.09%)\n",
            "\n",
            "Learning Rate: 0.011816\n",
            "\n",
            "EPOCH: 32\n"
          ],
          "name": "stdout"
        },
        {
          "output_type": "stream",
          "text": [
            "Loss=0.40932705998420715 Batch_id=300 Accuracy=90.48: 100%|██████████| 301/301 [01:00<00:00,  4.98it/s]\n",
            "  0%|          | 0/301 [00:00<?, ?it/s]"
          ],
          "name": "stderr"
        },
        {
          "output_type": "stream",
          "text": [
            "\n",
            "Test set: Average loss: 0.0128, Accuracy: 12217/33000 (37.02%)\n",
            "\n",
            "Learning Rate: 0.010829\n",
            "\n",
            "EPOCH: 33\n"
          ],
          "name": "stdout"
        },
        {
          "output_type": "stream",
          "text": [
            "Loss=0.3430367708206177 Batch_id=300 Accuracy=92.04: 100%|██████████| 301/301 [01:00<00:00,  4.96it/s]\n",
            "  0%|          | 0/301 [00:00<?, ?it/s]"
          ],
          "name": "stderr"
        },
        {
          "output_type": "stream",
          "text": [
            "\n",
            "Test set: Average loss: 0.0127, Accuracy: 12341/33000 (37.40%)\n",
            "\n",
            "Learning Rate: 0.009854\n",
            "\n",
            "EPOCH: 34\n"
          ],
          "name": "stdout"
        },
        {
          "output_type": "stream",
          "text": [
            "Loss=0.3005155622959137 Batch_id=300 Accuracy=93.13: 100%|██████████| 301/301 [01:00<00:00,  5.01it/s]\n",
            "  0%|          | 0/301 [00:00<?, ?it/s]"
          ],
          "name": "stderr"
        },
        {
          "output_type": "stream",
          "text": [
            "\n",
            "Test set: Average loss: 0.0126, Accuracy: 12404/33000 (37.59%)\n",
            "\n",
            "Learning Rate: 0.008896\n",
            "\n",
            "EPOCH: 35\n"
          ],
          "name": "stdout"
        },
        {
          "output_type": "stream",
          "text": [
            "Loss=0.27533525228500366 Batch_id=300 Accuracy=94.28: 100%|██████████| 301/301 [01:00<00:00,  4.97it/s]\n",
            "  0%|          | 0/301 [00:00<?, ?it/s]"
          ],
          "name": "stderr"
        },
        {
          "output_type": "stream",
          "text": [
            "\n",
            "Test set: Average loss: 0.0129, Accuracy: 12265/33000 (37.17%)\n",
            "\n",
            "Learning Rate: 0.007961\n",
            "\n",
            "EPOCH: 36\n"
          ],
          "name": "stdout"
        },
        {
          "output_type": "stream",
          "text": [
            "Loss=0.23526352643966675 Batch_id=300 Accuracy=95.50: 100%|██████████| 301/301 [01:00<00:00,  4.96it/s]\n",
            "  0%|          | 0/301 [00:00<?, ?it/s]"
          ],
          "name": "stderr"
        },
        {
          "output_type": "stream",
          "text": [
            "\n",
            "Test set: Average loss: 0.0126, Accuracy: 12660/33000 (38.36%)\n",
            "\n",
            "Learning Rate: 0.007056\n",
            "\n",
            "EPOCH: 37\n"
          ],
          "name": "stdout"
        },
        {
          "output_type": "stream",
          "text": [
            "Loss=0.1727883219718933 Batch_id=300 Accuracy=96.51: 100%|██████████| 301/301 [01:00<00:00,  4.99it/s]\n",
            "  0%|          | 0/301 [00:00<?, ?it/s]"
          ],
          "name": "stderr"
        },
        {
          "output_type": "stream",
          "text": [
            "\n",
            "Test set: Average loss: 0.0126, Accuracy: 12767/33000 (38.69%)\n",
            "\n",
            "Learning Rate: 0.006185\n",
            "\n",
            "EPOCH: 38\n"
          ],
          "name": "stdout"
        },
        {
          "output_type": "stream",
          "text": [
            "Loss=0.16712817549705505 Batch_id=300 Accuracy=97.19: 100%|██████████| 301/301 [01:00<00:00,  4.96it/s]\n",
            "  0%|          | 0/301 [00:00<?, ?it/s]"
          ],
          "name": "stderr"
        },
        {
          "output_type": "stream",
          "text": [
            "\n",
            "Test set: Average loss: 0.0125, Accuracy: 12884/33000 (39.04%)\n",
            "\n",
            "Learning Rate: 0.005354\n",
            "\n",
            "EPOCH: 39\n"
          ],
          "name": "stdout"
        },
        {
          "output_type": "stream",
          "text": [
            "Loss=0.16793660819530487 Batch_id=300 Accuracy=97.70: 100%|██████████| 301/301 [01:00<00:00,  4.96it/s]\n",
            "  0%|          | 0/301 [00:00<?, ?it/s]"
          ],
          "name": "stderr"
        },
        {
          "output_type": "stream",
          "text": [
            "\n",
            "Test set: Average loss: 0.0124, Accuracy: 12953/33000 (39.25%)\n",
            "\n",
            "Learning Rate: 0.004569\n",
            "\n",
            "EPOCH: 40\n"
          ],
          "name": "stdout"
        },
        {
          "output_type": "stream",
          "text": [
            "Loss=0.10456466674804688 Batch_id=300 Accuracy=98.17: 100%|██████████| 301/301 [01:00<00:00,  5.00it/s]\n",
            "  0%|          | 0/301 [00:00<?, ?it/s]"
          ],
          "name": "stderr"
        },
        {
          "output_type": "stream",
          "text": [
            "\n",
            "Test set: Average loss: 0.0123, Accuracy: 13139/33000 (39.82%)\n",
            "\n",
            "Learning Rate: 0.003833\n",
            "\n",
            "EPOCH: 41\n"
          ],
          "name": "stdout"
        },
        {
          "output_type": "stream",
          "text": [
            "Loss=0.08795591443777084 Batch_id=300 Accuracy=98.59: 100%|██████████| 301/301 [01:00<00:00,  4.99it/s]\n",
            "  0%|          | 0/301 [00:00<?, ?it/s]"
          ],
          "name": "stderr"
        },
        {
          "output_type": "stream",
          "text": [
            "\n",
            "Test set: Average loss: 0.0122, Accuracy: 13153/33000 (39.86%)\n",
            "\n",
            "Learning Rate: 0.003151\n",
            "\n",
            "EPOCH: 42\n"
          ],
          "name": "stdout"
        },
        {
          "output_type": "stream",
          "text": [
            "Loss=0.07363592088222504 Batch_id=300 Accuracy=98.93: 100%|██████████| 301/301 [01:01<00:00,  4.93it/s]\n",
            "  0%|          | 0/301 [00:00<?, ?it/s]"
          ],
          "name": "stderr"
        },
        {
          "output_type": "stream",
          "text": [
            "\n",
            "Test set: Average loss: 0.0121, Accuracy: 13207/33000 (40.02%)\n",
            "\n",
            "Learning Rate: 0.002529\n",
            "\n",
            "EPOCH: 43\n"
          ],
          "name": "stdout"
        },
        {
          "output_type": "stream",
          "text": [
            "Loss=0.08267369121313095 Batch_id=300 Accuracy=99.09: 100%|██████████| 301/301 [01:00<00:00,  5.00it/s]\n",
            "  0%|          | 0/301 [00:00<?, ?it/s]"
          ],
          "name": "stderr"
        },
        {
          "output_type": "stream",
          "text": [
            "\n",
            "Test set: Average loss: 0.0121, Accuracy: 13227/33000 (40.08%)\n",
            "\n",
            "Learning Rate: 0.001968\n",
            "\n",
            "EPOCH: 44\n"
          ],
          "name": "stdout"
        },
        {
          "output_type": "stream",
          "text": [
            "Loss=0.06348401308059692 Batch_id=300 Accuracy=99.26: 100%|██████████| 301/301 [01:00<00:00,  4.99it/s]\n",
            "  0%|          | 0/301 [00:00<?, ?it/s]"
          ],
          "name": "stderr"
        },
        {
          "output_type": "stream",
          "text": [
            "\n",
            "Test set: Average loss: 0.0120, Accuracy: 13429/33000 (40.69%)\n",
            "\n",
            "Learning Rate: 0.001473\n",
            "\n",
            "EPOCH: 45\n"
          ],
          "name": "stdout"
        },
        {
          "output_type": "stream",
          "text": [
            "Loss=0.045641541481018066 Batch_id=300 Accuracy=99.31: 100%|██████████| 301/301 [01:00<00:00,  5.00it/s]\n",
            "  0%|          | 0/301 [00:00<?, ?it/s]"
          ],
          "name": "stderr"
        },
        {
          "output_type": "stream",
          "text": [
            "\n",
            "Test set: Average loss: 0.0120, Accuracy: 13305/33000 (40.32%)\n",
            "\n",
            "Learning Rate: 0.001047\n",
            "\n",
            "EPOCH: 46\n"
          ],
          "name": "stdout"
        },
        {
          "output_type": "stream",
          "text": [
            "Loss=0.040203820914030075 Batch_id=300 Accuracy=99.40: 100%|██████████| 301/301 [01:00<00:00,  4.99it/s]\n",
            "  0%|          | 0/301 [00:00<?, ?it/s]"
          ],
          "name": "stderr"
        },
        {
          "output_type": "stream",
          "text": [
            "\n",
            "Test set: Average loss: 0.0120, Accuracy: 13389/33000 (40.57%)\n",
            "\n",
            "Learning Rate: 0.000693\n",
            "\n",
            "EPOCH: 47\n"
          ],
          "name": "stdout"
        },
        {
          "output_type": "stream",
          "text": [
            "Loss=0.060141414403915405 Batch_id=300 Accuracy=99.45: 100%|██████████| 301/301 [01:00<00:00,  4.98it/s]\n",
            "  0%|          | 0/301 [00:00<?, ?it/s]"
          ],
          "name": "stderr"
        },
        {
          "output_type": "stream",
          "text": [
            "\n",
            "Test set: Average loss: 0.0119, Accuracy: 13368/33000 (40.51%)\n",
            "\n",
            "Learning Rate: 0.000412\n",
            "\n",
            "EPOCH: 48\n"
          ],
          "name": "stdout"
        },
        {
          "output_type": "stream",
          "text": [
            "Loss=0.04707864671945572 Batch_id=300 Accuracy=99.52: 100%|██████████| 301/301 [01:00<00:00,  5.02it/s]\n",
            "  0%|          | 0/301 [00:00<?, ?it/s]"
          ],
          "name": "stderr"
        },
        {
          "output_type": "stream",
          "text": [
            "\n",
            "Test set: Average loss: 0.0119, Accuracy: 13387/33000 (40.57%)\n",
            "\n",
            "Learning Rate: 0.000207\n",
            "\n",
            "EPOCH: 49\n"
          ],
          "name": "stdout"
        },
        {
          "output_type": "stream",
          "text": [
            "Loss=0.04431566223502159 Batch_id=300 Accuracy=99.53: 100%|██████████| 301/301 [01:00<00:00,  5.02it/s]\n",
            "  0%|          | 0/301 [00:00<?, ?it/s]"
          ],
          "name": "stderr"
        },
        {
          "output_type": "stream",
          "text": [
            "\n",
            "Test set: Average loss: 0.0119, Accuracy: 13437/33000 (40.72%)\n",
            "\n",
            "Learning Rate: 0.000078\n",
            "\n",
            "EPOCH: 50\n"
          ],
          "name": "stdout"
        },
        {
          "output_type": "stream",
          "text": [
            "Loss=0.035279445350170135 Batch_id=300 Accuracy=99.55: 100%|██████████| 301/301 [01:00<00:00,  4.98it/s]\n"
          ],
          "name": "stderr"
        },
        {
          "output_type": "stream",
          "text": [
            "\n",
            "Test set: Average loss: 0.0119, Accuracy: 13456/33000 (40.78%)\n",
            "\n",
            "Learning Rate: 0.000026\n"
          ],
          "name": "stdout"
        }
      ]
    },
    {
      "cell_type": "markdown",
      "metadata": {
        "id": "tE6VsvyHYPCU",
        "colab_type": "text"
      },
      "source": [
        "## Plotting Test & Train Accuracy"
      ]
    },
    {
      "cell_type": "code",
      "metadata": {
        "id": "F2H9sm2BYS6y",
        "colab_type": "code",
        "colab": {
          "base_uri": "https://localhost:8080/",
          "height": 661
        },
        "outputId": "77934ab7-ae8e-4158-fc39-e2eea8ef6369"
      },
      "source": [
        "dm.plot_test_train_accuracy()"
      ],
      "execution_count": 11,
      "outputs": [
        {
          "output_type": "stream",
          "text": [
            "[2.7194805194805194, 8.522077922077923, 14.514285714285714, 19.366233766233766, 23.258441558441557, 26.857142857142858, 29.887012987012987, 32.84155844155844, 35.77792207792208, 38.54935064935065, 41.36363636363637, 44.41558441558441, 46.91168831168831, 49.36753246753247, 52.12077922077922, 54.923376623376626, 57.34415584415584, 60.14935064935065, 62.77012987012987, 65.54935064935064, 67.78571428571429, 70.5909090909091, 73.16233766233766, 75.2909090909091, 77.15714285714286, 79.64025974025974, 81.81168831168831, 83.70519480519481, 85.21038961038961, 87.34935064935065, 88.85324675324675, 90.47922077922078, 92.03896103896103, 93.12857142857143, 94.28441558441558, 95.5, 96.50649350649351, 97.1922077922078, 97.6974025974026, 98.16753246753247, 98.58701298701298, 98.93246753246753, 99.09480519480519, 99.26233766233766, 99.31168831168831, 99.4012987012987, 99.44675324675325, 99.52207792207793, 99.52727272727273, 99.54545454545455]\n",
            "[5.709090909090909, 11.00909090909091, 15.76060606060606, 19.812121212121212, 22.893939393939394, 24.806060606060605, 28.181818181818183, 27.86060606060606, 29.62121212121212, 32.24242424242424, 32.27272727272727, 32.67272727272727, 32.4, 32.763636363636365, 34.53030303030303, 33.21515151515152, 32.6030303030303, 33.40909090909091, 34.75454545454546, 34.63939393939394, 35.087878787878786, 34.57575757575758, 35.91818181818182, 35.52424242424242, 35.19090909090909, 35.233333333333334, 35.88484848484848, 35.60909090909091, 35.95757575757576, 35.54242424242424, 36.093939393939394, 37.02121212121212, 37.3969696969697, 37.587878787878786, 37.166666666666664, 38.36363636363637, 38.68787878787879, 39.04242424242424, 39.25151515151515, 39.81515151515151, 39.85757575757576, 40.02121212121212, 40.08181818181818, 40.693939393939395, 40.31818181818182, 40.57272727272727, 40.50909090909091, 40.56666666666667, 40.71818181818182, 40.775757575757574]\n"
          ],
          "name": "stdout"
        },
        {
          "output_type": "display_data",
          "data": {
            "image/png": "[encoded data removed]",
            "text/plain": [
              "<Figure size 720x720 with 2 Axes>"
            ]
          },
          "metadata": {
            "tags": [],
            "needs_background": "light"
          }
        }
      ]
    },
    {
      "cell_type": "markdown",
      "metadata": {
        "id": "avY9ZjqcgjMA",
        "colab_type": "text"
      },
      "source": [
        "## Plotting Validation Accuracy"
      ]
    },
    {
      "cell_type": "code",
      "metadata": {
        "id": "QX5FhD-egnxD",
        "colab_type": "code",
        "colab": {
          "base_uri": "https://localhost:8080/",
          "height": 606
        },
        "outputId": "274ca45d-a63d-4d4d-9d35-b23282e0f8c8"
      },
      "source": [
        "dm.plot_loss_accuracy()"
      ],
      "execution_count": 12,
      "outputs": [
        {
          "output_type": "display_data",
          "data": {
            "image/png": "[encoded data removed]",
            "text/plain": [
              "<Figure size 720x720 with 2 Axes>"
            ]
          },
          "metadata": {
            "tags": [],
            "needs_background": "light"
          }
        }
      ]
    }
  ]
}
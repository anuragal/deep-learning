{
  "nbformat": 4,
  "nbformat_minor": 0,
  "metadata": {
    "colab": {
      "name": "PyTorch101.ipynb",
      "provenance": [],
      "include_colab_link": true
    },
    "kernelspec": {
      "name": "python3",
      "display_name": "Python 3"
    }
  },
  "cells": [
    {
      "cell_type": "markdown",
      "metadata": {
        "id": "view-in-github",
        "colab_type": "text"
      },
      "source": [
        "<a href=\"https://colab.research.google.com/github/anuragal/deep-learning/blob/master/S3/PyTorch101.ipynb\" target=\"_parent\"><img src=\"https://colab.research.google.com/assets/colab-badge.svg\" alt=\"Open In Colab\"/></a>"
      ]
    },
    {
      "cell_type": "markdown",
      "metadata": {
        "id": "_kYM3ylzYo1Q",
        "colab_type": "text"
      },
      "source": [
        "![PyTorch](https://devblogs.nvidia.com/wp-content/uploads/2017/04/pytorch-logo-dark.png)\n",
        "\n",
        "An open source machine learning framework that accelerates the path from research prototyping to production deployment.\n",
        "\n"
      ]
    },
    {
      "cell_type": "markdown",
      "metadata": {
        "id": "WcVqSTrWY6oz",
        "colab_type": "text"
      },
      "source": [
        "# Tensor - Pytorch's core data structure\n",
        "\n",
        "In Python we can create lists, lists of lists, lists of lists and so on. In NumPy there is a `numpy.ndarray` which represents `n`- dimensional array. In math there is a special name for the generalization of vectors and matrices to a higher dimensional space - a tensor\n",
        "\n",
        "Tensor is an entity with a defined number of dimensions called an order (rank). \n",
        "\n",
        "**Scalar** can be considered as a rank-0-tensor. \n",
        "\n",
        "**Vector** can be introduced as a rank-1-tensor. \n",
        "\n",
        "**Matrices** can be considered as a rank-2-tensor.\n",
        "\n",
        "# Tensor Basics\n",
        "\n",
        "Let's import the torch module first."
      ]
    },
    {
      "cell_type": "code",
      "metadata": {
        "id": "e-oFVL2tYYqp",
        "colab_type": "code",
        "colab": {}
      },
      "source": [
        "import numpy as np\n",
        "import torch"
      ],
      "execution_count": 0,
      "outputs": []
    },
    {
      "cell_type": "markdown",
      "metadata": {
        "id": "uGxuR5IEaFJa",
        "colab_type": "text"
      },
      "source": [
        "## Tensor Creation\n",
        "Let's view examples of matrices and tensors generation\n",
        "\n",
        "2-dimensional (rank-2) tensor of zeros:"
      ]
    },
    {
      "cell_type": "code",
      "metadata": {
        "id": "897JQc25aD3E",
        "colab_type": "code",
        "outputId": "43f9c613-529c-4840-ccf2-17c9cc6b7654",
        "colab": {
          "base_uri": "https://localhost:8080/",
          "height": 69
        }
      },
      "source": [
        "torch.zeros(3, 4)"
      ],
      "execution_count": 2,
      "outputs": [
        {
          "output_type": "execute_result",
          "data": {
            "text/plain": [
              "tensor([[0., 0., 0., 0.],\n",
              "        [0., 0., 0., 0.],\n",
              "        [0., 0., 0., 0.]])"
            ]
          },
          "metadata": {
            "tags": []
          },
          "execution_count": 2
        }
      ]
    },
    {
      "cell_type": "markdown",
      "metadata": {
        "id": "pujmpEBhaPRA",
        "colab_type": "text"
      },
      "source": [
        "Random rank-3 tensor:\n",
        "_read the print below and convince yourself how this is a rank-3-tensor and learn what those 2, 3, 4 values are there for_"
      ]
    },
    {
      "cell_type": "code",
      "metadata": {
        "id": "mBrznTNhaOL7",
        "colab_type": "code",
        "outputId": "b8766972-2d0b-4b41-cd3b-b66dbbb56c40",
        "colab": {
          "base_uri": "https://localhost:8080/",
          "height": 143
        }
      },
      "source": [
        "torch.rand(2, 3, 4)"
      ],
      "execution_count": 0,
      "outputs": [
        {
          "output_type": "execute_result",
          "data": {
            "text/plain": [
              "tensor([[[0.7813, 0.2514, 0.4112, 0.3669],\n",
              "         [0.2603, 0.0648, 0.4038, 0.4019],\n",
              "         [0.9940, 0.7059, 0.0028, 0.7583]],\n",
              "\n",
              "        [[0.4199, 0.7931, 0.7042, 0.5402],\n",
              "         [0.1671, 0.5256, 0.1711, 0.9451],\n",
              "         [0.1067, 0.8843, 0.5401, 0.9266]]])"
            ]
          },
          "metadata": {
            "tags": []
          },
          "execution_count": 5
        }
      ]
    },
    {
      "cell_type": "markdown",
      "metadata": {
        "id": "kO4fIr15asdi",
        "colab_type": "text"
      },
      "source": [
        "I am hoping you have noticed 4-elements in a row, 3 rows making one block and there are 2 blocks. \n",
        "\n",
        "Random rank-4-tensor:"
      ]
    },
    {
      "cell_type": "code",
      "metadata": {
        "id": "KiCLvMGCaVZ3",
        "colab_type": "code",
        "outputId": "d5c01ff4-23be-4084-a143-b3e639ae1d5f",
        "colab": {
          "base_uri": "https://localhost:8080/",
          "height": 233
        }
      },
      "source": [
        "torch.rand(2, 2, 2, 3)"
      ],
      "execution_count": 0,
      "outputs": [
        {
          "output_type": "execute_result",
          "data": {
            "text/plain": [
              "tensor([[[[0.4238, 0.5172, 0.5660],\n",
              "          [0.7864, 0.2312, 0.8998]],\n",
              "\n",
              "         [[0.2318, 0.1947, 0.7657],\n",
              "          [0.6428, 0.7590, 0.3680]]],\n",
              "\n",
              "\n",
              "        [[[0.0699, 0.9107, 0.4747],\n",
              "          [0.0936, 0.4158, 0.0542]],\n",
              "\n",
              "         [[0.0143, 0.0524, 0.7135],\n",
              "          [0.9181, 0.2190, 0.3682]]]])"
            ]
          },
          "metadata": {
            "tags": []
          },
          "execution_count": 6
        }
      ]
    },
    {
      "cell_type": "markdown",
      "metadata": {
        "id": "lF6VL68s3AMV",
        "colab_type": "text"
      },
      "source": [
        "## Question 1:\n",
        "\n",
        "How many dimensions are there in a tensor defined as below?"
      ]
    },
    {
      "cell_type": "code",
      "metadata": {
        "id": "8IbXcI3x3Ibt",
        "colab_type": "code",
        "outputId": "862d5452-fd49-48c8-da87-a7f040e5aba9",
        "colab": {
          "base_uri": "https://localhost:8080/",
          "height": 35
        }
      },
      "source": [
        "torch.rand(1, 1, 1, 1)"
      ],
      "execution_count": 14,
      "outputs": [
        {
          "output_type": "execute_result",
          "data": {
            "text/plain": [
              "tensor([[[[0.4661]]]])"
            ]
          },
          "metadata": {
            "tags": []
          },
          "execution_count": 14
        }
      ]
    },
    {
      "cell_type": "markdown",
      "metadata": {
        "id": "qmgpqssRa9jF",
        "colab_type": "text"
      },
      "source": [
        ".\n",
        "\n",
        "---\n",
        "\n",
        "\n",
        "There are many more ways to create tensor using some restrictions on values it should contatn - for the full reference, please follow the [official docs](https://pytorch.org/docs/stable/torch.html#creation-ops). \n",
        "\n",
        "\n",
        ".\n",
        "---\n",
        "\n",
        "\n",
        "# Python / NumPy / Pytorch interoperability\n",
        "\n",
        "You can create tensors from python as well as numpy arrays. You can also convert torch tensors to numpy arrays. So, the interoperability between torch and numpy is pretty good. "
      ]
    },
    {
      "cell_type": "code",
      "metadata": {
        "id": "ipgpeWPfa6gE",
        "colab_type": "code",
        "outputId": "73e2f4aa-d3ae-4585-cad8-3a4aaf03435d",
        "colab": {
          "base_uri": "https://localhost:8080/",
          "height": 125
        }
      },
      "source": [
        "# Simple Python List\n",
        "python_list = [1, 2]\n",
        "\n",
        "# Create a numpy array from python list\n",
        "numpy_array = np.array(python_list)\n",
        "\n",
        "# Create a torch Tensor from python list\n",
        "tensor_from_list = torch.tensor(python_list)\n",
        "\n",
        "# Create a torch Tensor from Numpy array\n",
        "tensor_from_array = torch.tensor(numpy_array)\n",
        "\n",
        "# Another way to create a torch Tensor from Numpy array (share same storage)\n",
        "tensor_from_array_v2 = torch.from_numpy(numpy_array)\n",
        "\n",
        "# Convert torch tensor to numpy array\n",
        "array_from_tensor = tensor_from_array.numpy()\n",
        "\n",
        "print('List:   ', python_list)\n",
        "print('Array:  ', numpy_array)\n",
        "print('Tensor: ', tensor_from_list)\n",
        "print('Tensor: ', tensor_from_array)\n",
        "print('Tensor: ', tensor_from_array_v2)\n",
        "print('Array:  ', array_from_tensor)"
      ],
      "execution_count": 0,
      "outputs": [
        {
          "output_type": "stream",
          "text": [
            "List:    [1, 2]\n",
            "Array:   [1 2]\n",
            "Tensor:  tensor([1, 2])\n",
            "Tensor:  tensor([1, 2])\n",
            "Tensor:  tensor([1, 2])\n",
            "Array:   [1 2]\n"
          ],
          "name": "stdout"
        }
      ]
    },
    {
      "cell_type": "markdown",
      "metadata": {
        "id": "X_x-86B8gqik",
        "colab_type": "text"
      },
      "source": [
        "**Difference between** `torch.Tensor` **and** `torch.from_numpy`\n",
        "\n",
        "Pytorch aims to be an effective library for computations. What does it mean? It means that pytorch avoids memory copying if it can. "
      ]
    },
    {
      "cell_type": "code",
      "metadata": {
        "id": "eHCKDGpygn_d",
        "colab_type": "code",
        "outputId": "9d4a2409-7d5f-488c-d06b-a672c3141b76",
        "colab": {
          "base_uri": "https://localhost:8080/",
          "height": 71
        }
      },
      "source": [
        "numpy_array[0] = 10\n",
        "\n",
        "print('Array:  ', numpy_array)\n",
        "print('Tensor: ', tensor_from_array)\n",
        "print('Tensor: ', tensor_from_array_v2)"
      ],
      "execution_count": 0,
      "outputs": [
        {
          "output_type": "stream",
          "text": [
            "Array:   [10  2]\n",
            "Tensor:  tensor([1, 2])\n",
            "Tensor:  tensor([10,  2])\n"
          ],
          "name": "stdout"
        }
      ]
    },
    {
      "cell_type": "markdown",
      "metadata": {
        "id": "-CKtdNRM3SMp",
        "colab_type": "text"
      },
      "source": [
        "## Question 2:\n",
        "\n",
        "Assume that we moved our complete (cats vs dogs) image dataset to numpy arrays. Then we use torch.from_numpy to convert these images to tensor. Then we apply a specific data augmentation strategy called \"CutOut\" which blocks a portion of the image directly on these tensors. What will happen to the accuracy of a model trained on this strategy compared to the one without this strategy? CutOut strategy is shown below: \n",
        "\n",
        "![CutOut](https://encrypted-tbn0.gstatic.com/images?q=tbn%3AANd9GcSnSyN835AmtQPKQbPjDHX-FmshNilbtexX95cRGQPwl56QCGDn)\n",
        "\n",
        "## Question 3:\n",
        "Why do you think we are observing this behavior?\n",
        "\n",
        "\n",
        "\n",
        "---\n",
        "\n",
        "\n"
      ]
    },
    {
      "cell_type": "markdown",
      "metadata": {
        "id": "dZq7O-aihSOA",
        "colab_type": "text"
      },
      "source": [
        "We have two different ways to create tensor from its NumPy counterpart - one copies memory and another one shares the same underlying storage. It works in the opposite way:"
      ]
    },
    {
      "cell_type": "code",
      "metadata": {
        "id": "TNFOwV8EhPwQ",
        "colab_type": "code",
        "outputId": "5c3662a8-6726-472a-b7ad-c7762136f687",
        "colab": {
          "base_uri": "https://localhost:8080/",
          "height": 89
        }
      },
      "source": [
        "array_from_tensor = tensor_from_array.numpy()\n",
        "print('Tensor: ', tensor_from_array)\n",
        "print('Array: ', array_from_tensor)\n",
        "\n",
        "tensor_from_array[0] = 11\n",
        "print('Tensor: ', tensor_from_array)\n",
        "print('Array: ', array_from_tensor)"
      ],
      "execution_count": 0,
      "outputs": [
        {
          "output_type": "stream",
          "text": [
            "Tensor:  tensor([1, 2])\n",
            "Array:  [1 2]\n",
            "Tensor:  tensor([11,  2])\n",
            "Array:  [11  2]\n"
          ],
          "name": "stdout"
        }
      ]
    },
    {
      "cell_type": "markdown",
      "metadata": {
        "id": "UM9ytbvKhtCw",
        "colab_type": "text"
      },
      "source": [
        "## Data types\n",
        "\n",
        "The basic data type of all Deep Learning-related operations is float, but sometimes you may need something else. Pytorch support different number types for its tensors the same way NumPy does it - by specifying the data type on tensor creation or via casting. Ths full list of supported data types can be found [here](https://pytorch.org/docs/stable/tensors.html). "
      ]
    },
    {
      "cell_type": "code",
      "metadata": {
        "id": "Bd6WkzJ4hpYi",
        "colab_type": "code",
        "outputId": "158763d1-a5c2-4a05-c8d0-447a87063a6b",
        "colab": {
          "base_uri": "https://localhost:8080/",
          "height": 161
        }
      },
      "source": [
        "tensor = torch.zeros(2, 2)\n",
        "print('Tensor with default type: ', tensor)\n",
        "tensor = torch.zeros(2, 2, dtype=torch.float16)\n",
        "print('Tensor with 16-bit float: ', tensor)\n",
        "tensor = torch.zeros(2, 2, dtype=torch.int16)\n",
        "print('Tensor with integers: ', tensor)\n",
        "tensor = torch.zeros(2, 2, dtype=torch.bool)\n",
        "print('Tensor with boolean data: ', tensor)"
      ],
      "execution_count": 0,
      "outputs": [
        {
          "output_type": "stream",
          "text": [
            "Tensor with default type:  tensor([[0., 0.],\n",
            "        [0., 0.]])\n",
            "Tensor with 16-bit float:  tensor([[0., 0.],\n",
            "        [0., 0.]], dtype=torch.float16)\n",
            "Tensor with integers:  tensor([[0, 0],\n",
            "        [0, 0]], dtype=torch.int16)\n",
            "Tensor with boolean data:  tensor([[False, False],\n",
            "        [False, False]])\n"
          ],
          "name": "stdout"
        }
      ]
    },
    {
      "cell_type": "markdown",
      "metadata": {
        "id": "a9F4Dkdr40TE",
        "colab_type": "text"
      },
      "source": [
        "\n",
        "\n",
        "---\n",
        "\n",
        "\n",
        "## Question 4:\n",
        "We saw above that some times numpy and tensors share same storage and changing one changes the other. \n",
        "If we define a rank-2-tensor with ones (dtype of f16), and then convert it into a numpy data type using tensor.numpy() and store it in a variable called \"num\", and then we perform this operation `num = num * 0.5`, will the original tensor have 1.0s or 0.5s as its element values? \n"
      ]
    },
    {
      "cell_type": "code",
      "metadata": {
        "colab_type": "code",
        "outputId": "4871674b-9019-45de-90c7-b221c08ea5e1",
        "id": "pUoYUL7EE2jQ",
        "colab": {
          "base_uri": "https://localhost:8080/",
          "height": 87
        }
      },
      "source": [
        "rank_2_tensor = torch.ones(1, 2)\n",
        "num = rank_2_tensor.numpy()\n",
        "print('Tensor: ', rank_2_tensor)\n",
        "print('Array: ', num)\n",
        "\n",
        "#num = num * 0.5\n",
        "#print('Tensor: ', rank_2_tensor)\n",
        "#print('Array: ', num)\n",
        "\n",
        "num[:] = num * 0.5\n",
        "print('Tensor: ', rank_2_tensor)\n",
        "print('Array: ', num)"
      ],
      "execution_count": 21,
      "outputs": [
        {
          "output_type": "stream",
          "text": [
            "Tensor:  tensor([[1., 1.]])\n",
            "Array:  [[1. 1.]]\n",
            "Tensor:  tensor([[0.5000, 0.5000]])\n",
            "Array:  [[0.5 0.5]]\n"
          ],
          "name": "stdout"
        }
      ]
    },
    {
      "cell_type": "markdown",
      "metadata": {
        "id": "OiQt8Mmm51OE",
        "colab_type": "text"
      },
      "source": [
        "\n",
        "\n",
        "---\n",
        "\n",
        "## Question 5: \n",
        "If the operation `num = num*5` is changed to `num[:] = num*5` will the original tensor have 1.0s or 0.5s as its element values? \n",
        "\n",
        "\n",
        "\n",
        "---\n",
        "\n"
      ]
    },
    {
      "cell_type": "markdown",
      "metadata": {
        "id": "vzh8UB8KiVmb",
        "colab_type": "text"
      },
      "source": [
        "## Indexing\n",
        "\n",
        "Tensor provides access to its elements via the same `[]` operation as a regular python list or NumPy array. However, as you may recall from NumPy usage, the full power of math libraries is accessible only via vectorized operations, i.e. operations without explicit looping over all vector elements in python and using implicit optimized loops in C/C++/CUDA/Fortran/etc. available via special function calls. Pytorch employs the same paradigm and provides a wide range of vectorized operations. Let's take a look at some examples. \n",
        "\n",
        "Joining a list of tensors together with `torch.cat`"
      ]
    },
    {
      "cell_type": "code",
      "metadata": {
        "id": "GMaCDKPhiUAb",
        "colab_type": "code",
        "outputId": "592b026b-17b0-4e33-ca6d-d2b39890e18f",
        "colab": {
          "base_uri": "https://localhost:8080/",
          "height": 347
        }
      },
      "source": [
        "a = torch.zeros(3, 2)\n",
        "b = torch.ones(3, 2)\n",
        "print(a)\n",
        "print(b)\n",
        "print(torch.cat((a, b), dim=0))\n",
        "print(torch.cat((a, b), dim=1))\n",
        "print(torch.t(torch.cat((a, b), dim=1)))"
      ],
      "execution_count": 29,
      "outputs": [
        {
          "output_type": "stream",
          "text": [
            "tensor([[0., 0.],\n",
            "        [0., 0.],\n",
            "        [0., 0.]])\n",
            "tensor([[1., 1.],\n",
            "        [1., 1.],\n",
            "        [1., 1.]])\n",
            "tensor([[0., 0.],\n",
            "        [0., 0.],\n",
            "        [0., 0.],\n",
            "        [1., 1.],\n",
            "        [1., 1.],\n",
            "        [1., 1.]])\n",
            "tensor([[0., 0., 1., 1.],\n",
            "        [0., 0., 1., 1.],\n",
            "        [0., 0., 1., 1.]])\n",
            "tensor([[0., 0., 0.],\n",
            "        [0., 0., 0.],\n",
            "        [1., 1., 1.],\n",
            "        [1., 1., 1.]])\n"
          ],
          "name": "stdout"
        }
      ]
    },
    {
      "cell_type": "markdown",
      "metadata": {
        "id": "5bj4aeE86zdH",
        "colab_type": "text"
      },
      "source": [
        "\n",
        "\n",
        "---\n",
        "\n",
        "## Question 6: \n",
        "Is the transpose of concatenated a & b tensor on dimension 1, same as the contatenated tensor of a & b on dimension 0? \n",
        "\n",
        "\n",
        "\n",
        "---\n",
        "\n"
      ]
    },
    {
      "cell_type": "markdown",
      "metadata": {
        "id": "0TXNne69j7LP",
        "colab_type": "text"
      },
      "source": [
        "Indexing with another tenxor/array:"
      ]
    },
    {
      "cell_type": "code",
      "metadata": {
        "id": "KiE-Fsi4jVd6",
        "colab_type": "code",
        "outputId": "6249dfb8-730e-4094-b2ac-c53b5395efe9",
        "colab": {
          "base_uri": "https://localhost:8080/",
          "height": 104
        }
      },
      "source": [
        "a = torch.arange(start=2, end=12)\n",
        "indices = np.arange(0, 10) > 5\n",
        "print(a)\n",
        "print(indices)\n",
        "print(a[indices])\n",
        "\n",
        "indices = torch.arange(start=0, end=10) %5\n",
        "print(indices)\n",
        "print(a[indices])"
      ],
      "execution_count": 30,
      "outputs": [
        {
          "output_type": "stream",
          "text": [
            "tensor([ 2,  3,  4,  5,  6,  7,  8,  9, 10, 11])\n",
            "[False False False False False False  True  True  True  True]\n",
            "tensor([ 8,  9, 10, 11])\n",
            "tensor([0, 1, 2, 3, 4, 0, 1, 2, 3, 4])\n",
            "tensor([2, 3, 4, 5, 6, 2, 3, 4, 5, 6])\n"
          ],
          "name": "stdout"
        }
      ]
    },
    {
      "cell_type": "markdown",
      "metadata": {
        "id": "LS4dnlu47WQu",
        "colab_type": "text"
      },
      "source": [
        "\n",
        "\n",
        "---\n",
        "\n",
        "## Question 7:\n",
        "\n",
        "`a` is defined as `torch.arange(start=0, end=10)`. We will create `b` using the two operations as below. In both cases do we get the same value?\n",
        "\n",
        "\n",
        "1.   indices variable created by the modulo operation on arange between 0 and 10. Then a new varialble `b` is created from `a` using the last 5 elements of indices. \n",
        "2.   indices variable created by the modulo operation on arange betwenn 1 and 11. Then a new varialble `b` is created from `a` using the last 5 elements of indices. \n",
        "\n",
        "\n",
        "\n",
        "---\n",
        "\n",
        "\n"
      ]
    },
    {
      "cell_type": "markdown",
      "metadata": {
        "id": "eQ4ZCVsTk-KH",
        "colab_type": "text"
      },
      "source": [
        "What should we do if we have, say, rank-2-tensor and want to select only some rows?"
      ]
    },
    {
      "cell_type": "code",
      "metadata": {
        "id": "_GtRpotjkt1q",
        "colab_type": "code",
        "outputId": "034f6208-8c4f-475f-a937-0cc3f1db2896",
        "colab": {
          "base_uri": "https://localhost:8080/",
          "height": 156
        }
      },
      "source": [
        "tensor = torch.rand((5, 3))\n",
        "rows = torch.tensor([0, 2])\n",
        "print(tensor)\n",
        "print(rows)\n",
        "tensor[rows]"
      ],
      "execution_count": 31,
      "outputs": [
        {
          "output_type": "stream",
          "text": [
            "tensor([[0.8892, 0.5039, 0.7149],\n",
            "        [0.4510, 0.3379, 0.0778],\n",
            "        [0.1177, 0.3662, 0.1002],\n",
            "        [0.3248, 0.1714, 0.5155],\n",
            "        [0.6350, 0.8131, 0.8430]])\n",
            "tensor([0, 2])\n"
          ],
          "name": "stdout"
        },
        {
          "output_type": "execute_result",
          "data": {
            "text/plain": [
              "tensor([[0.8892, 0.5039, 0.7149],\n",
              "        [0.1177, 0.3662, 0.1002]])"
            ]
          },
          "metadata": {
            "tags": []
          },
          "execution_count": 31
        }
      ]
    },
    {
      "cell_type": "markdown",
      "metadata": {
        "id": "zIJnr_N2_Qaf",
        "colab_type": "text"
      },
      "source": [
        "\n",
        "\n",
        "---\n",
        "\n",
        "## Question 8: \n",
        "\n",
        "Consider a tensor defined as `torch.rand((6, 5))`. Is the shape of the new tensor created by taking the 0th, 2nd and 4th row of the old tensor same as the shape of the a newer tensor created by taking the 0th, 2nd and 4th row of the old tensor after transposing it by operation `torch.transpose(tensor, 0, 1)` ?\n",
        "\n",
        "\n",
        "\n",
        "---\n",
        "\n",
        "\n"
      ]
    },
    {
      "cell_type": "code",
      "metadata": {
        "id": "v88Zokx8KgvV",
        "colab_type": "code",
        "colab": {
          "base_uri": "https://localhost:8080/",
          "height": 312
        },
        "outputId": "c887902c-d2f8-41e7-b4a1-d7a694c2a087"
      },
      "source": [
        "tensor = torch.rand((6, 5))\n",
        "rows = torch.tensor([0, 2, 4])\n",
        "print(tensor)\n",
        "print(tensor[rows])\n",
        "C = torch.transpose(tensor, 0, 1)\n",
        "print(C)\n",
        "print(C[rows])"
      ],
      "execution_count": 36,
      "outputs": [
        {
          "output_type": "stream",
          "text": [
            "tensor([[0.4513, 0.4041, 0.4418, 0.9540, 0.4042],\n",
            "        [0.3947, 0.1150, 0.3203, 0.2140, 0.5203],\n",
            "        [0.1511, 0.3764, 0.6688, 0.2278, 0.4626],\n",
            "        [0.7895, 0.7847, 0.7054, 0.1234, 0.3961],\n",
            "        [0.7818, 0.5518, 0.0205, 0.0780, 0.4280],\n",
            "        [0.3567, 0.6406, 0.6042, 0.2750, 0.5296]])\n",
            "tensor([[0.4513, 0.4041, 0.4418, 0.9540, 0.4042],\n",
            "        [0.1511, 0.3764, 0.6688, 0.2278, 0.4626],\n",
            "        [0.7818, 0.5518, 0.0205, 0.0780, 0.4280]])\n",
            "tensor([[0.4513, 0.3947, 0.1511, 0.7895, 0.7818, 0.3567],\n",
            "        [0.4041, 0.1150, 0.3764, 0.7847, 0.5518, 0.6406],\n",
            "        [0.4418, 0.3203, 0.6688, 0.7054, 0.0205, 0.6042],\n",
            "        [0.9540, 0.2140, 0.2278, 0.1234, 0.0780, 0.2750],\n",
            "        [0.4042, 0.5203, 0.4626, 0.3961, 0.4280, 0.5296]])\n",
            "tensor([[0.4513, 0.3947, 0.1511, 0.7895, 0.7818, 0.3567],\n",
            "        [0.4418, 0.3203, 0.6688, 0.7054, 0.0205, 0.6042],\n",
            "        [0.4042, 0.5203, 0.4626, 0.3961, 0.4280, 0.5296]])\n"
          ],
          "name": "stdout"
        }
      ]
    },
    {
      "cell_type": "markdown",
      "metadata": {
        "id": "naDzFMkslU0b",
        "colab_type": "text"
      },
      "source": [
        "## Tensor Shapes\n",
        "\n",
        "Reshaping a tensor is a frequently used operation. We can change the shape of a tensor without the memory copying overhead. There are two methods for that: `reshape` and `view`. \n",
        "\n",
        "The difference is the following: \n",
        "\n",
        "\n",
        "*   view tries to return a tensor, and it shares the same memory with the original tensor. In case, if it cannot reuse the same memory due to [some reason](https://pytorch.org/docs/stable/tensors.html?highlight=view#torch.Tensor.view), it just fails. \n",
        "*   reshape always returns the tensor with the desired shape and tries to reuse the memory. If it cannot, it creates a copy\n",
        "\n",
        "Let's see with the help of an example:"
      ]
    },
    {
      "cell_type": "code",
      "metadata": {
        "id": "HClDkqLLlMJh",
        "colab_type": "code",
        "outputId": "703bf39f-96e5-4990-90bb-1b59b96a01fb",
        "colab": {
          "base_uri": "https://localhost:8080/",
          "height": 179
        }
      },
      "source": [
        "tensor = torch.rand(2, 3, 4)\n",
        "print('Pointer to data: ', tensor.data_ptr())\n",
        "print('Shape: ', tensor.shape)\n",
        "\n",
        "reshaped = tensor.reshape(24)\n",
        "\n",
        "view = tensor.view(3, 2, 4)\n",
        "print('Reshaped tensor - pointer to data', reshaped.data_ptr())\n",
        "print('Reshaped tensor shape ', reshaped.shape)\n",
        "\n",
        "print('Viewed tensor - pointer to data', view.data_ptr())\n",
        "print('Viewed tensor shape ', view.shape)\n",
        "\n",
        "assert tensor.data_ptr() == view.data_ptr()\n",
        "\n",
        "assert np.all(np.equal(tensor.numpy().flat, reshaped.numpy().flat))\n",
        "\n",
        "print('Original stride: ', tensor.stride())\n",
        "print('Reshaped stride: ', reshaped.stride())\n",
        "print('Viewed stride: ', view.stride())"
      ],
      "execution_count": 0,
      "outputs": [
        {
          "output_type": "stream",
          "text": [
            "Pointer to data:  54042240\n",
            "Shape:  torch.Size([2, 3, 4])\n",
            "Reshaped tensor - pointer to data 54042240\n",
            "Reshaped tensor shape  torch.Size([24])\n",
            "Viewed tensor - pointer to data 54042240\n",
            "Viewed tensor shape  torch.Size([3, 2, 4])\n",
            "Original stride:  (12, 4, 1)\n",
            "Reshaped stride:  (1,)\n",
            "Viewed stride:  (8, 4, 1)\n"
          ],
          "name": "stdout"
        }
      ]
    },
    {
      "cell_type": "markdown",
      "metadata": {
        "id": "jIN5jSppm4yC",
        "colab_type": "text"
      },
      "source": [
        "The basic rule about reshaping the tensor is definitely that you cannot change the total number of elements in it, so the product of all tensor's dimensions should always be the same. It gives us the ability to avoid specifying one dimension when reshaping the tensor - Pytorch can calculate it for us:"
      ]
    },
    {
      "cell_type": "code",
      "metadata": {
        "id": "e3D19ERFmzOl",
        "colab_type": "code",
        "outputId": "b49f6393-7a79-4da7-bb31-b5d8cd885e3a",
        "colab": {
          "base_uri": "https://localhost:8080/",
          "height": 71
        }
      },
      "source": [
        "print(tensor.reshape(3, 2, 4).shape)\n",
        "print(tensor.reshape(3, 2, -1).shape)\n",
        "print(tensor.reshape(3, -1, 4).shape)"
      ],
      "execution_count": 0,
      "outputs": [
        {
          "output_type": "stream",
          "text": [
            "torch.Size([3, 2, 4])\n",
            "torch.Size([3, 2, 4])\n",
            "torch.Size([3, 2, 4])\n"
          ],
          "name": "stdout"
        }
      ]
    },
    {
      "cell_type": "markdown",
      "metadata": {
        "id": "ObgCQKUiETak",
        "colab_type": "text"
      },
      "source": [
        "\n",
        "\n",
        "---\n",
        "\n",
        "\n",
        "## Question 9:\n",
        "\n",
        "Consider a tensor `a` created with [1, 2, 3] and [1, 2, 3] of size (2, 3) is reshaped with operation `.reshape(-1, 2)`. Also consider a tensor `b` created with [[2, 1]] and of size (1, 2), later operated with `view(2, -1)` operation. \n",
        "\n",
        "If we do a dot product of a and b (using `torch.mm`) and perform the sum of all the elements (using `torch.sum`) what do we get? (enter int value without any decimal point in the quiz)\n",
        "\n",
        "\n",
        "\n",
        "---\n",
        "\n"
      ]
    },
    {
      "cell_type": "code",
      "metadata": {
        "id": "wIh-yUtlMLK5",
        "colab_type": "code",
        "colab": {
          "base_uri": "https://localhost:8080/",
          "height": 173
        },
        "outputId": "cf95dfa4-f664-4ee9-8097-2aa46155d5e0"
      },
      "source": [
        "a = torch.tensor([[1,2,3],[1,2,3]])\n",
        "a_reshaped = a.reshape(-1, 2)\n",
        "\n",
        "b = torch.tensor([[2,1]])\n",
        "b_view = b.view(2, -1)\n",
        "\n",
        "print(a)\n",
        "print(a_reshaped)\n",
        "print(b)\n",
        "print(b_view)\n",
        "\n",
        "print(torch.sum(torch.mm(b,a)))"
      ],
      "execution_count": 46,
      "outputs": [
        {
          "output_type": "stream",
          "text": [
            "tensor([[1, 2, 3],\n",
            "        [1, 2, 3]])\n",
            "tensor([[1, 2],\n",
            "        [3, 1],\n",
            "        [2, 3]])\n",
            "tensor([[2, 1]])\n",
            "tensor([[2],\n",
            "        [1]])\n",
            "tensor(18)\n"
          ],
          "name": "stdout"
        }
      ]
    },
    {
      "cell_type": "markdown",
      "metadata": {
        "id": "mza7QPg3ndeV",
        "colab_type": "text"
      },
      "source": [
        "**Alternative ways to view tensors** - `expand` or `expand_as`.\n",
        "\n",
        "\n",
        "\n",
        "*   `expand` - requires the desired shape as an input\n",
        "*   `expand_as` - uses the shape of another tensor\n",
        "\n",
        "These operations \"repeat\" tensor's values along the specified axes without actually copying the data. \n",
        "\n",
        "As the documentation says, expand:\n",
        "\n",
        "\n",
        "> returns a new view of the self tensor with singleton dimensions expanded to a larger size. Tensor can be also expanded to a larger number of dimensions, and the new ones will be appended at the front. For the new dimensions, the size cannot be set to -1. \n",
        "\n",
        "**Use case:**\n",
        "\n",
        "\n",
        "\n",
        "*   index multi-channel tensor with single-channel mask - imagine a color image with 3 channels (RGB) and binary mask for the area of interest on that image. We cannot index the image with this kind of mask directly since the dimensions are different, but we can use `expand_as` operation to create a view of the mask that has the same dimensions as the image we want to apply it to, but has not copied the data. "
      ]
    },
    {
      "cell_type": "code",
      "metadata": {
        "id": "iz33E-V7nPQT",
        "colab_type": "code",
        "outputId": "8bcfc71f-b0bb-4c37-e5e0-5c4ffa38aacb",
        "colab": {
          "base_uri": "https://localhost:8080/",
          "height": 596
        }
      },
      "source": [
        "%matplotlib inline\n",
        "from matplotlib import pyplot as plt\n",
        "\n",
        "# Create a black image\n",
        "image = torch.zeros(size=(3, 256, 256), dtype=torch.int)\n",
        "\n",
        "# Leave the borders and make the rest of the image Green\n",
        "image[1, 18:256 - 18, 18:256 - 18] = 255\n",
        "\n",
        "# Create a mask of the same size\n",
        "mask = torch.zeros(size=(256, 256), dtype=torch.bool)\n",
        "\n",
        "# Assuming the green region in the original image is the Region of interest, change the mask to white for that area\n",
        "mask[18:256 - 18, 18:256 - 18] = 1\n",
        "\n",
        "# Create a view of the mask with the same dimensions as the original image\n",
        "mask_expanded = mask.expand_as(image)\n",
        "print(mask_expanded.shape)\n",
        "\n",
        "mask_np = mask_expanded.numpy().transpose(1, 2, 0) * 255\n",
        "image_np = image.numpy().transpose(1, 2, 0)\n",
        "\n",
        "fig, ax = plt.subplots(1, 2)\n",
        "ax[0].imshow(image_np)\n",
        "ax[1].imshow(mask_np)\n",
        "plt.show()\n",
        "\n",
        "image[0, mask] += 128\n",
        "fig, ax = plt.subplots(1, 2)\n",
        "ax[0].imshow(image_np)\n",
        "ax[1].imshow(mask_np)\n",
        "plt.show()\n",
        "\n",
        "image[mask_expanded] += 128\n",
        "image.clamp_(0, 255)\n",
        "fig, ax = plt.subplots(1, 2)\n",
        "ax[0].imshow(image_np)\n",
        "ax[1].imshow(mask_np)\n",
        "plt.show()"
      ],
      "execution_count": 0,
      "outputs": [
        {
          "output_type": "stream",
          "text": [
            "torch.Size([3, 256, 256])\n"
          ],
          "name": "stdout"
        },
        {
          "output_type": "display_data",
          "data": {
            "image/png": "[encoded data removed]",
            "text/plain": [
              "<Figure size 432x288 with 2 Axes>"
            ]
          },
          "metadata": {
            "tags": []
          }
        },
        {
          "output_type": "display_data",
          "data": {
            "image/png": "[encoded data removed]",
            "text/plain": [
              "<Figure size 432x288 with 2 Axes>"
            ]
          },
          "metadata": {
            "tags": []
          }
        },
        {
          "output_type": "display_data",
          "data": {
            "image/png": "[encoded data removed]",
            "text/plain": [
              "<Figure size 432x288 with 2 Axes>"
            ]
          },
          "metadata": {
            "tags": []
          }
        }
      ]
    },
    {
      "cell_type": "markdown",
      "metadata": {
        "id": "jiXBx0k3ptOI",
        "colab_type": "text"
      },
      "source": [
        "In the example above, one can also find a couple of useful tricks:\n",
        "\n",
        "\n",
        "*   `clamp` method and function is a Pytorch's analogue of NumPy's `clip` function\n",
        "*   many operations on tensors have in-place form, that does not return modified data, but change values in the tensor. The in-place version of the operation has trailing underscore according to Pytorch's naming convension - in the exmaple above it is `clamp_`\n",
        "*   tensors have the same indexing as Numpy's arrays - one can use `:` seperated range, negative indexes and so on.\n",
        "\n",
        "\n",
        ".\n",
        "\n",
        "\n",
        "---\n",
        "\n",
        "# Images and their representations\n",
        "\n",
        "Now, let's discuss images, their representations and how different Python librarties work with them. \n",
        "\n",
        "Probably, the most well-known library for image loading and simple processing is [Pillow](https://pillow.readthedocs.io/en/stable/). \n",
        "\n",
        "However, many people in deep learning area stick with OpenCV for image loading and processing with some usage of another libraries when it is justified by performance/functionality. This is because OpenCV is in general much faster than the other libraries. Here you can find a couple of benchmarks: \n",
        "\n",
        "*   https://www.kaggle.com/zfturbo/benchmark-2019-speed-of-image-reading\n",
        "*   https://github.com/albumentations-team/albumentations#benchmarking-results\n",
        "\n",
        "To sum up the benchmarks above, there are two most common image formats, PNG and JPEGs. If your data is in PNG format - use OpenCV to read it. If it is in JPEG - use libturbojpeg. For image processing, use OpenCV if possible. _We will be using PIL a lot along with these._\n",
        "\n",
        "As you will read the code from others, you may find out that some of them use Pillow/something else to read data. You should know, that color image representations in OpenCV and other libraries are different - OpenCV uses \"BGR\" channel order, while others use \"RGB\" one. \n",
        "\n",
        "To change \"BRG\" <-> \"RGB\" the only thing we need to do it to change channel order."
      ]
    },
    {
      "cell_type": "code",
      "metadata": {
        "id": "ZYv4sZMmpndu",
        "colab_type": "code",
        "outputId": "8bea753e-c191-4c79-9f20-f547de12c14f",
        "colab": {
          "base_uri": "https://localhost:8080/",
          "height": 152
        }
      },
      "source": [
        "%matplotlib inline\n",
        "from matplotlib import pyplot as plt\n",
        "import cv2\n",
        "\n",
        "\n",
        "bgr_image = cv2.imread('/content/images.jfif') \n",
        "# remember to add your own image in case you run this block, if you want to use the same image, \n",
        "# download it from: https://encrypted-tbn0.gstatic.com/images?q=tbn%3AANd9GcRCA40ftnscVzfV8ft8e7vIzQXfXeZdtco8nknJrfCUW6INI40U\n",
        "rgb_image = bgr_image[..., ::-1]\n",
        "fig, ax = plt.subplots(1, 2)\n",
        "ax[0].imshow(bgr_image)\n",
        "ax[1].imshow(rgb_image)\n",
        "plt.show()"
      ],
      "execution_count": 56,
      "outputs": [
        {
          "output_type": "display_data",
          "data": {
            "image/png": "[encoded data removed]",
            "text/plain": [
              "<Figure size 432x288 with 2 Axes>"
            ]
          },
          "metadata": {
            "tags": [],
            "needs_background": "light"
          }
        }
      ]
    },
    {
      "cell_type": "markdown",
      "metadata": {
        "id": "yoi4TeNBGHle",
        "colab_type": "text"
      },
      "source": [
        "\n",
        "\n",
        "---\n",
        "\n",
        "## Question 10:\n",
        "\n",
        "Looking at the results above it can be said that the pixel values in the blue channels would be very small compared to red channel. True/False?\n",
        "\n",
        "\n",
        "---\n",
        "\n",
        "\n"
      ]
    },
    {
      "cell_type": "markdown",
      "metadata": {
        "id": "b3ugFd57zNwa",
        "colab_type": "text"
      },
      "source": [
        "# Autograd\n",
        "\n",
        "Pytorch supports automatic differentiation. The module which implements this is called **AutoGrad**. It calculates the gradients and keeps track in forward and backward passes. For primitive tensors, you need to enable or disable it using the `required_grad` flag. But, for advanced tensors, it is enabled by default"
      ]
    },
    {
      "cell_type": "code",
      "metadata": {
        "id": "VMOp4aiou6JR",
        "colab_type": "code",
        "outputId": "fa3168f5-fc0c-4568-aa56-12badf6e378a",
        "colab": {
          "base_uri": "https://localhost:8080/",
          "height": 191
        }
      },
      "source": [
        "a = torch.rand((3, 5), requires_grad = True)\n",
        "print(a)\n",
        "result = a * 5\n",
        "print(result)\n",
        "\n",
        "# grad can be implicitly created only for scalar outputs\n",
        "# so let's calculate the sum here so that the output becomes a scalar and we can apply a backward pass\n",
        "mean_result = result.sum()\n",
        "print(mean_result)\n",
        "# calculate gradient\n",
        "mean_result.backward()\n",
        "# print gradient of a\n",
        "print(a.grad)"
      ],
      "execution_count": 57,
      "outputs": [
        {
          "output_type": "stream",
          "text": [
            "tensor([[0.3587, 0.6493, 0.1431, 0.7808, 0.7149],\n",
            "        [0.5988, 0.7324, 0.8392, 0.6428, 0.1898],\n",
            "        [0.1219, 0.2659, 0.2148, 0.1777, 0.0766]], requires_grad=True)\n",
            "tensor([[0.3587, 0.6493, 0.1431, 0.7808, 0.7149],\n",
            "        [0.5988, 0.7324, 0.8392, 0.6428, 0.1898],\n",
            "        [0.1219, 0.2659, 0.2148, 0.1777, 0.0766]], requires_grad=True)\n",
            "tensor(6.5067, grad_fn=<SumBackward0>)\n",
            "tensor([[1., 1., 1., 1., 1.],\n",
            "        [1., 1., 1., 1., 1.],\n",
            "        [1., 1., 1., 1., 1.]])\n"
          ],
          "name": "stdout"
        }
      ]
    },
    {
      "cell_type": "markdown",
      "metadata": {
        "id": "ym0Amk2IGfLx",
        "colab_type": "text"
      },
      "source": [
        "\n",
        "\n",
        "---\n",
        "\n",
        "## Question 11: \n",
        "\n",
        "Why the gradient of a is all 5s above?\n",
        "\n",
        "\n",
        "\n",
        "---\n",
        "\n"
      ]
    },
    {
      "cell_type": "markdown",
      "metadata": {
        "id": "7PDgGq2R0k7I",
        "colab_type": "text"
      },
      "source": [
        "As we see, Pytorch automagically calculated the gradient value for us. It looks to be the correct value - we multiplied an input by 5, so the gradient of this operation equals to 5.\n",
        "\n",
        "# Disabling Autograd for tensors\n",
        "\n",
        "We don't need to compute gradients for all the variables that are involved in the pipeline. The Pytorch API provides 2 ways to disable autograd.\n",
        "\n",
        "`detach` - returns a copy of the tensor with autograd disabled. This \n",
        "\n",
        "1.   copy is built on the same memory as the original tensor, so in-place size / stride / storage changes (such as resize_ / resizeas / set / transpose) modifications are not allowed.\n",
        "2.   torch.no_grad() - It is a context manager that allows you to guard a series of operations from autograd without creating new tensors."
      ]
    },
    {
      "cell_type": "code",
      "metadata": {
        "id": "yqVG9fQb0cLW",
        "colab_type": "code",
        "outputId": "2081f403-31a2-4296-c670-b899e246a8cc",
        "colab": {
          "base_uri": "https://localhost:8080/",
          "height": 71
        }
      },
      "source": [
        "a = torch.rand((3, 5), requires_grad=True)\n",
        "detached_a = a.detach()\n",
        "detached_result = detached_a * 5\n",
        "result = a * 10\n",
        "# we cannot do backward pass that is required for autograd using multideminsional output,\n",
        "# so let's calculate the sum here\n",
        "mean_result = result.sum()\n",
        "mean_result.backward()\n",
        "a.grad"
      ],
      "execution_count": 0,
      "outputs": [
        {
          "output_type": "execute_result",
          "data": {
            "text/plain": [
              "tensor([[10., 10., 10., 10., 10.],\n",
              "        [10., 10., 10., 10., 10.],\n",
              "        [10., 10., 10., 10., 10.]])"
            ]
          },
          "metadata": {
            "tags": []
          },
          "execution_count": 37
        }
      ]
    },
    {
      "cell_type": "code",
      "metadata": {
        "id": "uqpch2Be02J7",
        "colab_type": "code",
        "outputId": "0a5ee8e8-81b8-46f0-c7fc-ac406657e928",
        "colab": {
          "base_uri": "https://localhost:8080/",
          "height": 71
        }
      },
      "source": [
        "a = torch.rand((3, 5), requires_grad=True)\n",
        "with torch.no_grad():\n",
        "    detached_result = a * 5\n",
        "result = a * 10\n",
        "# we cannot do backward pass that is required for autograd using multideminsional output,\n",
        "# so let's calculate the sum here\n",
        "mean_result = result.sum()\n",
        "mean_result.backward()\n",
        "a.grad"
      ],
      "execution_count": 0,
      "outputs": [
        {
          "output_type": "execute_result",
          "data": {
            "text/plain": [
              "tensor([[10., 10., 10., 10., 10.],\n",
              "        [10., 10., 10., 10., 10.],\n",
              "        [10., 10., 10., 10., 10.]])"
            ]
          },
          "metadata": {
            "tags": []
          },
          "execution_count": 38
        }
      ]
    },
    {
      "cell_type": "markdown",
      "metadata": {
        "id": "vjh2rYOPJUAZ",
        "colab_type": "text"
      },
      "source": [
        "# Custom Network\n",
        "\n",
        "A fully-connected ReLU network with one hidden layer and no biases, trained to predict y from x by minimizing squared Euclidean distance.\n",
        "\n",
        "This implementation uses PyTorch tensors to manually compute the forward pass, loss, and backward pass.\n",
        "\n",
        "A PyTorch Tensor is basically the same as a numpy array: it does not know anything about deep learning or computational graphs or gradients, and is just a generic n-dimensional array to be used for arbitrary numeric computation.\n",
        "\n",
        "The biggest difference between a numpy array and a PyTorch Tensor is that a PyTorch Tensor can run on either CPU or GPU. To run operations on the GPU, just cast the Tensor to a cuda datatype."
      ]
    },
    {
      "cell_type": "code",
      "metadata": {
        "id": "0nf5RaB104Vp",
        "colab_type": "code",
        "outputId": "35f2c0f8-e22e-4a51-84d9-3edd6e55d165",
        "colab": {
          "base_uri": "https://localhost:8080/",
          "height": 1000
        }
      },
      "source": [
        "dtype = torch.float\n",
        "device = torch.device(\"cpu\")\n",
        "# device = torch.device(\"cuda:0\") # Uncomment this to run on GPU\n",
        "\n",
        "# N is batch size; D_in is input dimension;\n",
        "# H is hidden dimension; D_out is output dimension.\n",
        "N, D_in, H, D_out = 64, 1000, 100, 10\n",
        "\n",
        "# Create random input and output data\n",
        "x = torch.randn(N, D_in, device=device, dtype=dtype)\n",
        "y = torch.randn(N, D_out, device=device, dtype=dtype)\n",
        "\n",
        "# Randomly initialize weights\n",
        "w1 = torch.randn(D_in, H, device=device, dtype=dtype)\n",
        "w2 = torch.randn(H, D_out, device=device, dtype=dtype)\n",
        "\n",
        "learning_rate = 1e-6\n",
        "for t in range(500):\n",
        "    # Forward pass: compute predicted y\n",
        "    h = x.mm(w1)\n",
        "    \n",
        "    h_relu = h.clamp(min=0)\n",
        "    y_pred = h_relu.mm(w2)\n",
        "\n",
        "    # Compute and print loss\n",
        "    loss = (y_pred - y).pow(2).sum().item()\n",
        "    print(t, loss)\n",
        "\n",
        "    # Backprop to compute gradients of w1 and w2 with respect to loss\n",
        "    grad_y_pred = 2*(y_pred - y)\n",
        "    grad_w2 = h_relu.t().mm(grad_y_pred)\n",
        "    grad_h_relu = grad_y_pred.mm(w2.t())\n",
        "    grad_h = grad_h_relu.clone()\n",
        "\n",
        "    grad_h[h < 0] = 0\n",
        "    grad_w1 = x.t().mm(grad_h)\n",
        "\n",
        "    # Update weights using gradient descent\n",
        "    w1 -= learning_rate * grad_w1\n",
        "    w2 -= learning_rate * grad_w2"
      ],
      "execution_count": 74,
      "outputs": [
        {
          "output_type": "stream",
          "text": [
            "0 38499008.0\n",
            "1 37550956.0\n",
            "2 37307164.0\n",
            "3 31789126.0\n",
            "4 21788152.0\n",
            "5 12083983.0\n",
            "6 6105063.0\n",
            "7 3202414.0\n",
            "8 1915570.375\n",
            "9 1313868.375\n",
            "10 994616.1875\n",
            "11 797539.5\n",
            "12 660199.5\n",
            "13 556326.125\n",
            "14 474058.3125\n",
            "15 407122.8125\n",
            "16 351836.875\n",
            "17 305726.03125\n",
            "18 266807.15625\n",
            "19 233827.3125\n",
            "20 205708.21875\n",
            "21 181624.046875\n",
            "22 160919.609375\n",
            "23 143021.296875\n",
            "24 127385.84375\n",
            "25 113764.609375\n",
            "26 101842.765625\n",
            "27 91387.34375\n",
            "28 82191.7578125\n",
            "29 74077.28125\n",
            "30 66896.8515625\n",
            "31 60525.1484375\n",
            "32 54863.71875\n",
            "33 49823.1640625\n",
            "34 45318.47265625\n",
            "35 41281.7421875\n",
            "36 37658.0546875\n",
            "37 34399.79296875\n",
            "38 31464.4453125\n",
            "39 28814.78125\n",
            "40 26419.73828125\n",
            "41 24251.615234375\n",
            "42 22284.6015625\n",
            "43 20498.287109375\n",
            "44 18873.357421875\n",
            "45 17394.515625\n",
            "46 16046.0087890625\n",
            "47 14817.39453125\n",
            "48 13695.7177734375\n",
            "49 12668.673828125\n",
            "50 11727.5830078125\n",
            "51 10864.7646484375\n",
            "52 10072.740234375\n",
            "53 9344.6123046875\n",
            "54 8675.080078125\n",
            "55 8058.83056640625\n",
            "56 7491.49365234375\n",
            "57 6968.31884765625\n",
            "58 6485.4052734375\n",
            "59 6039.25048828125\n",
            "60 5626.806640625\n",
            "61 5245.4404296875\n",
            "62 4892.640625\n",
            "63 4565.5810546875\n",
            "64 4262.6455078125\n",
            "65 3981.741455078125\n",
            "66 3721.70458984375\n",
            "67 3480.91162109375\n",
            "68 3257.062255859375\n",
            "69 3049.012451171875\n",
            "70 2855.457275390625\n",
            "71 2675.27685546875\n",
            "72 2507.461181640625\n",
            "73 2351.031005859375\n",
            "74 2205.233642578125\n",
            "75 2069.2802734375\n",
            "76 1942.378662109375\n",
            "77 1823.9327392578125\n",
            "78 1713.3011474609375\n",
            "79 1609.896728515625\n",
            "80 1513.21435546875\n",
            "81 1422.8017578125\n",
            "82 1338.2222900390625\n",
            "83 1259.058349609375\n",
            "84 1184.9481201171875\n",
            "85 1115.5308837890625\n",
            "86 1050.463134765625\n",
            "87 989.4823608398438\n",
            "88 932.3074951171875\n",
            "89 878.65771484375\n",
            "90 828.2999877929688\n",
            "91 781.0494995117188\n",
            "92 736.6832275390625\n",
            "93 695.0029296875\n",
            "94 655.8499145507812\n",
            "95 619.0518798828125\n",
            "96 584.44775390625\n",
            "97 551.9004516601562\n",
            "98 521.3002319335938\n",
            "99 492.51263427734375\n",
            "100 465.40740966796875\n",
            "101 439.87713623046875\n",
            "102 415.84295654296875\n",
            "103 393.203125\n",
            "104 371.871826171875\n",
            "105 351.77001953125\n",
            "106 332.84228515625\n",
            "107 314.98468017578125\n",
            "108 298.14324951171875\n",
            "109 282.2547912597656\n",
            "110 267.263427734375\n",
            "111 253.1112060546875\n",
            "112 239.765380859375\n",
            "113 227.16278076171875\n",
            "114 215.2508087158203\n",
            "115 203.99827575683594\n",
            "116 193.36769104003906\n",
            "117 183.32984924316406\n",
            "118 173.83363342285156\n",
            "119 164.8569793701172\n",
            "120 156.3675537109375\n",
            "121 148.34072875976562\n",
            "122 140.74636840820312\n",
            "123 133.56178283691406\n",
            "124 126.7646713256836\n",
            "125 120.32891845703125\n",
            "126 114.23763275146484\n",
            "127 108.47172546386719\n",
            "128 103.01274108886719\n",
            "129 97.84069061279297\n",
            "130 92.93990325927734\n",
            "131 88.2961654663086\n",
            "132 83.89611053466797\n",
            "133 79.7261962890625\n",
            "134 75.77311706542969\n",
            "135 72.02430725097656\n",
            "136 68.4710464477539\n",
            "137 65.09941101074219\n",
            "138 61.9031982421875\n",
            "139 58.87123107910156\n",
            "140 55.99482345581055\n",
            "141 53.26581573486328\n",
            "142 50.67429733276367\n",
            "143 48.214088439941406\n",
            "144 45.878963470458984\n",
            "145 43.66178512573242\n",
            "146 41.556861877441406\n",
            "147 39.55746078491211\n",
            "148 37.65852737426758\n",
            "149 35.853981018066406\n",
            "150 34.13982391357422\n",
            "151 32.51248550415039\n",
            "152 30.963966369628906\n",
            "153 29.493053436279297\n",
            "154 28.095703125\n",
            "155 26.766101837158203\n",
            "156 25.502235412597656\n",
            "157 24.300230026245117\n",
            "158 23.15677261352539\n",
            "159 22.069076538085938\n",
            "160 21.03502655029297\n",
            "161 20.051448822021484\n",
            "162 19.11530113220215\n",
            "163 18.225305557250977\n",
            "164 17.37722396850586\n",
            "165 16.570388793945312\n",
            "166 15.802661895751953\n",
            "167 15.071830749511719\n",
            "168 14.375726699829102\n",
            "169 13.713142395019531\n",
            "170 13.081682205200195\n",
            "171 12.481358528137207\n",
            "172 11.909133911132812\n",
            "173 11.363683700561523\n",
            "174 10.844358444213867\n",
            "175 10.34930419921875\n",
            "176 9.877958297729492\n",
            "177 9.428897857666016\n",
            "178 9.000526428222656\n",
            "179 8.592836380004883\n",
            "180 8.204078674316406\n",
            "181 7.833456039428711\n",
            "182 7.480088233947754\n",
            "183 7.143166542053223\n",
            "184 6.821569919586182\n",
            "185 6.515485763549805\n",
            "186 6.223349094390869\n",
            "187 5.94485330581665\n",
            "188 5.678892135620117\n",
            "189 5.425524711608887\n",
            "190 5.1838297843933105\n",
            "191 4.953036308288574\n",
            "192 4.732996940612793\n",
            "193 4.522889614105225\n",
            "194 4.322617530822754\n",
            "195 4.1314802169799805\n",
            "196 3.9490694999694824\n",
            "197 3.7746222019195557\n",
            "198 3.608218193054199\n",
            "199 3.4494917392730713\n",
            "200 3.2981436252593994\n",
            "201 3.153101682662964\n",
            "202 3.014921188354492\n",
            "203 2.8828940391540527\n",
            "204 2.7568936347961426\n",
            "205 2.6363818645477295\n",
            "206 2.5215935707092285\n",
            "207 2.4117720127105713\n",
            "208 2.3070311546325684\n",
            "209 2.2068188190460205\n",
            "210 2.1111013889312744\n",
            "211 2.019592046737671\n",
            "212 1.9321987628936768\n",
            "213 1.8486673831939697\n",
            "214 1.7687510251998901\n",
            "215 1.6925464868545532\n",
            "216 1.6197538375854492\n",
            "217 1.550239086151123\n",
            "218 1.483496904373169\n",
            "219 1.419777512550354\n",
            "220 1.3589659929275513\n",
            "221 1.300809383392334\n",
            "222 1.2451574802398682\n",
            "223 1.1920486688613892\n",
            "224 1.1410737037658691\n",
            "225 1.0924904346466064\n",
            "226 1.046056866645813\n",
            "227 1.0014477968215942\n",
            "228 0.9589420557022095\n",
            "229 0.9183509349822998\n",
            "230 0.879395067691803\n",
            "231 0.8421861529350281\n",
            "232 0.8064932227134705\n",
            "233 0.7723819613456726\n",
            "234 0.7398430109024048\n",
            "235 0.70865797996521\n",
            "236 0.6787653565406799\n",
            "237 0.6502165794372559\n",
            "238 0.6228572130203247\n",
            "239 0.5967784523963928\n",
            "240 0.5716977119445801\n",
            "241 0.5477762222290039\n",
            "242 0.5248236060142517\n",
            "243 0.5028789043426514\n",
            "244 0.4818263649940491\n",
            "245 0.4617542624473572\n",
            "246 0.4424874782562256\n",
            "247 0.4240427017211914\n",
            "248 0.40638941526412964\n",
            "249 0.38949882984161377\n",
            "250 0.37326037883758545\n",
            "251 0.3577759563922882\n",
            "252 0.3429785370826721\n",
            "253 0.32873737812042236\n",
            "254 0.31508079171180725\n",
            "255 0.30207541584968567\n",
            "256 0.28964248299598694\n",
            "257 0.27764463424682617\n",
            "258 0.26621299982070923\n",
            "259 0.2552259862422943\n",
            "260 0.24471187591552734\n",
            "261 0.23466914892196655\n",
            "262 0.2250368297100067\n",
            "263 0.21575500071048737\n",
            "264 0.2069205343723297\n",
            "265 0.19847120344638824\n",
            "266 0.19036459922790527\n",
            "267 0.18255281448364258\n",
            "268 0.1750771701335907\n",
            "269 0.16795146465301514\n",
            "270 0.16110603511333466\n",
            "271 0.15453101694583893\n",
            "272 0.14824968576431274\n",
            "273 0.1421792060136795\n",
            "274 0.13639645278453827\n",
            "275 0.13083913922309875\n",
            "276 0.12553846836090088\n",
            "277 0.12045539170503616\n",
            "278 0.1155521422624588\n",
            "279 0.11085816472768784\n",
            "280 0.10639192909002304\n",
            "281 0.1020878329873085\n",
            "282 0.09796401858329773\n",
            "283 0.0940096378326416\n",
            "284 0.09017476439476013\n",
            "285 0.08656682074069977\n",
            "286 0.0830816775560379\n",
            "287 0.07972785085439682\n",
            "288 0.07651966065168381\n",
            "289 0.07341170310974121\n",
            "290 0.0704805999994278\n",
            "291 0.06765888631343842\n",
            "292 0.06496143341064453\n",
            "293 0.06232926622033119\n",
            "294 0.059844233095645905\n",
            "295 0.05747126787900925\n",
            "296 0.05517622455954552\n",
            "297 0.05294790863990784\n",
            "298 0.05082131549715996\n",
            "299 0.04880274087190628\n",
            "300 0.04686833918094635\n",
            "301 0.044995084404945374\n",
            "302 0.04319647699594498\n",
            "303 0.041489001363515854\n",
            "304 0.039832569658756256\n",
            "305 0.03826067969202995\n",
            "306 0.03674745559692383\n",
            "307 0.0352974496781826\n",
            "308 0.033891793340444565\n",
            "309 0.032576028257608414\n",
            "310 0.03127353638410568\n",
            "311 0.030053667724132538\n",
            "312 0.028872372582554817\n",
            "313 0.027727298438549042\n",
            "314 0.02663341909646988\n",
            "315 0.02558482252061367\n",
            "316 0.024586493149399757\n",
            "317 0.02361130341887474\n",
            "318 0.0226986575871706\n",
            "319 0.021819468587636948\n",
            "320 0.020971128717064857\n",
            "321 0.0201541967689991\n",
            "322 0.019358467310667038\n",
            "323 0.01860368624329567\n",
            "324 0.017874013632535934\n",
            "325 0.017188619822263718\n",
            "326 0.016512850299477577\n",
            "327 0.015879645943641663\n",
            "328 0.015263832174241543\n",
            "329 0.0146784707903862\n",
            "330 0.014125840738415718\n",
            "331 0.013576546683907509\n",
            "332 0.013050096109509468\n",
            "333 0.012550929561257362\n",
            "334 0.012072855606675148\n",
            "335 0.01160604227334261\n",
            "336 0.011159654706716537\n",
            "337 0.010740037076175213\n",
            "338 0.010331225581467152\n",
            "339 0.009945210069417953\n",
            "340 0.009575515985488892\n",
            "341 0.009207354858517647\n",
            "342 0.00885736383497715\n",
            "343 0.008530720137059689\n",
            "344 0.008211391046643257\n",
            "345 0.00790513027459383\n",
            "346 0.007608326617628336\n",
            "347 0.007327128201723099\n",
            "348 0.007055334281176329\n",
            "349 0.00679350458085537\n",
            "350 0.006546500604599714\n",
            "351 0.00629916787147522\n",
            "352 0.006063545122742653\n",
            "353 0.005839521065354347\n",
            "354 0.0056283664889633656\n",
            "355 0.005423940718173981\n",
            "356 0.005225925240665674\n",
            "357 0.005040551535785198\n",
            "358 0.0048529114574193954\n",
            "359 0.004686018452048302\n",
            "360 0.004516961984336376\n",
            "361 0.004356673453003168\n",
            "362 0.0042050485499203205\n",
            "363 0.0040498217567801476\n",
            "364 0.003912440035492182\n",
            "365 0.0037701413966715336\n",
            "366 0.00363804679363966\n",
            "367 0.003511096118018031\n",
            "368 0.003390261670574546\n",
            "369 0.003273789770901203\n",
            "370 0.0031603388488292694\n",
            "371 0.0030543217435479164\n",
            "372 0.0029493009205907583\n",
            "373 0.0028468165546655655\n",
            "374 0.002751313615590334\n",
            "375 0.002656200435012579\n",
            "376 0.0025711189955472946\n",
            "377 0.002484438940882683\n",
            "378 0.0024004383012652397\n",
            "379 0.0023215115070343018\n",
            "380 0.002240917645394802\n",
            "381 0.0021710130386054516\n",
            "382 0.002098690951243043\n",
            "383 0.002028952818363905\n",
            "384 0.0019665840081870556\n",
            "385 0.0019007158698514104\n",
            "386 0.0018453551456332207\n",
            "387 0.0017842852976173162\n",
            "388 0.0017261102329939604\n",
            "389 0.0016743435990065336\n",
            "390 0.0016182849649339914\n",
            "391 0.0015683291712775826\n",
            "392 0.0015192939899861813\n",
            "393 0.0014726066729053855\n",
            "394 0.0014282052870839834\n",
            "395 0.0013840547762811184\n",
            "396 0.0013440937036648393\n",
            "397 0.0013047622051090002\n",
            "398 0.0012653818121179938\n",
            "399 0.0012252364540472627\n",
            "400 0.00119068066123873\n",
            "401 0.0011562583968043327\n",
            "402 0.0011225963244214654\n",
            "403 0.001090761972591281\n",
            "404 0.0010580235393717885\n",
            "405 0.0010267611360177398\n",
            "406 0.0009989258833229542\n",
            "407 0.0009696157649159431\n",
            "408 0.0009414092637598515\n",
            "409 0.0009151007398031652\n",
            "410 0.0008892161422409117\n",
            "411 0.0008637052378617227\n",
            "412 0.0008401884697377682\n",
            "413 0.0008180036093108356\n",
            "414 0.0007945357356220484\n",
            "415 0.0007723625749349594\n",
            "416 0.0007530020084232092\n",
            "417 0.0007322020828723907\n",
            "418 0.0007126498967409134\n",
            "419 0.0006942579057067633\n",
            "420 0.0006778090028092265\n",
            "421 0.0006599585176445544\n",
            "422 0.0006429122295230627\n",
            "423 0.000625423330347985\n",
            "424 0.0006106166401877999\n",
            "425 0.0005934932851232588\n",
            "426 0.0005799642531201243\n",
            "427 0.0005643158801831305\n",
            "428 0.0005506080342456698\n",
            "429 0.000536107923835516\n",
            "430 0.0005244456697255373\n",
            "431 0.0005114423693157732\n",
            "432 0.0004995018825866282\n",
            "433 0.0004858316096942872\n",
            "434 0.0004744005564134568\n",
            "435 0.00046350446064025164\n",
            "436 0.00045244372449815273\n",
            "437 0.0004421757475938648\n",
            "438 0.00043121835915371776\n",
            "439 0.000420881318859756\n",
            "440 0.00041192997014150023\n",
            "441 0.0004025086236651987\n",
            "442 0.00039378361543640494\n",
            "443 0.00038434192538261414\n",
            "444 0.000376084353774786\n",
            "445 0.0003665301774162799\n",
            "446 0.0003593447618186474\n",
            "447 0.000352262519299984\n",
            "448 0.0003444190660957247\n",
            "449 0.00033593439729884267\n",
            "450 0.0003294347261544317\n",
            "451 0.0003217240737285465\n",
            "452 0.00031500885961577296\n",
            "453 0.00030831381445750594\n",
            "454 0.00030137348221614957\n",
            "455 0.0002957535907626152\n",
            "456 0.0002897282538469881\n",
            "457 0.00028362462762743235\n",
            "458 0.0002771583094727248\n",
            "459 0.0002720808261074126\n",
            "460 0.000266797753283754\n",
            "461 0.0002606853668112308\n",
            "462 0.0002552588121034205\n",
            "463 0.00025103994994424284\n",
            "464 0.00024606127408333123\n",
            "465 0.00024157662119250745\n",
            "466 0.00023598047846462578\n",
            "467 0.00023162821889854968\n",
            "468 0.00022691649792250246\n",
            "469 0.00022285191516857594\n",
            "470 0.00021929525246378034\n",
            "471 0.00021498437854461372\n",
            "472 0.00021060652215965092\n",
            "473 0.0002068094618152827\n",
            "474 0.00020335399312898517\n",
            "475 0.00019986792176496238\n",
            "476 0.0001963512331712991\n",
            "477 0.00019212582265026867\n",
            "478 0.00018868848565034568\n",
            "479 0.0001854178262874484\n",
            "480 0.00018198507314082235\n",
            "481 0.00017932557966560125\n",
            "482 0.00017603243759367615\n",
            "483 0.00017274146375712007\n",
            "484 0.00016899273032322526\n",
            "485 0.00016625956050120294\n",
            "486 0.00016347132623195648\n",
            "487 0.0001606013101991266\n",
            "488 0.00015743263065814972\n",
            "489 0.0001556184870423749\n",
            "490 0.00015342737606260926\n",
            "491 0.00015042626182548702\n",
            "492 0.0001484672393416986\n",
            "493 0.00014573990483768284\n",
            "494 0.00014257778821047395\n",
            "495 0.00014073736383579671\n",
            "496 0.00013823861081618816\n",
            "497 0.00013645955186802894\n",
            "498 0.00013447419041767716\n",
            "499 0.0001322030439041555\n"
          ],
          "name": "stdout"
        }
      ]
    },
    {
      "cell_type": "markdown",
      "metadata": {
        "id": "ycwxAPHZLNST",
        "colab_type": "text"
      },
      "source": [
        "\n",
        "\n",
        "---\n",
        "## Question 12\n",
        "\n",
        "In the code above, why do we have 2 in '2.0*(y_pred - y)`?\n",
        "\n",
        "## Question 13\n",
        "In the code above, what does `grad_h[h < 0] = 0` signify?\n",
        "\n",
        "## Question 14\n",
        "In the code above, how many \"epochs\" have we trained the model for? \n",
        "\n",
        "## Question 15\n",
        "In the code above, if we take the trained model, and run it on fresh  inputs, the trained model will be able to predict fresh output with high accuracy. \n",
        "\n",
        "## Question 16\n",
        "In the code above, if we dont use clone in `grad_h = grad_h_relu.clone()` the model will still train without any issues. "
      ]
    },
    {
      "cell_type": "code",
      "metadata": {
        "id": "PnJ49I07JJI6",
        "colab_type": "code",
        "colab": {}
      },
      "source": [
        ""
      ],
      "execution_count": 0,
      "outputs": []
    }
  ]
}
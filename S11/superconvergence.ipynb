{
  "nbformat": 4,
  "nbformat_minor": 0,
  "metadata": {
    "kernelspec": {
      "name": "python3",
      "display_name": "Python 3"
    },
    "language_info": {
      "codemirror_mode": {
        "name": "ipython",
        "version": 3
      },
      "file_extension": ".py",
      "mimetype": "text/x-python",
      "name": "python",
      "nbconvert_exporter": "python",
      "pygments_lexer": "ipython3",
      "version": "3.6.6"
    },
    "colab": {
      "name": "superconvergence.ipynb",
      "provenance": [],
      "toc_visible": true,
      "include_colab_link": true
    },
    "accelerator": "GPU"
  },
  "cells": [
    {
      "cell_type": "markdown",
      "metadata": {
        "id": "view-in-github",
        "colab_type": "text"
      },
      "source": [
        "<a href=\"https://colab.research.google.com/github/anuragal/deep-learning/blob/master/S11/superconvergence.ipynb\" target=\"_parent\"><img src=\"https://colab.research.google.com/assets/colab-badge.svg\" alt=\"Open In Colab\"/></a>"
      ]
    },
    {
      "cell_type": "markdown",
      "metadata": {
        "id": "szEZ-AwCdEER",
        "colab_type": "text"
      },
      "source": [
        "## Cyclic Curve"
      ]
    },
    {
      "cell_type": "code",
      "metadata": {
        "id": "HlG6TJcwi23v",
        "colab_type": "code",
        "colab": {}
      },
      "source": [
        "from cycliclr import plot_cyclic_curve\n",
        "\n",
        "iterations = 10010\n",
        "stepsize = 1000\n",
        "lr_min = 0.08\n",
        "lr_max = 0.8\n",
        "\n",
        "plot_cyclic_curve(iterations, stepsize, lr_min, lr_max)"
      ],
      "execution_count": 0,
      "outputs": []
    },
    {
      "cell_type": "markdown",
      "metadata": {
        "id": "l7LKzevcivPw",
        "colab_type": "text"
      },
      "source": [
        "## Model"
      ]
    },
    {
      "cell_type": "code",
      "metadata": {
        "id": "ye3wHlAvdI9h",
        "colab_type": "code",
        "colab": {}
      },
      "source": [
        "!pip install albumentations==0.4.5\n",
        "\n",
        "import torch\n",
        "import torch.nn as nn\n",
        "import torch.nn.functional as F\n",
        "\n",
        "!pip install torchsummary\n",
        "from torchsummary import summary\n",
        "\n",
        "from models.S11model import S11Cifar10DNN\n",
        "\n",
        "use_cuda = torch.cuda.is_available()\n",
        "device = torch.device(\"cuda\" if use_cuda else \"cpu\")\n",
        "print(device)\n",
        "model = S11Cifar10DNN().to(device)\n",
        "summary(model, input_size=(3, 32, 32))"
      ],
      "execution_count": 0,
      "outputs": []
    },
    {
      "cell_type": "markdown",
      "metadata": {
        "id": "YLrvL_fHpoC5",
        "colab_type": "text"
      },
      "source": [
        "## Run the Model"
      ]
    },
    {
      "cell_type": "code",
      "metadata": {
        "id": "YWIDUH8Dhonl",
        "colab_type": "code",
        "colab": {}
      },
      "source": [
        "%matplotlib inline"
      ],
      "execution_count": 0,
      "outputs": []
    },
    {
      "cell_type": "code",
      "metadata": {
        "id": "nizbsvw9poC6",
        "colab_type": "code",
        "colab": {}
      },
      "source": [
        "import torch.nn as nn\n",
        "\n",
        "from dataloader import ImageData\n",
        "from models.resnet18 import ResNet18\n",
        "from datamodel import DataModel\n",
        "from optimizer import OptimizerFactory\n",
        "\n",
        "from torch.optim.lr_scheduler import ReduceLROnPlateau\n",
        "\n",
        "# Loading data and transforming it\n",
        "img_data = ImageData()\n",
        "\n",
        "# Choose from \"albumentations\" or \"pytorch\". Default is \"pytorch\"\n",
        "img_data.load(\"albumentations\")\n",
        "\n",
        "criterion = nn.CrossEntropyLoss()\n",
        "\n",
        "# optimizer can be choose from \"SGD\" & \"Adam\"\n",
        "optim_sgd = OptimizerFactory(\"SGD\")\n",
        "optimizer = optim_sgd.load(params=model.parameters(), lr=0.01, momentum=0.9, weight_decay=5e-4)\n",
        "\n",
        "scheduler = ReduceLROnPlateau(optimizer, mode='min')\n",
        "\n",
        "# training the dataset and then running test\n",
        "dm = DataModel(img_data, criterion, optimizer, scheduler, num_of_epochs = 50, cal_misclassified = True)\n",
        "dm.run_model(model, device)"
      ],
      "execution_count": 0,
      "outputs": []
    },
    {
      "cell_type": "markdown",
      "metadata": {
        "id": "tE6VsvyHYPCU",
        "colab_type": "text"
      },
      "source": [
        "## Plotting Test & Train Accuracy"
      ]
    },
    {
      "cell_type": "code",
      "metadata": {
        "id": "F2H9sm2BYS6y",
        "colab_type": "code",
        "colab": {}
      },
      "source": [
        "dm.plot_test_train_accuracy()"
      ],
      "execution_count": 0,
      "outputs": []
    },
    {
      "cell_type": "markdown",
      "metadata": {
        "id": "avY9ZjqcgjMA",
        "colab_type": "text"
      },
      "source": [
        "## Plotting Validation Accuracy"
      ]
    },
    {
      "cell_type": "code",
      "metadata": {
        "id": "QX5FhD-egnxD",
        "colab_type": "code",
        "colab": {}
      },
      "source": [
        "dm.plot_loss_accuracy()"
      ],
      "execution_count": 0,
      "outputs": []
    },
    {
      "cell_type": "markdown",
      "metadata": {
        "id": "-aLK2qD2YgUn",
        "colab_type": "text"
      },
      "source": [
        "## Plotting Misclassified Images"
      ]
    },
    {
      "cell_type": "code",
      "metadata": {
        "id": "ry7CIIebYly2",
        "colab_type": "code",
        "colab": {}
      },
      "source": [
        "dm.plot_misclassified()"
      ],
      "execution_count": 0,
      "outputs": []
    },
    {
      "cell_type": "code",
      "metadata": {
        "id": "3iPs0atTg6bQ",
        "colab_type": "code",
        "colab": {}
      },
      "source": [
        "dm.plot_GRADcam([\"layer1\",\"layer2\",\"layer3\",\"layer4\"])"
      ],
      "execution_count": 0,
      "outputs": []
    },
    {
      "cell_type": "markdown",
      "metadata": {
        "id": "QRtzpMhbN5An",
        "colab_type": "text"
      },
      "source": [
        "## Plot LR FInder"
      ]
    },
    {
      "cell_type": "code",
      "metadata": {
        "id": "5I7JdrKXN8WO",
        "colab_type": "code",
        "colab": {}
      },
      "source": [
        "from lrfinder import LRFinder\n",
        "\n",
        "lr_finder = LRFinder(model, optimizer, criterion, device)\n",
        "lr_finder.range_test(img_data.trainloader, val_loader=img_data.testloader, end_lr=100, num_iter=100, step_mode=\"exp\")\n",
        "lr_finder.plot(skip_end=0)\n"
      ],
      "execution_count": 0,
      "outputs": []
    }
  ]
}
